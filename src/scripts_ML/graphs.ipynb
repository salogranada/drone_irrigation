{
 "cells": [
  {
   "cell_type": "code",
   "execution_count": 1,
   "metadata": {},
   "outputs": [],
   "source": [
    "import numpy as np\n",
    "import matplotlib.pyplot as plt\n",
    "import pandas as pd"
   ]
  },
  {
   "cell_type": "code",
   "execution_count": 3,
   "metadata": {},
   "outputs": [
    {
     "data": {
      "text/html": [
       "<div>\n",
       "<style scoped>\n",
       "    .dataframe tbody tr th:only-of-type {\n",
       "        vertical-align: middle;\n",
       "    }\n",
       "\n",
       "    .dataframe tbody tr th {\n",
       "        vertical-align: top;\n",
       "    }\n",
       "\n",
       "    .dataframe thead th {\n",
       "        text-align: right;\n",
       "    }\n",
       "</style>\n",
       "<table border=\"1\" class=\"dataframe\">\n",
       "  <thead>\n",
       "    <tr style=\"text-align: right;\">\n",
       "      <th></th>\n",
       "      <th>Unnamed: 0</th>\n",
       "      <th>path_num</th>\n",
       "      <th>missing_points</th>\n",
       "      <th>teo_point_time</th>\n",
       "      <th>sim_drone_time</th>\n",
       "      <th>teo_point_dist</th>\n",
       "      <th>teo_Xdist</th>\n",
       "      <th>teo_Ydist</th>\n",
       "      <th>teo_point_vel</th>\n",
       "      <th>Energy</th>\n",
       "    </tr>\n",
       "  </thead>\n",
       "  <tbody>\n",
       "    <tr>\n",
       "      <th>0</th>\n",
       "      <td>0</td>\n",
       "      <td>1</td>\n",
       "      <td>4</td>\n",
       "      <td>65</td>\n",
       "      <td>63.150002</td>\n",
       "      <td>5.099020</td>\n",
       "      <td>5</td>\n",
       "      <td>-1</td>\n",
       "      <td>0.078446</td>\n",
       "      <td>5.181615e+08</td>\n",
       "    </tr>\n",
       "    <tr>\n",
       "      <th>1</th>\n",
       "      <td>1</td>\n",
       "      <td>1</td>\n",
       "      <td>3</td>\n",
       "      <td>139</td>\n",
       "      <td>135.399994</td>\n",
       "      <td>12.041595</td>\n",
       "      <td>-12</td>\n",
       "      <td>-1</td>\n",
       "      <td>0.086630</td>\n",
       "      <td>4.642819e+08</td>\n",
       "    </tr>\n",
       "    <tr>\n",
       "      <th>2</th>\n",
       "      <td>2</td>\n",
       "      <td>1</td>\n",
       "      <td>2</td>\n",
       "      <td>127</td>\n",
       "      <td>122.650024</td>\n",
       "      <td>12.041595</td>\n",
       "      <td>12</td>\n",
       "      <td>-1</td>\n",
       "      <td>0.094816</td>\n",
       "      <td>6.968448e+07</td>\n",
       "    </tr>\n",
       "    <tr>\n",
       "      <th>3</th>\n",
       "      <td>3</td>\n",
       "      <td>1</td>\n",
       "      <td>1</td>\n",
       "      <td>115</td>\n",
       "      <td>114.049988</td>\n",
       "      <td>12.041595</td>\n",
       "      <td>-12</td>\n",
       "      <td>-1</td>\n",
       "      <td>0.104710</td>\n",
       "      <td>1.028260e+08</td>\n",
       "    </tr>\n",
       "    <tr>\n",
       "      <th>4</th>\n",
       "      <td>4</td>\n",
       "      <td>1</td>\n",
       "      <td>0</td>\n",
       "      <td>118</td>\n",
       "      <td>118.099976</td>\n",
       "      <td>14.422205</td>\n",
       "      <td>12</td>\n",
       "      <td>8</td>\n",
       "      <td>0.122222</td>\n",
       "      <td>1.330626e+08</td>\n",
       "    </tr>\n",
       "    <tr>\n",
       "      <th>...</th>\n",
       "      <td>...</td>\n",
       "      <td>...</td>\n",
       "      <td>...</td>\n",
       "      <td>...</td>\n",
       "      <td>...</td>\n",
       "      <td>...</td>\n",
       "      <td>...</td>\n",
       "      <td>...</td>\n",
       "      <td>...</td>\n",
       "      <td>...</td>\n",
       "    </tr>\n",
       "    <tr>\n",
       "      <th>2207</th>\n",
       "      <td>2207</td>\n",
       "      <td>193</td>\n",
       "      <td>1</td>\n",
       "      <td>44</td>\n",
       "      <td>99.099976</td>\n",
       "      <td>4.242641</td>\n",
       "      <td>3</td>\n",
       "      <td>3</td>\n",
       "      <td>0.096424</td>\n",
       "      <td>1.918315e+07</td>\n",
       "    </tr>\n",
       "    <tr>\n",
       "      <th>2208</th>\n",
       "      <td>2208</td>\n",
       "      <td>193</td>\n",
       "      <td>0</td>\n",
       "      <td>55</td>\n",
       "      <td>130.650146</td>\n",
       "      <td>1.000000</td>\n",
       "      <td>0</td>\n",
       "      <td>-1</td>\n",
       "      <td>0.018182</td>\n",
       "      <td>3.345786e+07</td>\n",
       "    </tr>\n",
       "    <tr>\n",
       "      <th>2209</th>\n",
       "      <td>2209</td>\n",
       "      <td>194</td>\n",
       "      <td>9</td>\n",
       "      <td>40</td>\n",
       "      <td>89.700005</td>\n",
       "      <td>3.162278</td>\n",
       "      <td>3</td>\n",
       "      <td>-1</td>\n",
       "      <td>0.079057</td>\n",
       "      <td>1.003411e+07</td>\n",
       "    </tr>\n",
       "    <tr>\n",
       "      <th>2210</th>\n",
       "      <td>2210</td>\n",
       "      <td>194</td>\n",
       "      <td>8</td>\n",
       "      <td>46</td>\n",
       "      <td>104.249969</td>\n",
       "      <td>3.000000</td>\n",
       "      <td>-3</td>\n",
       "      <td>0</td>\n",
       "      <td>0.065217</td>\n",
       "      <td>1.449699e+07</td>\n",
       "    </tr>\n",
       "    <tr>\n",
       "      <th>2211</th>\n",
       "      <td>2211</td>\n",
       "      <td>194</td>\n",
       "      <td>7</td>\n",
       "      <td>48</td>\n",
       "      <td>40.500000</td>\n",
       "      <td>2.236068</td>\n",
       "      <td>2</td>\n",
       "      <td>1</td>\n",
       "      <td>0.046585</td>\n",
       "      <td>2.997946e+06</td>\n",
       "    </tr>\n",
       "  </tbody>\n",
       "</table>\n",
       "<p>2212 rows × 10 columns</p>\n",
       "</div>"
      ],
      "text/plain": [
       "      Unnamed: 0  path_num  missing_points  teo_point_time  sim_drone_time  \\\n",
       "0              0         1               4              65       63.150002   \n",
       "1              1         1               3             139      135.399994   \n",
       "2              2         1               2             127      122.650024   \n",
       "3              3         1               1             115      114.049988   \n",
       "4              4         1               0             118      118.099976   \n",
       "...          ...       ...             ...             ...             ...   \n",
       "2207        2207       193               1              44       99.099976   \n",
       "2208        2208       193               0              55      130.650146   \n",
       "2209        2209       194               9              40       89.700005   \n",
       "2210        2210       194               8              46      104.249969   \n",
       "2211        2211       194               7              48       40.500000   \n",
       "\n",
       "      teo_point_dist  teo_Xdist  teo_Ydist  teo_point_vel        Energy  \n",
       "0           5.099020          5         -1       0.078446  5.181615e+08  \n",
       "1          12.041595        -12         -1       0.086630  4.642819e+08  \n",
       "2          12.041595         12         -1       0.094816  6.968448e+07  \n",
       "3          12.041595        -12         -1       0.104710  1.028260e+08  \n",
       "4          14.422205         12          8       0.122222  1.330626e+08  \n",
       "...              ...        ...        ...            ...           ...  \n",
       "2207        4.242641          3          3       0.096424  1.918315e+07  \n",
       "2208        1.000000          0         -1       0.018182  3.345786e+07  \n",
       "2209        3.162278          3         -1       0.079057  1.003411e+07  \n",
       "2210        3.000000         -3          0       0.065217  1.449699e+07  \n",
       "2211        2.236068          2          1       0.046585  2.997946e+06  \n",
       "\n",
       "[2212 rows x 10 columns]"
      ]
     },
     "execution_count": 3,
     "metadata": {},
     "output_type": "execute_result"
    }
   ],
   "source": [
    "energy_df = pd.read_csv('../data_base/paths_energy/joined_energy_pcs.csv', sep=\",\")\n",
    "energy_df\n",
    "reduced_df = energy_df[['Energy']]\n",
    "time_cumsum_df = energy_df['teo_point_time'].cumsum()\n",
    "time_cumsum_df = energy_df['Energy'].cumsum()\n",
    "#energy_df['Total_time'] = time_cumsum_df\n",
    "energy_df"
   ]
  },
  {
   "cell_type": "code",
   "execution_count": 8,
   "metadata": {},
   "outputs": [
    {
     "data": {
      "text/plain": [
       "<AxesSubplot:xlabel='teo_point_time'>"
      ]
     },
     "execution_count": 8,
     "metadata": {},
     "output_type": "execute_result"
    },
    {
     "data": {
      "image/png": "[encoded data removed]",
      "text/plain": [
       "<Figure size 432x288 with 1 Axes>"
      ]
     },
     "metadata": {},
     "output_type": "display_data"
    }
   ],
   "source": [
    "energy_df.plot(x='teo_point_time', y='Energy', style='o')\n",
    "time_cumsum_df.plot(x='teo_point_time', y='Energy', style='o')"
   ]
  },
  {
   "cell_type": "code",
   "execution_count": 5,
   "metadata": {},
   "outputs": [
    {
     "data": {
      "text/plain": [
       "<AxesSubplot:ylabel='Frequency'>"
      ]
     },
     "execution_count": 5,
     "metadata": {},
     "output_type": "execute_result"
    },
    {
     "data": {
      "image/png": "[encoded data removed]",
      "text/plain": [
       "<Figure size 432x288 with 1 Axes>"
      ]
     },
     "metadata": {},
     "output_type": "display_data"
    }
   ],
   "source": [
    "reduced_df.plot.hist(bins=50)"
   ]
  },
  {
   "cell_type": "code",
   "execution_count": 7,
   "metadata": {},
   "outputs": [
    {
     "data": {
      "image/png": "[encoded data removed]",
      "text/plain": [
       "<Figure size 432x288 with 1 Axes>"
      ]
     },
     "metadata": {},
     "output_type": "display_data"
    }
   ],
   "source": [
    "plt.scatter(energy_df['teo_point_time'], energy_df['Energy'])\n",
    "plt.show() "
   ]
  },
  {
   "cell_type": "code",
   "execution_count": null,
   "metadata": {},
   "outputs": [],
   "source": []
  }
 ],
 "metadata": {
  "interpreter": {
   "hash": "df0893f56f349688326838aaeea0de204df53a132722cbd565e54b24a8fec5f6"
  },
  "kernelspec": {
   "display_name": "Python 3.8.12 64-bit",
   "language": "python",
   "name": "python3"
  },
  "language_info": {
   "codemirror_mode": {
    "name": "ipython",
    "version": 3
   },
   "file_extension": ".py",
   "mimetype": "text/x-python",
   "name": "python",
   "nbconvert_exporter": "python",
   "pygments_lexer": "ipython3",
   "version": "3.6.9"
  },
  "orig_nbformat": 4
 },
 "nbformat": 4,
 "nbformat_minor": 2
}
