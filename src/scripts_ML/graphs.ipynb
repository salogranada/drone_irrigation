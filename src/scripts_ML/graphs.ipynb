{
 "cells": [
  {
   "cell_type": "code",
   "execution_count": 27,
   "metadata": {},
   "outputs": [],
   "source": [
    "import numpy as np\n",
    "import matplotlib.pyplot as plt\n",
    "import pandas as pd"
   ]
  },
  {
   "cell_type": "code",
   "execution_count": 40,
   "metadata": {},
   "outputs": [
    {
     "data": {
      "text/html": [
       "<div>\n",
       "<style scoped>\n",
       "    .dataframe tbody tr th:only-of-type {\n",
       "        vertical-align: middle;\n",
       "    }\n",
       "\n",
       "    .dataframe tbody tr th {\n",
       "        vertical-align: top;\n",
       "    }\n",
       "\n",
       "    .dataframe thead th {\n",
       "        text-align: right;\n",
       "    }\n",
       "</style>\n",
       "<table border=\"1\" class=\"dataframe\">\n",
       "  <thead>\n",
       "    <tr style=\"text-align: right;\">\n",
       "      <th></th>\n",
       "      <th>path_num</th>\n",
       "      <th>points</th>\n",
       "      <th>times</th>\n",
       "      <th>Energy</th>\n",
       "      <th>total_dist</th>\n",
       "      <th>Total_time</th>\n",
       "      <th>avg_path_vel</th>\n",
       "    </tr>\n",
       "  </thead>\n",
       "  <tbody>\n",
       "    <tr>\n",
       "      <th>0</th>\n",
       "      <td>1</td>\n",
       "      <td>5,4,1;5,-4,1;5,3,1;-5,-3,1;-4,-2,1;3,-1,1;3,0,...</td>\n",
       "      <td>89,60,77,71,101,71,97,102</td>\n",
       "      <td>1.387320e+09</td>\n",
       "      <td>48.550309</td>\n",
       "      <td>668</td>\n",
       "      <td>0.072680</td>\n",
       "    </tr>\n",
       "    <tr>\n",
       "      <th>1</th>\n",
       "      <td>2</td>\n",
       "      <td>-3,0,1;-1,0,1;0,-2,1;1,0,1;1,-2,1;-1,0,1;0,2,1</td>\n",
       "      <td>93,74,106,97,95,81,103</td>\n",
       "      <td>2.824263e+08</td>\n",
       "      <td>16.536631</td>\n",
       "      <td>649</td>\n",
       "      <td>0.025480</td>\n",
       "    </tr>\n",
       "    <tr>\n",
       "      <th>2</th>\n",
       "      <td>3</td>\n",
       "      <td>0,2,1;1,-4,1;-2,-3,1;-1,-1,1;0,1,1;1,-1,1;-2,0,1</td>\n",
       "      <td>50,111,92,76,112,107,70</td>\n",
       "      <td>7.128605e+08</td>\n",
       "      <td>21.115522</td>\n",
       "      <td>618</td>\n",
       "      <td>0.034168</td>\n",
       "    </tr>\n",
       "    <tr>\n",
       "      <th>3</th>\n",
       "      <td>4</td>\n",
       "      <td>-2,0,1;0,-2,1;1,0,1;-3,2,1;0,3,1;0,-3,1;-2,0,1...</td>\n",
       "      <td>82,74,87,90,51,105,82,111</td>\n",
       "      <td>5.359690e+09</td>\n",
       "      <td>27.132887</td>\n",
       "      <td>682</td>\n",
       "      <td>0.039784</td>\n",
       "    </tr>\n",
       "    <tr>\n",
       "      <th>4</th>\n",
       "      <td>5</td>\n",
       "      <td>0,-2,1;-1,0,1;0,0,1;2,1,1;-4,3,1;-3,-3,1;0,0,1</td>\n",
       "      <td>114,105,111,80,95,82,90</td>\n",
       "      <td>8.391478e+08</td>\n",
       "      <td>24.122094</td>\n",
       "      <td>677</td>\n",
       "      <td>0.035631</td>\n",
       "    </tr>\n",
       "    <tr>\n",
       "      <th>...</th>\n",
       "      <td>...</td>\n",
       "      <td>...</td>\n",
       "      <td>...</td>\n",
       "      <td>...</td>\n",
       "      <td>...</td>\n",
       "      <td>...</td>\n",
       "      <td>...</td>\n",
       "    </tr>\n",
       "    <tr>\n",
       "      <th>478</th>\n",
       "      <td>479</td>\n",
       "      <td>-1,0,1;1,1,1;-2,-3,1;1,1,1;-1,-1,1;-1,0,1;0,0,1</td>\n",
       "      <td>117,95,76,94,107,73,93</td>\n",
       "      <td>1.227507e+09</td>\n",
       "      <td>18.064495</td>\n",
       "      <td>655</td>\n",
       "      <td>0.027579</td>\n",
       "    </tr>\n",
       "    <tr>\n",
       "      <th>479</th>\n",
       "      <td>480</td>\n",
       "      <td>0,0,1;0,1,1;1,2,1;-1,2,1;0,2,1;1,4,1;2,4,1;-3,4,1</td>\n",
       "      <td>96,54,95,56,116,67,84,113</td>\n",
       "      <td>5.396977e+08</td>\n",
       "      <td>13.650282</td>\n",
       "      <td>681</td>\n",
       "      <td>0.020044</td>\n",
       "    </tr>\n",
       "    <tr>\n",
       "      <th>480</th>\n",
       "      <td>481</td>\n",
       "      <td>-3,4,1;0,-4,1;2,3,1;-2,3,1;1,-4,1;1,1,1;-2,2,1...</td>\n",
       "      <td>53,65,66,65,108,83,75,58,114</td>\n",
       "      <td>2.264574e+09</td>\n",
       "      <td>50.472646</td>\n",
       "      <td>687</td>\n",
       "      <td>0.073468</td>\n",
       "    </tr>\n",
       "    <tr>\n",
       "      <th>481</th>\n",
       "      <td>482</td>\n",
       "      <td>-2,-3,1;0,-1,1;-1,1,1;0,3,1;-2,-4,1;0,-1,1;0,-...</td>\n",
       "      <td>71,66,53,59,109,89,50,86,79</td>\n",
       "      <td>1.021360e+09</td>\n",
       "      <td>25.205989</td>\n",
       "      <td>662</td>\n",
       "      <td>0.038076</td>\n",
       "    </tr>\n",
       "    <tr>\n",
       "      <th>482</th>\n",
       "      <td>483</td>\n",
       "      <td>3,0,1;3,-1,1;-5,1,1;4,3,1;-4,5,1;2,-5,1;2,-4,1...</td>\n",
       "      <td>76,68,54,100,117,56,112,63</td>\n",
       "      <td>1.091192e+10</td>\n",
       "      <td>49.444939</td>\n",
       "      <td>646</td>\n",
       "      <td>0.076540</td>\n",
       "    </tr>\n",
       "  </tbody>\n",
       "</table>\n",
       "<p>483 rows × 7 columns</p>\n",
       "</div>"
      ],
      "text/plain": [
       "     path_num                                             points  \\\n",
       "0           1  5,4,1;5,-4,1;5,3,1;-5,-3,1;-4,-2,1;3,-1,1;3,0,...   \n",
       "1           2     -3,0,1;-1,0,1;0,-2,1;1,0,1;1,-2,1;-1,0,1;0,2,1   \n",
       "2           3   0,2,1;1,-4,1;-2,-3,1;-1,-1,1;0,1,1;1,-1,1;-2,0,1   \n",
       "3           4  -2,0,1;0,-2,1;1,0,1;-3,2,1;0,3,1;0,-3,1;-2,0,1...   \n",
       "4           5     0,-2,1;-1,0,1;0,0,1;2,1,1;-4,3,1;-3,-3,1;0,0,1   \n",
       "..        ...                                                ...   \n",
       "478       479    -1,0,1;1,1,1;-2,-3,1;1,1,1;-1,-1,1;-1,0,1;0,0,1   \n",
       "479       480  0,0,1;0,1,1;1,2,1;-1,2,1;0,2,1;1,4,1;2,4,1;-3,4,1   \n",
       "480       481  -3,4,1;0,-4,1;2,3,1;-2,3,1;1,-4,1;1,1,1;-2,2,1...   \n",
       "481       482  -2,-3,1;0,-1,1;-1,1,1;0,3,1;-2,-4,1;0,-1,1;0,-...   \n",
       "482       483  3,0,1;3,-1,1;-5,1,1;4,3,1;-4,5,1;2,-5,1;2,-4,1...   \n",
       "\n",
       "                            times        Energy  total_dist  Total_time  \\\n",
       "0       89,60,77,71,101,71,97,102  1.387320e+09   48.550309         668   \n",
       "1          93,74,106,97,95,81,103  2.824263e+08   16.536631         649   \n",
       "2         50,111,92,76,112,107,70  7.128605e+08   21.115522         618   \n",
       "3       82,74,87,90,51,105,82,111  5.359690e+09   27.132887         682   \n",
       "4         114,105,111,80,95,82,90  8.391478e+08   24.122094         677   \n",
       "..                            ...           ...         ...         ...   \n",
       "478        117,95,76,94,107,73,93  1.227507e+09   18.064495         655   \n",
       "479     96,54,95,56,116,67,84,113  5.396977e+08   13.650282         681   \n",
       "480  53,65,66,65,108,83,75,58,114  2.264574e+09   50.472646         687   \n",
       "481   71,66,53,59,109,89,50,86,79  1.021360e+09   25.205989         662   \n",
       "482    76,68,54,100,117,56,112,63  1.091192e+10   49.444939         646   \n",
       "\n",
       "     avg_path_vel  \n",
       "0        0.072680  \n",
       "1        0.025480  \n",
       "2        0.034168  \n",
       "3        0.039784  \n",
       "4        0.035631  \n",
       "..            ...  \n",
       "478      0.027579  \n",
       "479      0.020044  \n",
       "480      0.073468  \n",
       "481      0.038076  \n",
       "482      0.076540  \n",
       "\n",
       "[483 rows x 7 columns]"
      ]
     },
     "execution_count": 40,
     "metadata": {},
     "output_type": "execute_result"
    }
   ],
   "source": [
    "energy_df = pd.read_csv('../data_base/paths_energy/paths_energy_2000_totales_salo.csv', sep=\",\")\n",
    "energy_df\n",
    "reduced_df = energy_df[['Energy']]\n",
    "time_cumsum_df = energy_df['Total_time'].cumsum()\n",
    "#energy_df['Total_time'] = time_cumsum_df\n",
    "energy_df"
   ]
  },
  {
   "cell_type": "code",
   "execution_count": 41,
   "metadata": {},
   "outputs": [
    {
     "data": {
      "text/plain": [
       "<AxesSubplot:xlabel='Total_time'>"
      ]
     },
     "execution_count": 41,
     "metadata": {},
     "output_type": "execute_result"
    },
    {
     "data": {
      "image/png": "[encoded data removed]",
      "text/plain": [
       "<Figure size 432x288 with 1 Axes>"
      ]
     },
     "metadata": {},
     "output_type": "display_data"
    }
   ],
   "source": [
    "energy_df.plot(x='Total_time', y='Energy', style='o')"
   ]
  },
  {
   "cell_type": "code",
   "execution_count": 30,
   "metadata": {},
   "outputs": [
    {
     "data": {
      "text/plain": [
       "<AxesSubplot:ylabel='Frequency'>"
      ]
     },
     "execution_count": 30,
     "metadata": {},
     "output_type": "execute_result"
    },
    {
     "data": {
      "image/png": "[encoded data removed]",
      "text/plain": [
       "<Figure size 432x288 with 1 Axes>"
      ]
     },
     "metadata": {},
     "output_type": "display_data"
    }
   ],
   "source": [
    "reduced_df.plot.hist(bins=50)"
   ]
  },
  {
   "cell_type": "code",
   "execution_count": 31,
   "metadata": {},
   "outputs": [
    {
     "data": {
      "image/png": "[encoded data removed]",
      "text/plain": [
       "<Figure size 432x288 with 1 Axes>"
      ]
     },
     "metadata": {},
     "output_type": "display_data"
    }
   ],
   "source": [
    "plt.scatter(energy_df['Total_time'], energy_df['Energy'])\n",
    "plt.show() "
   ]
  },
  {
   "cell_type": "code",
   "execution_count": null,
   "metadata": {},
   "outputs": [],
   "source": []
  }
 ],
 "metadata": {
  "interpreter": {
   "hash": "df0893f56f349688326838aaeea0de204df53a132722cbd565e54b24a8fec5f6"
  },
  "kernelspec": {
   "display_name": "Python 3.8.12 64-bit",
   "language": "python",
   "name": "python3"
  },
  "language_info": {
   "codemirror_mode": {
    "name": "ipython",
    "version": 3
   },
   "file_extension": ".py",
   "mimetype": "text/x-python",
   "name": "python",
   "nbconvert_exporter": "python",
   "pygments_lexer": "ipython3",
   "version": "3.6.9"
  },
  "orig_nbformat": 4
 },
 "nbformat": 4,
 "nbformat_minor": 2
}
