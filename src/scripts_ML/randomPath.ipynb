{
 "cells": [
  {
   "cell_type": "code",
   "execution_count": 1,
   "metadata": {},
   "outputs": [],
   "source": [
    "import numpy as np\n",
    "import matplotlib.pyplot as plt\n",
    "import random\n",
    "import math \n",
    "import pandas as pd"
   ]
  },
  {
   "cell_type": "code",
   "execution_count": 2,
   "metadata": {},
   "outputs": [
    {
     "name": "stdout",
     "output_type": "stream",
     "text": [
      "[ 89  80  60  73 116  81  56 119]\n"
     ]
    }
   ],
   "source": [
    "def random_val():\n",
    "    val = random.random()\n",
    "    num = 0\n",
    "    if val>0.5:\n",
    "        num = 1\n",
    "    else:\n",
    "        num = -1\n",
    "    return num\n",
    "\n",
    "\n",
    "def randomPath(maxTime,minTimePP,maxTimePP,maxDistance,lastCoor,sat_x,sat_y):\n",
    "    #maxTime = maximum time of one execution.\n",
    "    #minTimePP = minimum time between two points of the path.\n",
    "    #maxTimePP = maximum time between two points of the path.\n",
    "    #maxDistance = maximum distance between two points of the path.\n",
    "    #sat_x = maximum coordenate in x.\n",
    "    #sat_y = maximum coordenate in y.\n",
    "\n",
    "    time_array = np.array([],dtype=np.int32)\n",
    "    coor_path = np.array([lastCoor],dtype=np.int32).reshape((1,-1))\n",
    "    flag = False\n",
    "    while not flag:\n",
    "        num = int(random.uniform(minTimePP,maxTimePP))\n",
    "        if time_array.sum()+num >= maxTime:\n",
    "            flag = True \n",
    "        else:\n",
    "            time_array = np.append(time_array,num)\n",
    "    for i in range(len(time_array)):\n",
    "        if i == 0:\n",
    "            continue\n",
    "        else:\n",
    "            val_x = int(random.uniform(coor_path[i-1,0],coor_path[i-1,0]+maxDistance))\n",
    "            val_y = int(random.uniform(coor_path[i-1,1],coor_path[i-1,1]+maxDistance))\n",
    "            val_z = coor_path[0,2]\n",
    "\n",
    "            if abs(val_x) > sat_x:\n",
    "                val_x = math.copysign(sat_x,val_x)\n",
    "\n",
    "            if abs(val_y) > sat_y:\n",
    "                val_y = math.copysign(sat_y,val_y)\n",
    "\n",
    "            rand_x = random_val()\n",
    "            rand_y = random_val()\n",
    "\n",
    "            coor_path = np.append(coor_path,[[rand_x*val_x,rand_y*val_y,val_z]],axis=0)\n",
    "    return time_array,coor_path"
   ]
  },
  {
   "cell_type": "code",
   "execution_count": 4,
   "metadata": {},
   "outputs": [],
   "source": [
    "def cal_Total_Distance(pathArray):\n",
    "    distance_Total = 0\n",
    "    distance_Array = np.zeros(pathArray.shape[0])\n",
    "    for i in range(1,pathArray.shape[0]):\n",
    "        distance_Array[i-1] = np.linalg.norm(pathArray[i-1]-pathArray[i])\n",
    "    distance_Total = distance_Array.sum()\n",
    "        \n",
    "    return distance_Total,distance_Array\n",
    "\n",
    "def cal_Total_Turns(pathArray):\n",
    "    total_Turns = 0\n",
    "    flag_turn = np.zeros(pathArray.shape[0]-1)\n",
    "    for i in range(1,pathArray.shape[0]-1):\n",
    "        dot_val = np.dot(pathArray[i-1]-pathArray[i],pathArray[i+1]-pathArray[i])\n",
    "        mag_A = np.linalg.norm(pathArray[i-1]-pathArray[i])\n",
    "        mag_B = np.linalg.norm(pathArray[i+1]-pathArray[i])\n",
    "        fracc = dot_val/(np.dot(mag_A,mag_B)+1E-9)\n",
    "        #print(fracc)\n",
    "        flag = math.acos(fracc)\n",
    "        flag_turn[i-1] = flag\n",
    "        if flag != 0.0:\n",
    "            total_Turns+=1\n",
    "    return total_Turns\n"
   ]
  },
  {
   "cell_type": "code",
   "execution_count": 5,
   "metadata": {},
   "outputs": [
    {
     "name": "stdout",
     "output_type": "stream",
     "text": [
      "1|[5 4 3];[ 5 -5  3];[-5  4  3];[ 3 -4  3];[-4  1  3];[ 1 -2  3];[-1  0  3];[0 0 3];|89,80,60,73,116,81,56,119\n"
     ]
    }
   ],
   "source": [
    "def changeToTxt(pathArr,timeArr,idx):\n",
    "    time = ''\n",
    "    path = ''\n",
    "    for i in timeArr:\n",
    "        time =  time + str(i) + ','\n",
    "\n",
    "    for i in pathArr:\n",
    "        path = path + str(i) + ';'\n",
    "\n",
    "    final = str(idx)+'|'+path+'|'+time\n",
    "    final = final[:-1]\n",
    "    return final"
   ]
  },
  {
   "cell_type": "code",
   "execution_count": 7,
   "metadata": {},
   "outputs": [],
   "source": [
    "##### Ubuntu\n",
    "#file_path = '/home/sebastian/Desktop/'\n",
    "#file = open(file_path + 'path_v1.txt',mode=\"w\")\n",
    "\n",
    "##### Windows\n",
    "file_path = \"C:/Users/SEBASTIAN/OneDrive - Universidad de los Andes/OctavoSemestre/ProblemaEspecial/ML/path/\"\n",
    "file = open(file_path + 'path_v4.txt',mode=\"w\")\n",
    "file_pd = open(file_path + 'distanceTurn_v4.csv',mode=\"w\")\n",
    "\n",
    "file_pd.close()\n",
    "numRoad = 2000\n",
    "disTotalArray = np.zeros((numRoad,1))\n",
    "totalTurnsArray = np.zeros((numRoad,1))\n",
    "\n",
    "for i in range(numRoad):\n",
    "    if i == 0:\n",
    "        time,path = randomPath(700,50,120,1,[5,4,1],5,5)\n",
    "        disTotal,disArray = cal_Total_Distance(path)\n",
    "        total_turns = cal_Total_Turns(path)\n",
    "    else:\n",
    "        time,path = randomPath(700,50,120,3,path[-1,:],5,5)\n",
    "        disTotal,disArray = cal_Total_Distance(path)\n",
    "        total_turns = cal_Total_Turns(path)\n",
    "\n",
    "    disTotalArray[i,0] = disTotal\n",
    "    totalTurnsArray[i,0] = total_turns\n",
    "\n",
    "    path = path.astype(int)\n",
    "    final = ''\n",
    "    final = changeToTxt(path,time,i+1)\n",
    "    file.write('\\n')\n",
    "    file.write(final)\n",
    "\n",
    "file.close()\n",
    "\n",
    "d = {'disTotal':disTotalArray.reshape(-1),'totalTurns':totalTurnsArray.reshape(-1)}\n",
    "pd_values = pd.DataFrame(data=d)\n",
    "pd_values.to_csv(file_path + 'distanceTurn_v4.csv',index=False)\n"
   ]
  },
  {
   "cell_type": "code",
   "execution_count": 48,
   "metadata": {},
   "outputs": [
    {
     "name": "stdout",
     "output_type": "stream",
     "text": [
      "    disTotal  totalTurns\n",
      "0  49.480554         7.0\n",
      "1  26.280507         7.0\n",
      "2  27.383326         7.0\n",
      "3  13.892922         6.0\n",
      "4  45.215317         7.0\n"
     ]
    }
   ],
   "source": [
    "d = {'disTotal':disTotalArray.reshape(-1),'totalTurns':totalTurnsArray.reshape(-1)}\n",
    "pd_values = pd.DataFrame(data=d)\n",
    "print(pd_values.head())"
   ]
  },
  {
   "cell_type": "code",
   "execution_count": 49,
   "metadata": {},
   "outputs": [],
   "source": [
    "pd_values.to_csv(file_path + 'distanceTurn.csv',index=False)"
   ]
  },
  {
   "cell_type": "code",
   "execution_count": null,
   "metadata": {},
   "outputs": [],
   "source": []
  }
 ],
 "metadata": {
  "interpreter": {
   "hash": "0e44acfdfef30f6ec6b87c91a5aefac0f6f3257e05865e8365dd5781be08c313"
  },
  "kernelspec": {
   "display_name": "Python 3.6.9 64-bit ('problemaEspecial': venv)",
   "name": "python3"
  },
  "language_info": {
   "codemirror_mode": {
    "name": "ipython",
    "version": 3
   },
   "file_extension": ".py",
   "mimetype": "text/x-python",
   "name": "python",
   "nbconvert_exporter": "python",
   "pygments_lexer": "ipython3",
   "version": "3.9.7"
  },
  "orig_nbformat": 4
 },
 "nbformat": 4,
 "nbformat_minor": 2
}
