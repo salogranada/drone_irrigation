{
 "cells": [
  {
   "cell_type": "code",
   "execution_count": 1,
   "metadata": {},
   "outputs": [],
   "source": [
    "import numpy as np\n",
    "import pandas as pd\n",
    "import matplotlib.pyplot as plt\n",
    "from sklearn.svm import SVR\n",
    "from sklearn.preprocessing import MinMaxScaler,RobustScaler\n",
    "from sklearn.model_selection import train_test_split\n",
    "from sklearn.metrics import r2_score,mean_squared_error\n",
    "from sklearn.model_selection import GridSearchCV"
   ]
  },
  {
   "cell_type": "markdown",
   "metadata": {},
   "source": [
    "### Import the data"
   ]
  },
  {
   "cell_type": "code",
   "execution_count": 2,
   "metadata": {},
   "outputs": [],
   "source": [
    "main_path = r\"C:\\Users\\SEBASTIAN\\OneDrive - Universidad de los Andes\\OctavoSemestre\\ProblemaEspecial\\ML/dataSets/\"\n",
    "pd_data_v1 = pd.read_csv(main_path+'dataSet_dron_v1.csv')\n",
    "pd_data_v4 = pd.read_csv(main_path + 'dataSet_dron_v4_total_salo.csv')"
   ]
  },
  {
   "cell_type": "code",
   "execution_count": 3,
   "metadata": {},
   "outputs": [],
   "source": [
    "pd_data = pd_data_v4"
   ]
  },
  {
   "cell_type": "code",
   "execution_count": 4,
   "metadata": {},
   "outputs": [],
   "source": [
    "X = pd_data.drop(columns=[\"Energy\",\"path_num\",\"points\",\"times\"],axis=1)\n",
    "y = pd_data[\"Energy\"]\n",
    "\n",
    "x_train,x_test,y_train,y_test = train_test_split(X,y,test_size=0.2,random_state=35)\n",
    "\n",
    "X_train_mean = x_train.mean(axis=0)\n",
    "X_train_std = x_train.std(axis=0)"
   ]
  },
  {
   "cell_type": "code",
   "execution_count": 6,
   "metadata": {},
   "outputs": [],
   "source": [
    "X_train_mean_array = X_train_mean.to_numpy()\n",
    "X_train_std_array = X_train_std.to_numpy()\n",
    "x_train_array = x_train.to_numpy()\n",
    "x_test_array = x_test.to_numpy()\n",
    "\n",
    "x_train_array = (x_train_array-X_train_mean_array)/X_train_std_array\n",
    "x_test_array = (x_test_array-X_train_mean_array)/X_train_std_array"
   ]
  },
  {
   "cell_type": "code",
   "execution_count": 7,
   "metadata": {},
   "outputs": [
    {
     "data": {
      "text/html": [
       "<div>\n",
       "<style scoped>\n",
       "    .dataframe tbody tr th:only-of-type {\n",
       "        vertical-align: middle;\n",
       "    }\n",
       "\n",
       "    .dataframe tbody tr th {\n",
       "        vertical-align: top;\n",
       "    }\n",
       "\n",
       "    .dataframe thead th {\n",
       "        text-align: right;\n",
       "    }\n",
       "</style>\n",
       "<table border=\"1\" class=\"dataframe\">\n",
       "  <thead>\n",
       "    <tr style=\"text-align: right;\">\n",
       "      <th></th>\n",
       "      <th>total_dist</th>\n",
       "      <th>Total_time</th>\n",
       "      <th>avg_path_vel</th>\n",
       "      <th>totalTurns</th>\n",
       "    </tr>\n",
       "  </thead>\n",
       "  <tbody>\n",
       "    <tr>\n",
       "      <th>0</th>\n",
       "      <td>1.824554</td>\n",
       "      <td>-0.297957</td>\n",
       "      <td>1.910213</td>\n",
       "      <td>0.296012</td>\n",
       "    </tr>\n",
       "    <tr>\n",
       "      <th>1</th>\n",
       "      <td>0.630833</td>\n",
       "      <td>-1.304621</td>\n",
       "      <td>0.837742</td>\n",
       "      <td>0.296012</td>\n",
       "    </tr>\n",
       "    <tr>\n",
       "      <th>2</th>\n",
       "      <td>-0.104110</td>\n",
       "      <td>-1.879857</td>\n",
       "      <td>0.122001</td>\n",
       "      <td>-1.080623</td>\n",
       "    </tr>\n",
       "    <tr>\n",
       "      <th>3</th>\n",
       "      <td>0.003944</td>\n",
       "      <td>-0.046291</td>\n",
       "      <td>0.011711</td>\n",
       "      <td>0.296012</td>\n",
       "    </tr>\n",
       "    <tr>\n",
       "      <th>4</th>\n",
       "      <td>0.705850</td>\n",
       "      <td>0.169423</td>\n",
       "      <td>0.693494</td>\n",
       "      <td>0.296012</td>\n",
       "    </tr>\n",
       "  </tbody>\n",
       "</table>\n",
       "</div>"
      ],
      "text/plain": [
       "   total_dist  Total_time  avg_path_vel  totalTurns\n",
       "0    1.824554   -0.297957      1.910213    0.296012\n",
       "1    0.630833   -1.304621      0.837742    0.296012\n",
       "2   -0.104110   -1.879857      0.122001   -1.080623\n",
       "3    0.003944   -0.046291      0.011711    0.296012\n",
       "4    0.705850    0.169423      0.693494    0.296012"
      ]
     },
     "execution_count": 7,
     "metadata": {},
     "output_type": "execute_result"
    }
   ],
   "source": [
    "columns = x_train.columns\n",
    "x_train_v1 = pd.DataFrame(data=x_train_array,columns=columns)\n",
    "x_test_v1 = pd.DataFrame(data=x_test_array,columns=columns)\n",
    "x_train_v1.head()"
   ]
  },
  {
   "cell_type": "markdown",
   "metadata": {},
   "source": [
    "### Desarrollo del modelo"
   ]
  },
  {
   "cell_type": "code",
   "execution_count": 12,
   "metadata": {},
   "outputs": [],
   "source": [
    "param_grid = [\n",
    "    {'kernel':['poly'],'C':[0.01,0.1,1,10,100,1000],'gamma':['scale','auto'],'degree':[2,3,4,5],'epsilon':[0.001,0.01,0.1,1.0,10.0,100.0]},\n",
    "    {'kernel':['rbf'],'C':[0.01,0.1,1,10,100,1000],'gamma':['scale','auto'],'epsilon':[0.001,0.01,0.1,1.0,10.0,100.0]},  \n",
    "    {'kernel':['sigmoid'],'C':[0.01,0.1,1,10,100,1000],'gamma':['scale','auto'],'epsilon':[0.001,0.01,0.1,1.0,10.0,100.0]}, \n",
    "    {'kernel':['linear'],'C':[0.01,0.1,1,10,100,1000]}\n",
    "]\n",
    "\n",
    "svr = SVR()\n",
    "\n",
    "svr_model = GridSearchCV(svr,param_grid)"
   ]
  },
  {
   "cell_type": "markdown",
   "metadata": {},
   "source": [
    "### Regression with MinMax scaler"
   ]
  },
  {
   "cell_type": "code",
   "execution_count": 13,
   "metadata": {},
   "outputs": [
    {
     "data": {
      "text/plain": [
       "GridSearchCV(estimator=SVR(),\n",
       "             param_grid=[{'C': [0.01, 0.1, 1, 10, 100, 1000],\n",
       "                          'degree': [2, 3, 4, 5],\n",
       "                          'epsilon': [0.001, 0.01, 0.1, 1.0, 10.0, 100.0],\n",
       "                          'gamma': ['scale', 'auto'], 'kernel': ['poly']},\n",
       "                         {'C': [0.01, 0.1, 1, 10, 100, 1000],\n",
       "                          'epsilon': [0.001, 0.01, 0.1, 1.0, 10.0, 100.0],\n",
       "                          'gamma': ['scale', 'auto'], 'kernel': ['rbf']},\n",
       "                         {'C': [0.01, 0.1, 1, 10, 100, 1000],\n",
       "                          'epsilon': [0.001, 0.01, 0.1, 1.0, 10.0, 100.0],\n",
       "                          'gamma': ['scale', 'auto'], 'kernel': ['sigmoid']},\n",
       "                         {'C': [0.01, 0.1, 1, 10, 100, 1000],\n",
       "                          'kernel': ['linear']}])"
      ]
     },
     "execution_count": 13,
     "metadata": {},
     "output_type": "execute_result"
    }
   ],
   "source": [
    "svr_model.fit(x_train_v1,y_train)"
   ]
  },
  {
   "cell_type": "code",
   "execution_count": 14,
   "metadata": {},
   "outputs": [
    {
     "name": "stdout",
     "output_type": "stream",
     "text": [
      "SVR(C=1000, degree=5, epsilon=0.01, kernel='poly')\n",
      "-0.12174134550386731\n",
      "{'C': 1000, 'degree': 5, 'epsilon': 0.01, 'gamma': 'scale', 'kernel': 'poly'}\n"
     ]
    }
   ],
   "source": [
    "print(svr_model.best_estimator_)\n",
    "print(svr_model.best_score_)\n",
    "print(svr_model.best_params_)"
   ]
  },
  {
   "cell_type": "code",
   "execution_count": 15,
   "metadata": {},
   "outputs": [
    {
     "name": "stdout",
     "output_type": "stream",
     "text": [
      "RMSE_minMax: 4771236584.646584\n",
      "MSE_minMax: 2.276469854667e+19\n",
      "r2_minMax: -0.20582953490250122\n"
     ]
    }
   ],
   "source": [
    "pred = svr_model.predict(x_test_v1)\n",
    "RMSE = mean_squared_error(y_test,pred,squared=False)\n",
    "MSE = mean_squared_error(y_test,pred)\n",
    "r2 = r2_score(y_test,pred)\n",
    "\n",
    "print(f'RMSE_minMax: {RMSE}')\n",
    "print(f'MSE_minMax: {MSE}')\n",
    "print(f'r2_minMax: {r2}')"
   ]
  }
 ],
 "metadata": {
  "interpreter": {
   "hash": "266be0e0c8276b7bfe251c2d8f1e576c20f55c449c1d3ba8e4d1594fa70e9632"
  },
  "kernelspec": {
   "display_name": "Python 3.9.7 64-bit ('ML2': conda)",
   "language": "python",
   "name": "python3"
  },
  "language_info": {
   "codemirror_mode": {
    "name": "ipython",
    "version": 3
   },
   "file_extension": ".py",
   "mimetype": "text/x-python",
   "name": "python",
   "nbconvert_exporter": "python",
   "pygments_lexer": "ipython3",
   "version": "3.9.7"
  },
  "orig_nbformat": 4
 },
 "nbformat": 4,
 "nbformat_minor": 2
}
