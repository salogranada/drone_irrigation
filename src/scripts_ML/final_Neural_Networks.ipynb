{
 "cells": [
  {
   "cell_type": "code",
   "execution_count": 42,
   "metadata": {},
   "outputs": [],
   "source": [
    "from tensorflow.keras.initializers import RandomNormal\n",
    "from tensorflow.keras.optimizers import Adam,SGD,RMSprop,Adadelta\n",
    "from tensorflow.keras.layers import Dense, Activation, Flatten\n",
    "from tensorflow.keras.callbacks import ModelCheckpoint,ReduceLROnPlateau\n",
    "from tensorflow.keras.models import Sequential\n",
    "from sklearn.model_selection import train_test_split\n",
    "from sklearn.metrics import r2_score,mean_squared_error\n",
    "from sklearn.model_selection import GridSearchCV\n",
    "from sklearn.preprocessing import StandardScaler\n",
    "from tensorflow.keras.wrappers.scikit_learn import KerasRegressor\n",
    "import matplotlib.pyplot as plt\n",
    "import pandas as pd\n",
    "import numpy as np"
   ]
  },
  {
   "cell_type": "markdown",
   "metadata": {},
   "source": [
    "### Paths"
   ]
  },
  {
   "cell_type": "code",
   "execution_count": 43,
   "metadata": {},
   "outputs": [],
   "source": [
    "#File paths\n",
    "main_path_energy ='../data_base/paths_energy/'\n",
    "main_path_total_energy = '../data_base/paths_totals/'\n",
    "\n",
    "energy_path11_pd = pd.read_csv(main_path_energy + 'feat_pathv11.csv')\n",
    "energy_path12_pd = pd.read_csv(main_path_energy + 'feat_pathv12-2.csv')\n",
    "energy_path13_pd = pd.read_csv(main_path_energy + 'feat_pathv13.csv')\n",
    "\n",
    "energy_path_list = [energy_path11_pd,energy_path12_pd,energy_path13_pd]\n",
    "complete_energy_pd = pd.concat(energy_path_list)\n",
    "\n",
    "total_path11_pd = pd.read_csv(main_path_total_energy + 'totalF_pathv11.csv')\n",
    "total_path12_pd = pd.read_csv(main_path_total_energy + 'totalF_pathv12-2.csv')\n",
    "total_path13_pd = pd.read_csv(main_path_total_energy + 'totalF_pathv13.csv')\n",
    "\n",
    "total_path_list = [total_path11_pd,total_path12_pd,total_path13_pd]\n",
    "complete_total_pd = pd.concat(total_path_list)"
   ]
  },
  {
   "cell_type": "markdown",
   "metadata": {},
   "source": [
    "### Data split and preprocessing - complete_energy_pd - All data\n",
    "\n",
    "this data comes from the folder \"paths_energy\""
   ]
  },
  {
   "cell_type": "code",
   "execution_count": 44,
   "metadata": {},
   "outputs": [
    {
     "name": "stdout",
     "output_type": "stream",
     "text": [
      "Train size/Test size (2486, 622)\n"
     ]
    }
   ],
   "source": [
    "X = complete_energy_pd.drop(columns=[\"missing_points\",\"path_num\",\"sim_drone_time\",\"Energy\",\"sim_point_dist\",\"sim_Xdist\",\"sim_Ydist\",\"avg_error_target_dist\",\"avg_energy\"],axis=1)\n",
    "y = complete_energy_pd[\"Energy\"].to_numpy()\n",
    "\n",
    "X = X.to_numpy()\n",
    "\n",
    "x_train,x_test,y_train,y_test = train_test_split(X,y,test_size=0.2,random_state=35)\n",
    "\n",
    "scaler = StandardScaler()\n",
    "\n",
    "x_train = scaler.fit_transform(x_train)\n",
    "x_test = scaler.transform(x_test)\n",
    "\n",
    "print(f'Train size/Test size {len(x_train),len(x_test)}')"
   ]
  },
  {
   "cell_type": "markdown",
   "metadata": {},
   "source": [
    "### Model - Neural network - relu and linear"
   ]
  },
  {
   "cell_type": "code",
   "execution_count": 45,
   "metadata": {},
   "outputs": [
    {
     "name": "stdout",
     "output_type": "stream",
     "text": [
      "Model: \"sequential_8\"\n",
      "_________________________________________________________________\n",
      "Layer (type)                 Output Shape              Param #   \n",
      "=================================================================\n",
      "dense_48 (Dense)             (None, 64)                512       \n",
      "_________________________________________________________________\n",
      "dense_49 (Dense)             (None, 128)               8320      \n",
      "_________________________________________________________________\n",
      "dense_50 (Dense)             (None, 128)               16512     \n",
      "_________________________________________________________________\n",
      "dense_51 (Dense)             (None, 128)               16512     \n",
      "_________________________________________________________________\n",
      "dense_52 (Dense)             (None, 128)               16512     \n",
      "_________________________________________________________________\n",
      "dense_53 (Dense)             (None, 1)                 129       \n",
      "=================================================================\n",
      "Total params: 58,497\n",
      "Trainable params: 58,497\n",
      "Non-trainable params: 0\n",
      "_________________________________________________________________\n"
     ]
    }
   ],
   "source": [
    "NN_model = Sequential()\n",
    "\n",
    "ran_initial = RandomNormal(seed=35)\n",
    "\n",
    "NN_model.add(Dense(64,kernel_initializer=ran_initial,input_dim=7,activation='relu'))\n",
    "\n",
    "NN_model.add(Dense(128,kernel_initializer=ran_initial,activation='relu'))\n",
    "NN_model.add(Dense(128,kernel_initializer=ran_initial,activation='relu'))\n",
    "NN_model.add(Dense(128,kernel_initializer=ran_initial,activation='relu'))\n",
    "NN_model.add(Dense(128,kernel_initializer=ran_initial,activation='relu'))\n",
    "\n",
    "NN_model.add(Dense(1, kernel_initializer=ran_initial,activation='linear'))\n",
    "\n",
    "NN_model.compile(loss=\"mean_squared_logarithmic_error\", optimizer=Adadelta(learning_rate=0.1), metrics=[\"mean_squared_logarithmic_error\"])\n",
    "NN_model.summary()"
   ]
  },
  {
   "cell_type": "code",
   "execution_count": 46,
   "metadata": {},
   "outputs": [],
   "source": [
    "model1 = NN_model.fit(x_train, y_train, epochs=300, batch_size=32, validation_split = 0.2,verbose=0)"
   ]
  },
  {
   "cell_type": "code",
   "execution_count": 47,
   "metadata": {},
   "outputs": [
    {
     "data": {
      "image/png": "[encoded data removed]",
      "text/plain": [
       "<Figure size 432x288 with 1 Axes>"
      ]
     },
     "metadata": {},
     "output_type": "display_data"
    }
   ],
   "source": [
    "plt.plot(model1.history['loss'])\n",
    "plt.plot(model1.history['val_loss'])\n",
    "plt.title('model loss')\n",
    "plt.ylabel('loss')\n",
    "plt.yscale(\"log\")\n",
    "plt.xlabel('epoch')\n",
    "plt.legend(['train', 'test'], loc='upper left')\n",
    "plt.show()"
   ]
  },
  {
   "cell_type": "code",
   "execution_count": 48,
   "metadata": {},
   "outputs": [
    {
     "name": "stdout",
     "output_type": "stream",
     "text": [
      "r2: 0.643760734129587\n",
      "RMSE: 1141891.9040126537\n",
      "MSE: 1303917120449.6436\n"
     ]
    }
   ],
   "source": [
    "y_predict = NN_model.predict(x_test)\n",
    "r2 = r2_score(y_test,y_predict)\n",
    "RMSE = mean_squared_error(y_test,y_predict,squared=False)\n",
    "MSE = mean_squared_error(y_test,y_predict)\n",
    "\n",
    "print(f'r2: {r2}')\n",
    "print(f'RMSE: {RMSE}')\n",
    "print(f'MSE: {MSE}')"
   ]
  },
  {
   "cell_type": "markdown",
   "metadata": {},
   "source": [
    "### Data split and preprocessing - complete_energy_pd - with eps"
   ]
  },
  {
   "cell_type": "code",
   "execution_count": 49,
   "metadata": {},
   "outputs": [
    {
     "name": "stdout",
     "output_type": "stream",
     "text": [
      "new shape of complete_energy_pd = (2577, 16)\n"
     ]
    }
   ],
   "source": [
    "eps = 5\n",
    "complete_energy_pd = complete_energy_pd[(complete_energy_pd['sim_point_dist']-complete_energy_pd['teo_point_dist']) < eps]\n",
    "print(f'new shape of complete_energy_pd = {complete_energy_pd.shape}')"
   ]
  },
  {
   "cell_type": "code",
   "execution_count": 50,
   "metadata": {},
   "outputs": [
    {
     "name": "stdout",
     "output_type": "stream",
     "text": [
      "Train size/Test size (2061, 516)\n"
     ]
    }
   ],
   "source": [
    "X = complete_energy_pd.drop(columns=[\"missing_points\",\"path_num\",\"sim_drone_time\",\"Energy\",\"sim_point_dist\",\"sim_Xdist\",\"sim_Ydist\",\"avg_error_target_dist\",\"avg_energy\"],axis=1)\n",
    "y = complete_energy_pd[\"Energy\"].to_numpy()\n",
    "\n",
    "X = X.to_numpy()\n",
    "\n",
    "x_train,x_test,y_train,y_test = train_test_split(X,y,test_size=0.2,random_state=35)\n",
    "\n",
    "scaler2 = StandardScaler()\n",
    "\n",
    "x_train = scaler2.fit_transform(x_train)\n",
    "x_test = scaler2.transform(x_test)\n",
    "\n",
    "print(f'Train size/Test size {len(x_train),len(x_test)}')"
   ]
  },
  {
   "cell_type": "code",
   "execution_count": 51,
   "metadata": {},
   "outputs": [],
   "source": [
    "NN_model11 = Sequential()\n",
    "\n",
    "ran_initial = RandomNormal(seed=35)\n",
    "\n",
    "NN_model11.add(Dense(64,kernel_initializer=ran_initial,input_dim=7,activation='relu'))\n",
    "\n",
    "NN_model11.add(Dense(128,kernel_initializer=ran_initial,activation='relu'))\n",
    "NN_model11.add(Dense(128,kernel_initializer=ran_initial,activation='relu'))\n",
    "NN_model11.add(Dense(128,kernel_initializer=ran_initial,activation='relu'))\n",
    "NN_model11.add(Dense(128,kernel_initializer=ran_initial,activation='relu'))\n",
    "\n",
    "NN_model11.add(Dense(1, kernel_initializer=ran_initial,activation='linear'))\n",
    "\n",
    "NN_model11.compile(loss=\"mean_squared_logarithmic_error\", optimizer=Adadelta(learning_rate=0.2), metrics=[\"mean_squared_logarithmic_error\"])"
   ]
  },
  {
   "cell_type": "code",
   "execution_count": 52,
   "metadata": {},
   "outputs": [],
   "source": [
    "model11 = NN_model11.fit(x_train, y_train, epochs=100, batch_size=32, validation_split = 0.2,verbose=0)"
   ]
  },
  {
   "cell_type": "code",
   "execution_count": 53,
   "metadata": {},
   "outputs": [
    {
     "name": "stdout",
     "output_type": "stream",
     "text": [
      "r2: 0.7332549228365288\n",
      "RMSE: 739417.7325779363\n",
      "MSE: 546738583250.6965\n"
     ]
    }
   ],
   "source": [
    "y_predict = NN_model11.predict(x_test)\n",
    "r2 = r2_score(y_test,y_predict)\n",
    "RMSE = mean_squared_error(y_test,y_predict,squared=False)\n",
    "MSE = mean_squared_error(y_test,y_predict)\n",
    "\n",
    "print(f'r2: {r2}')\n",
    "print(f'RMSE: {RMSE}')\n",
    "print(f'MSE: {MSE}')"
   ]
  },
  {
   "cell_type": "code",
   "execution_count": 54,
   "metadata": {},
   "outputs": [
    {
     "data": {
      "image/png": "[encoded data removed]",
      "text/plain": [
       "<Figure size 432x288 with 1 Axes>"
      ]
     },
     "metadata": {},
     "output_type": "display_data"
    }
   ],
   "source": [
    "plt.plot(model11.history['loss'])\n",
    "plt.plot(model11.history['val_loss'])\n",
    "plt.title('model loss')\n",
    "plt.ylabel('loss')\n",
    "plt.yscale(\"log\")\n",
    "plt.xlabel('epoch')\n",
    "plt.legend(['train', 'test'], loc='upper left')\n",
    "plt.show()"
   ]
  },
  {
   "cell_type": "markdown",
   "metadata": {},
   "source": [
    "### Model - Neural network - sigmoid and linear"
   ]
  },
  {
   "cell_type": "code",
   "execution_count": 55,
   "metadata": {},
   "outputs": [
    {
     "name": "stdout",
     "output_type": "stream",
     "text": [
      "Model: \"sequential_10\"\n",
      "_________________________________________________________________\n",
      "Layer (type)                 Output Shape              Param #   \n",
      "=================================================================\n",
      "dense_60 (Dense)             (None, 128)               1024      \n",
      "_________________________________________________________________\n",
      "dense_61 (Dense)             (None, 128)               16512     \n",
      "_________________________________________________________________\n",
      "dense_62 (Dense)             (None, 128)               16512     \n",
      "_________________________________________________________________\n",
      "dense_63 (Dense)             (None, 128)               16512     \n",
      "_________________________________________________________________\n",
      "dense_64 (Dense)             (None, 128)               16512     \n",
      "_________________________________________________________________\n",
      "dense_65 (Dense)             (None, 1)                 129       \n",
      "=================================================================\n",
      "Total params: 67,201\n",
      "Trainable params: 67,201\n",
      "Non-trainable params: 0\n",
      "_________________________________________________________________\n"
     ]
    }
   ],
   "source": [
    "NN_model2 = Sequential()\n",
    "\n",
    "NN_model2.add(Dense(128,kernel_initializer='normal',input_dim=7,activation='sigmoid'))\n",
    "\n",
    "NN_model2.add(Dense(128,kernel_initializer='normal',activation='sigmoid'))\n",
    "NN_model2.add(Dense(128,kernel_initializer='normal',activation='sigmoid'))\n",
    "NN_model2.add(Dense(128,kernel_initializer='normal',activation='sigmoid'))\n",
    "NN_model2.add(Dense(128,kernel_initializer='normal',activation='sigmoid'))\n",
    "\n",
    "NN_model2.add(Dense(1, kernel_initializer='normal',activation='linear'))\n",
    "\n",
    "NN_model2.compile(loss=\"mean_squared_logarithmic_error\", optimizer=Adadelta(learning_rate=0.1), metrics=[\"mean_squared_logarithmic_error\"])\n",
    "NN_model2.summary()"
   ]
  },
  {
   "cell_type": "code",
   "execution_count": 56,
   "metadata": {},
   "outputs": [],
   "source": [
    "model2 = NN_model2.fit(x_train, y_train, epochs=350, batch_size=32, validation_split = 0.2,verbose=0)"
   ]
  },
  {
   "cell_type": "code",
   "execution_count": 57,
   "metadata": {},
   "outputs": [
    {
     "data": {
      "image/png": "[encoded data removed]",
      "text/plain": [
       "<Figure size 432x288 with 1 Axes>"
      ]
     },
     "metadata": {},
     "output_type": "display_data"
    }
   ],
   "source": [
    "plt.plot(model2.history['loss'])\n",
    "plt.plot(model2.history['val_loss'])\n",
    "plt.title('model loss')\n",
    "plt.ylabel('loss')\n",
    "plt.yscale(\"log\")\n",
    "plt.xlabel('epoch')\n",
    "plt.legend(['train', 'test'], loc='upper left')\n",
    "plt.show()"
   ]
  },
  {
   "cell_type": "code",
   "execution_count": 58,
   "metadata": {},
   "outputs": [
    {
     "name": "stdout",
     "output_type": "stream",
     "text": [
      "r2: -1.6537800749166798\n",
      "RMSE: 2332244.72483415\n",
      "MSE: 5439365456516.722\n"
     ]
    }
   ],
   "source": [
    "y_predict = NN_model2.predict(x_test)\n",
    "r2 = r2_score(y_test,y_predict)\n",
    "RMSE = mean_squared_error(y_test,y_predict,squared=False)\n",
    "MSE = mean_squared_error(y_test,y_predict)\n",
    "\n",
    "print(f'r2: {r2}')\n",
    "print(f'RMSE: {RMSE}')\n",
    "print(f'MSE: {MSE}')"
   ]
  }
 ],
 "metadata": {
  "interpreter": {
   "hash": "10d0750db765ef80c3aaf07345d24399fcc8cfd4e487feaaeae78fb2a49676e6"
  },
  "kernelspec": {
   "display_name": "Python 3.6.9 64-bit ('ML_hw': venv)",
   "language": "python",
   "name": "python3"
  },
  "language_info": {
   "codemirror_mode": {
    "name": "ipython",
    "version": 3
   },
   "file_extension": ".py",
   "mimetype": "text/x-python",
   "name": "python",
   "nbconvert_exporter": "python",
   "pygments_lexer": "ipython3",
   "version": "3.6.9"
  },
  "orig_nbformat": 4
 },
 "nbformat": 4,
 "nbformat_minor": 2
}
