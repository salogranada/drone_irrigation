{
 "cells": [
  {
   "cell_type": "code",
   "execution_count": 60,
   "metadata": {},
   "outputs": [],
   "source": [
    "from tensorflow.keras.initializers import RandomNormal\n",
    "from tensorflow.keras.optimizers import Adam,SGD,RMSprop,Adadelta\n",
    "from tensorflow.keras.layers import Dense, Activation, Flatten\n",
    "from tensorflow.keras.callbacks import ModelCheckpoint,ReduceLROnPlateau\n",
    "from tensorflow.keras.models import Sequential\n",
    "from sklearn.model_selection import train_test_split\n",
    "from sklearn.metrics import r2_score,mean_squared_error, accuracy_score\n",
    "from sklearn.model_selection import GridSearchCV\n",
    "from sklearn.preprocessing import StandardScaler\n",
    "from tensorflow.keras.wrappers.scikit_learn import KerasRegressor\n",
    "import matplotlib.pyplot as plt\n",
    "import pandas as pd\n",
    "import numpy as np\n",
    "import time"
   ]
  },
  {
   "cell_type": "markdown",
   "metadata": {},
   "source": [
    "### Paths"
   ]
  },
  {
   "cell_type": "code",
   "execution_count": 61,
   "metadata": {},
   "outputs": [],
   "source": [
    "#File paths\n",
    "main_path_energy ='../data_base/paths_energy/'\n",
    "main_path_total_energy = '../data_base/paths_totals/'\n",
    "\n",
    "energy_path11_pd = pd.read_csv(main_path_energy + 'feat_pathv11_TM.csv')\n",
    "energy_path12_pd = pd.read_csv(main_path_energy + 'feat_pathv12_TM.csv')\n",
    "energy_path13_pd = pd.read_csv(main_path_energy + 'feat_pathv13_TM.csv')\n",
    "\n",
    "energy_path_list = [energy_path11_pd,energy_path12_pd,energy_path13_pd]\n",
    "complete_energy_pd = pd.concat(energy_path_list)\n",
    "\n",
    "total_path11_pd = pd.read_csv(main_path_total_energy + 'totalF_pathv11.csv')\n",
    "total_path12_pd = pd.read_csv(main_path_total_energy + 'totalF_pathv12.csv')\n",
    "total_path13_pd = pd.read_csv(main_path_total_energy + 'totalF_pathv13.csv')\n",
    "\n",
    "total_path_list = [total_path11_pd,total_path12_pd,total_path13_pd]\n",
    "complete_total_pd = pd.concat(total_path_list)"
   ]
  },
  {
   "cell_type": "markdown",
   "metadata": {},
   "source": [
    "### Data split and preprocessing - complete_energy_pd - All data\n",
    "\n",
    "this data comes from the folder \"paths_energy\""
   ]
  },
  {
   "cell_type": "code",
   "execution_count": 62,
   "metadata": {},
   "outputs": [
    {
     "name": "stdout",
     "output_type": "stream",
     "text": [
      "Train size/Test size (3740, 935)\n"
     ]
    }
   ],
   "source": [
    "X = complete_energy_pd.drop(columns=[\"missing_points\",\"path_num\",\"sim_drone_time\",\"Energy\",\"sim_point_dist\",\"sim_Xdist\",\"sim_Ydist\",\"avg_error_target_dist\",\"avg_energy\"],axis=1)\n",
    "y = complete_energy_pd[\"Energy\"].to_numpy()\n",
    "\n",
    "X = X.to_numpy()\n",
    "\n",
    "x_train,x_test,y_train,y_test = train_test_split(X,y,test_size=0.2,random_state=35)\n",
    "\n",
    "scaler = StandardScaler()\n",
    "\n",
    "x_train = scaler.fit_transform(x_train)\n",
    "x_test = scaler.transform(x_test)\n",
    "\n",
    "print(f'Train size/Test size {len(x_train),len(x_test)}')"
   ]
  },
  {
   "cell_type": "markdown",
   "metadata": {},
   "source": [
    "### Model - Neural network - relu and linear"
   ]
  },
  {
   "cell_type": "code",
   "execution_count": 63,
   "metadata": {},
   "outputs": [
    {
     "name": "stdout",
     "output_type": "stream",
     "text": [
      "Model: \"sequential_9\"\n",
      "_________________________________________________________________\n",
      "Layer (type)                 Output Shape              Param #   \n",
      "=================================================================\n",
      "dense_54 (Dense)             (None, 64)                576       \n",
      "_________________________________________________________________\n",
      "dense_55 (Dense)             (None, 128)               8320      \n",
      "_________________________________________________________________\n",
      "dense_56 (Dense)             (None, 128)               16512     \n",
      "_________________________________________________________________\n",
      "dense_57 (Dense)             (None, 128)               16512     \n",
      "_________________________________________________________________\n",
      "dense_58 (Dense)             (None, 128)               16512     \n",
      "_________________________________________________________________\n",
      "dense_59 (Dense)             (None, 1)                 129       \n",
      "=================================================================\n",
      "Total params: 58,561\n",
      "Trainable params: 58,561\n",
      "Non-trainable params: 0\n",
      "_________________________________________________________________\n"
     ]
    }
   ],
   "source": [
    "NN_model = Sequential()\n",
    "\n",
    "ran_initial = RandomNormal(seed=35)\n",
    "\n",
    "NN_model.add(Dense(64,kernel_initializer=ran_initial,input_dim=8,activation='relu'))\n",
    "\n",
    "NN_model.add(Dense(128,kernel_initializer=ran_initial,activation='relu'))\n",
    "NN_model.add(Dense(128,kernel_initializer=ran_initial,activation='relu'))\n",
    "NN_model.add(Dense(128,kernel_initializer=ran_initial,activation='relu'))\n",
    "NN_model.add(Dense(128,kernel_initializer=ran_initial,activation='relu'))\n",
    "\n",
    "NN_model.add(Dense(1, kernel_initializer=ran_initial,activation='linear'))\n",
    "\n",
    "NN_model.compile(loss=\"mean_squared_logarithmic_error\", optimizer=Adadelta(learning_rate=0.1), metrics=[\"mean_squared_logarithmic_error\"])\n",
    "NN_model.summary()"
   ]
  },
  {
   "cell_type": "code",
   "execution_count": 64,
   "metadata": {},
   "outputs": [
    {
     "name": "stdout",
     "output_type": "stream",
     "text": [
      "Execution time = 53.49881291389465\n"
     ]
    }
   ],
   "source": [
    "start_time = time.time()\n",
    "model1 = NN_model.fit(x_train, y_train, epochs=300, batch_size=32, validation_split = 0.2,verbose=0)\n",
    "print('Execution time = ' + str(time.time() - start_time))\n"
   ]
  },
  {
   "cell_type": "code",
   "execution_count": 65,
   "metadata": {},
   "outputs": [
    {
     "data": {
      "image/png": "[encoded data removed]",
      "text/plain": [
       "<Figure size 432x288 with 1 Axes>"
      ]
     },
     "metadata": {},
     "output_type": "display_data"
    }
   ],
   "source": [
    "plt.plot(model1.history['loss'])\n",
    "plt.plot(model1.history['val_loss'])\n",
    "plt.title('model loss')\n",
    "plt.ylabel('loss')\n",
    "plt.yscale(\"log\")\n",
    "plt.xlabel('epoch')\n",
    "plt.legend(['train', 'test'], loc='upper left')\n",
    "plt.title('Model Loss NN Adadelta 0.1')\n",
    "plt.savefig('ModelLoss_Adadelta.png')\n",
    "plt.show()"
   ]
  },
  {
   "cell_type": "code",
   "execution_count": 66,
   "metadata": {},
   "outputs": [
    {
     "name": "stdout",
     "output_type": "stream",
     "text": [
      "r2: 0.6237908096892334\n",
      "RMSE: 1108388.3230830592\n",
      "MSE: 1228524674746.876\n"
     ]
    }
   ],
   "source": [
    "y_predict = NN_model.predict(x_test)\n",
    "r2 = r2_score(y_test,y_predict)\n",
    "RMSE = mean_squared_error(y_test,y_predict,squared=False)\n",
    "MSE = mean_squared_error(y_test,y_predict)\n",
    "\n",
    "NN_model.save('NN_Adadelta.h5')\n",
    "\n",
    "print(f'r2: {r2}')\n",
    "print(f'RMSE: {RMSE}')\n",
    "print(f'MSE: {MSE}')"
   ]
  },
  {
   "cell_type": "code",
   "execution_count": 67,
   "metadata": {},
   "outputs": [
    {
     "data": {
      "image/png": "[encoded data removed]",
      "text/plain": [
       "<Figure size 432x288 with 1 Axes>"
      ]
     },
     "metadata": {},
     "output_type": "display_data"
    }
   ],
   "source": [
    "plt.scatter(y_test, y_predict,linewidths=0.01,c='black',marker='.')\n",
    "plt.xlabel('Test')\n",
    "plt.ylabel('Predict')\n",
    "m, b = np.polyfit(y_test, y_predict, 1)\n",
    "\n",
    "plt.plot(y_test, m*y_test + b, color='orange')\n",
    "plt.title('Predicted vs Test value of energy NN Adadelta with eps')\n",
    "plt.xlabel('Test')\n",
    "plt.ylabel('Predict')\n",
    "plt.xlim([0, 0.9e7])\n",
    "plt.ylim([0, 0.7e7])\n",
    "plt.savefig('predictvtest_NN_Adadelta.png')"
   ]
  },
  {
   "cell_type": "markdown",
   "metadata": {},
   "source": [
    "### Data split and preprocessing - complete_energy_pd - with eps"
   ]
  },
  {
   "cell_type": "code",
   "execution_count": 68,
   "metadata": {},
   "outputs": [
    {
     "name": "stdout",
     "output_type": "stream",
     "text": [
      "new shape of complete_energy_pd = (3957, 17)\n"
     ]
    }
   ],
   "source": [
    "eps = 5\n",
    "complete_energy_pd = complete_energy_pd[(complete_energy_pd['sim_point_dist']-complete_energy_pd['teo_point_dist']) < eps]\n",
    "print(f'new shape of complete_energy_pd = {complete_energy_pd.shape}')"
   ]
  },
  {
   "cell_type": "code",
   "execution_count": 69,
   "metadata": {},
   "outputs": [
    {
     "name": "stdout",
     "output_type": "stream",
     "text": [
      "Train size/Test size (3165, 792)\n"
     ]
    }
   ],
   "source": [
    "X = complete_energy_pd.drop(columns=[\"missing_points\",\"path_num\",\"sim_drone_time\",\"Energy\",\"sim_point_dist\",\"sim_Xdist\",\"sim_Ydist\",\"avg_error_target_dist\",\"avg_energy\"],axis=1)\n",
    "y = complete_energy_pd[\"Energy\"].to_numpy()\n",
    "x2 = X\n",
    "X = X.to_numpy()\n",
    "\n",
    "x_train,x_test,y_train,y_test = train_test_split(X,y,test_size=0.2,random_state=35)\n",
    "\n",
    "scaler2 = StandardScaler()\n",
    "\n",
    "x_train = scaler2.fit_transform(x_train)\n",
    "x_test = scaler2.transform(x_test)\n",
    "\n",
    "print(f'Train size/Test size {len(x_train),len(x_test)}')"
   ]
  },
  {
   "cell_type": "code",
   "execution_count": 70,
   "metadata": {},
   "outputs": [],
   "source": [
    "NN_model11 = Sequential()\n",
    "\n",
    "ran_initial = RandomNormal(seed=35)\n",
    "\n",
    "NN_model11.add(Dense(64,kernel_initializer=ran_initial,input_dim=8,activation='relu'))\n",
    "\n",
    "NN_model11.add(Dense(128,kernel_initializer=ran_initial,activation='relu'))\n",
    "NN_model11.add(Dense(128,kernel_initializer=ran_initial,activation='relu'))\n",
    "NN_model11.add(Dense(128,kernel_initializer=ran_initial,activation='relu'))\n",
    "NN_model11.add(Dense(128,kernel_initializer=ran_initial,activation='relu'))\n",
    "\n",
    "NN_model11.add(Dense(1, kernel_initializer=ran_initial,activation='linear'))\n",
    "\n",
    "NN_model11.compile(loss=\"mean_squared_logarithmic_error\", optimizer=Adadelta(learning_rate=0.2), metrics=[\"mean_squared_logarithmic_error\"])"
   ]
  },
  {
   "cell_type": "code",
   "execution_count": 71,
   "metadata": {},
   "outputs": [
    {
     "name": "stdout",
     "output_type": "stream",
     "text": [
      "Execution time = 16.537081003189087\n"
     ]
    }
   ],
   "source": [
    "start_time = time.time()\n",
    "model11 = NN_model11.fit(x_train, y_train, epochs=100, batch_size=32, validation_split = 0.2,verbose=0)\n",
    "print('Execution time = ' + str(time.time() - start_time))\n"
   ]
  },
  {
   "cell_type": "code",
   "execution_count": 72,
   "metadata": {},
   "outputs": [
    {
     "name": "stdout",
     "output_type": "stream",
     "text": [
      "r2: 0.6348789358239562\n",
      "RMSE: 912708.3701615956\n",
      "MSE: 833036568963.0363\n"
     ]
    }
   ],
   "source": [
    "y_predict = NN_model11.predict(x_test)\n",
    "r2 = r2_score(y_test,y_predict)\n",
    "RMSE = mean_squared_error(y_test,y_predict,squared=False)\n",
    "MSE = mean_squared_error(y_test,y_predict)\n",
    "\n",
    "NN_model11.save('NN_Adadelta_eps.h5')\n",
    "\n",
    "print(f'r2: {r2}')\n",
    "print(f'RMSE: {RMSE}')\n",
    "print(f'MSE: {MSE}')"
   ]
  },
  {
   "cell_type": "code",
   "execution_count": 73,
   "metadata": {},
   "outputs": [
    {
     "data": {
      "image/png": "[encoded data removed]",
      "text/plain": [
       "<Figure size 432x288 with 1 Axes>"
      ]
     },
     "metadata": {},
     "output_type": "display_data"
    }
   ],
   "source": [
    "\n",
    "plt.scatter(y_test, y_predict,linewidths=0.01,c='black',marker='.')\n",
    "plt.xlabel('Test')\n",
    "plt.ylabel('Predict')\n",
    "m, b = np.polyfit(y_test, y_predict, 1)\n",
    "\n",
    "plt.plot(y_test, m*y_test + b, color='orange')\n",
    "plt.title('Predicted vs Test value of energy NN Adadelta with eps')\n",
    "plt.xlabel('Test')\n",
    "plt.ylabel('Predict')\n",
    "plt.xlim([0, 0.9e7])\n",
    "plt.ylim([0, 0.7e7])\n",
    "plt.savefig('predictvtest_NN_Adadelta_eps.png')"
   ]
  },
  {
   "cell_type": "code",
   "execution_count": 74,
   "metadata": {},
   "outputs": [
    {
     "data": {
      "image/png": "[encoded data removed]",
      "text/plain": [
       "<Figure size 432x288 with 1 Axes>"
      ]
     },
     "metadata": {},
     "output_type": "display_data"
    }
   ],
   "source": [
    "plt.plot(model11.history['loss'])\n",
    "plt.plot(model11.history['val_loss'])\n",
    "plt.title('model loss')\n",
    "plt.ylabel('loss')\n",
    "plt.yscale(\"log\")\n",
    "plt.xlabel('epoch')\n",
    "plt.legend(['train', 'test'], loc='upper left')\n",
    "plt.title('Model Loss Adadelta with eps')\n",
    "plt.savefig('ModelLoss_Adadelta_eps.png')\n",
    "plt.show()"
   ]
  },
  {
   "cell_type": "markdown",
   "metadata": {},
   "source": [
    "### Model - Neural network - sigmoid and linear"
   ]
  },
  {
   "cell_type": "code",
   "execution_count": 75,
   "metadata": {},
   "outputs": [
    {
     "name": "stdout",
     "output_type": "stream",
     "text": [
      "Model: \"sequential_11\"\n",
      "_________________________________________________________________\n",
      "Layer (type)                 Output Shape              Param #   \n",
      "=================================================================\n",
      "dense_66 (Dense)             (None, 128)               1152      \n",
      "_________________________________________________________________\n",
      "dense_67 (Dense)             (None, 128)               16512     \n",
      "_________________________________________________________________\n",
      "dense_68 (Dense)             (None, 128)               16512     \n",
      "_________________________________________________________________\n",
      "dense_69 (Dense)             (None, 128)               16512     \n",
      "_________________________________________________________________\n",
      "dense_70 (Dense)             (None, 128)               16512     \n",
      "_________________________________________________________________\n",
      "dense_71 (Dense)             (None, 1)                 129       \n",
      "=================================================================\n",
      "Total params: 67,329\n",
      "Trainable params: 67,329\n",
      "Non-trainable params: 0\n",
      "_________________________________________________________________\n"
     ]
    }
   ],
   "source": [
    "NN_model2 = Sequential()\n",
    "\n",
    "NN_model2.add(Dense(128,kernel_initializer='normal',input_dim=8,activation='sigmoid'))\n",
    "\n",
    "NN_model2.add(Dense(128,kernel_initializer='normal',activation='sigmoid'))\n",
    "NN_model2.add(Dense(128,kernel_initializer='normal',activation='sigmoid'))\n",
    "NN_model2.add(Dense(128,kernel_initializer='normal',activation='sigmoid'))\n",
    "NN_model2.add(Dense(128,kernel_initializer='normal',activation='sigmoid'))\n",
    "\n",
    "NN_model2.add(Dense(1, kernel_initializer='normal',activation='linear'))\n",
    "\n",
    "NN_model2.compile(loss=\"mean_squared_logarithmic_error\", optimizer=Adadelta(learning_rate=0.1), metrics=[\"mean_squared_logarithmic_error\"])\n",
    "NN_model2.summary()"
   ]
  },
  {
   "cell_type": "code",
   "execution_count": 76,
   "metadata": {},
   "outputs": [
    {
     "name": "stdout",
     "output_type": "stream",
     "text": [
      "Execution time = 66.66320896148682\n"
     ]
    }
   ],
   "source": [
    "start_time = time.time()\n",
    "model2 = NN_model2.fit(x_train, y_train, epochs=350, batch_size=32, validation_split = 0.2,verbose=0)\n",
    "print('Execution time = ' + str(time.time() - start_time))\n"
   ]
  },
  {
   "cell_type": "code",
   "execution_count": 77,
   "metadata": {},
   "outputs": [
    {
     "data": {
      "image/png": "[encoded data removed]",
      "text/plain": [
       "<Figure size 432x288 with 1 Axes>"
      ]
     },
     "metadata": {},
     "output_type": "display_data"
    }
   ],
   "source": [
    "plt.plot(model2.history['loss'])\n",
    "plt.plot(model2.history['val_loss'])\n",
    "plt.title('model loss')\n",
    "plt.ylabel('loss')\n",
    "plt.yscale(\"log\")\n",
    "plt.xlabel('epoch')\n",
    "plt.legend(['train', 'test'], loc='upper left')\n",
    "plt.show()"
   ]
  },
  {
   "cell_type": "code",
   "execution_count": 78,
   "metadata": {},
   "outputs": [
    {
     "name": "stdout",
     "output_type": "stream",
     "text": [
      "r2: -1.3459097267950382\n",
      "RMSE: 2313498.578807041\n",
      "MSE: 5352275674142.199\n"
     ]
    }
   ],
   "source": [
    "y_predict = NN_model2.predict(x_test)\n",
    "r2 = r2_score(y_test,y_predict)\n",
    "RMSE = mean_squared_error(y_test,y_predict,squared=False)\n",
    "MSE = mean_squared_error(y_test,y_predict)\n",
    "\n",
    "print(f'r2: {r2}')\n",
    "print(f'RMSE: {RMSE}')\n",
    "print(f'MSE: {MSE}')"
   ]
  }
 ],
 "metadata": {
  "interpreter": {
   "hash": "10d0750db765ef80c3aaf07345d24399fcc8cfd4e487feaaeae78fb2a49676e6"
  },
  "kernelspec": {
   "display_name": "Python 3.6.9 64-bit ('ML_hw': venv)",
   "language": "python",
   "name": "python3"
  },
  "language_info": {
   "codemirror_mode": {
    "name": "ipython",
    "version": 3
   },
   "file_extension": ".py",
   "mimetype": "text/x-python",
   "name": "python",
   "nbconvert_exporter": "python",
   "pygments_lexer": "ipython3",
   "version": "3.6.9"
  },
  "orig_nbformat": 4
 },
 "nbformat": 4,
 "nbformat_minor": 2
}
