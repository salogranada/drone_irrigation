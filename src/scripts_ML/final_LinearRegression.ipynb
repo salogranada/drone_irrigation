{
 "cells": [
  {
   "cell_type": "code",
   "execution_count": 37,
   "metadata": {},
   "outputs": [],
   "source": [
    "import numpy as np\n",
    "import pandas as pd\n",
    "import matplotlib.pyplot as plt\n",
    "from sklearn.linear_model import LinearRegression\n",
    "from sklearn.preprocessing import StandardScaler\n",
    "from sklearn.model_selection import train_test_split\n",
    "from sklearn.metrics import r2_score,mean_squared_error"
   ]
  },
  {
   "cell_type": "markdown",
   "metadata": {},
   "source": [
    "### Paths"
   ]
  },
  {
   "cell_type": "code",
   "execution_count": 38,
   "metadata": {},
   "outputs": [],
   "source": [
    "main_path_energy = \"/home/sebastian/github/SpecialProblem_Salo/drone_irrigation_vrep/src/data_base/paths_energy/\"\n",
    "main_path_total_energy = \"/home/sebastian/github/SpecialProblem_Salo/drone_irrigation_vrep/src/data_base/paths_totals/\"\n",
    "main_path_turns = \"/home/sebastian/Desktop/\"\n",
    "\n",
    "energy_path11_pd = pd.read_csv(main_path_energy + 'feat_pathv11_nuevo.csv')\n",
    "energy_path12_pd = pd.read_csv(main_path_energy + 'feat_pathv12_nuevo.csv')\n",
    "energy_path13_pd = pd.read_csv(main_path_energy + 'features_pathv13.csv')\n",
    "\n",
    "energy_path_list = [energy_path11_pd,energy_path12_pd,energy_path13_pd]\n",
    "complete_energy_pd = pd.concat(energy_path_list)\n",
    "\n",
    "total_path11_pd = pd.read_csv(main_path_total_energy + 'totalF_pathv11.csv')\n",
    "total_path12_pd = pd.read_csv(main_path_total_energy + 'totalF_pathv12_nuevo.csv')\n",
    "total_path13_pd = pd.read_csv(main_path_total_energy + 'totals_pathv13.csv')\n",
    "\n",
    "total_path_list = [total_path11_pd,total_path12_pd,total_path13_pd]\n",
    "complete_total_pd = pd.concat(total_path_list)"
   ]
  },
  {
   "cell_type": "markdown",
   "metadata": {},
   "source": [
    "### Data split and preprocessing - complete_energy_pd - All data\n",
    "\n",
    "this data comes from the folder \"paths_energy\""
   ]
  },
  {
   "cell_type": "code",
   "execution_count": 39,
   "metadata": {},
   "outputs": [
    {
     "name": "stdout",
     "output_type": "stream",
     "text": [
      "Train size/Test size (2486, 622)\n"
     ]
    }
   ],
   "source": [
    "X = complete_energy_pd.drop(columns=[\"missing_points\",\"path_num\",\"sim_drone_time\",\"Energy\",\"sim_point_dist\",\"sim_Xdist\",\"sim_Ydist\",\"avg_error_target_dist\",\"avg_energy\"],axis=1)\n",
    "y = complete_energy_pd[\"Energy\"].to_numpy()\n",
    "\n",
    "X = X.to_numpy()\n",
    "\n",
    "x_train,x_test,y_train,y_test = train_test_split(X,y,test_size=0.2,random_state=35)\n",
    "\n",
    "scaler = StandardScaler()\n",
    "\n",
    "x_train = scaler.fit_transform(x_train)\n",
    "x_test = scaler.transform(x_test)\n",
    "\n",
    "print(f'Train size/Test size {len(x_train),len(x_test)}')"
   ]
  },
  {
   "cell_type": "markdown",
   "metadata": {},
   "source": [
    "#### Fit Linear regression"
   ]
  },
  {
   "cell_type": "code",
   "execution_count": 40,
   "metadata": {},
   "outputs": [],
   "source": [
    "linearRe = LinearRegression()\n",
    "model = linearRe.fit(x_train,y_train)"
   ]
  },
  {
   "cell_type": "markdown",
   "metadata": {},
   "source": [
    "#### Accuracy"
   ]
  },
  {
   "cell_type": "code",
   "execution_count": 41,
   "metadata": {},
   "outputs": [
    {
     "name": "stdout",
     "output_type": "stream",
     "text": [
      "r2 score: 0.6559967467411855\n",
      "RMSE score: 1122109.8511876934\n"
     ]
    }
   ],
   "source": [
    "predict = linearRe.predict(x_test)\n",
    "\n",
    "r2 = r2_score(y_test,predict)\n",
    "rmse = mean_squared_error(y_test,predict,squared=False)\n",
    "\n",
    "\n",
    "print(f'r2 score: {r2}')\n",
    "print(f'RMSE score: {rmse}')"
   ]
  },
  {
   "cell_type": "markdown",
   "metadata": {},
   "source": [
    "### Data split and preprocessing - complete_energy_pd - with eps"
   ]
  },
  {
   "cell_type": "code",
   "execution_count": 42,
   "metadata": {},
   "outputs": [
    {
     "name": "stdout",
     "output_type": "stream",
     "text": [
      "new shape of complete_energy_pd = (2577, 14)\n"
     ]
    }
   ],
   "source": [
    "eps = 5\n",
    "complete_energy_pd = complete_energy_pd[(complete_energy_pd['sim_point_dist']-complete_energy_pd['teo_point_dist']) < eps]\n",
    "print(f'new shape of complete_energy_pd = {complete_energy_pd.shape}')"
   ]
  },
  {
   "cell_type": "code",
   "execution_count": 43,
   "metadata": {},
   "outputs": [
    {
     "name": "stdout",
     "output_type": "stream",
     "text": [
      "Train size/Test size (2061, 516)\n"
     ]
    }
   ],
   "source": [
    "X = complete_energy_pd.drop(columns=[\"missing_points\",\"path_num\",\"sim_drone_time\",\"Energy\",\"sim_point_dist\",\"sim_Xdist\",\"sim_Ydist\",\"avg_error_target_dist\",\"avg_energy\"],axis=1)\n",
    "y = complete_energy_pd[\"Energy\"].to_numpy()\n",
    "\n",
    "X = X.to_numpy()\n",
    "\n",
    "x_train,x_test,y_train,y_test = train_test_split(X,y,test_size=0.2,random_state=35)\n",
    "\n",
    "scaler2 = StandardScaler()\n",
    "\n",
    "x_train = scaler2.fit_transform(x_train)\n",
    "x_test = scaler2.transform(x_test)\n",
    "\n",
    "print(f'Train size/Test size {len(x_train),len(x_test)}')"
   ]
  },
  {
   "cell_type": "markdown",
   "metadata": {},
   "source": [
    "#### Fit Linear regression"
   ]
  },
  {
   "cell_type": "code",
   "execution_count": 44,
   "metadata": {},
   "outputs": [],
   "source": [
    "linearRe2 = LinearRegression()\n",
    "model = linearRe2.fit(x_train,y_train)"
   ]
  },
  {
   "cell_type": "markdown",
   "metadata": {},
   "source": [
    "#### Accuracy"
   ]
  },
  {
   "cell_type": "code",
   "execution_count": 45,
   "metadata": {},
   "outputs": [
    {
     "name": "stdout",
     "output_type": "stream",
     "text": [
      "r2 score: 0.6940410269502381\n",
      "RMSE score: 791905.3047954568\n"
     ]
    }
   ],
   "source": [
    "predict = linearRe2.predict(x_test)\n",
    "\n",
    "r2 = r2_score(y_test,predict)\n",
    "rmse = mean_squared_error(y_test,predict,squared=False)\n",
    "\n",
    "\n",
    "print(f'r2 score: {r2}')\n",
    "print(f'RMSE score: {rmse}')"
   ]
  },
  {
   "cell_type": "markdown",
   "metadata": {},
   "source": [
    "### Data split and preprocessing - complete_total_pd\n",
    "\n",
    "this data comes from \"path_totals\" folder"
   ]
  },
  {
   "cell_type": "code",
   "execution_count": 47,
   "metadata": {},
   "outputs": [
    {
     "name": "stdout",
     "output_type": "stream",
     "text": [
      "Train size/Test size (466, 117)\n"
     ]
    }
   ],
   "source": [
    "X = complete_total_pd.drop(columns=[\"path_num\",\"energy\"],axis=1)\n",
    "y = complete_total_pd[\"energy\"].to_numpy()\n",
    "\n",
    "X = X.to_numpy()\n",
    "\n",
    "x_train,x_test,y_train,y_test = train_test_split(X,y,test_size=0.2,random_state=35)\n",
    "\n",
    "scaler = StandardScaler()\n",
    "\n",
    "x_train = scaler.fit_transform(x_train)\n",
    "x_test = scaler.transform(x_test)\n",
    "\n",
    "print(f'Train size/Test size {len(x_train),len(x_test)}')"
   ]
  },
  {
   "cell_type": "markdown",
   "metadata": {},
   "source": [
    "#### Fit Linear regression"
   ]
  },
  {
   "cell_type": "code",
   "execution_count": 48,
   "metadata": {},
   "outputs": [],
   "source": [
    "linearRe3 = LinearRegression()\n",
    "model = linearRe3.fit(x_train,y_train)"
   ]
  },
  {
   "cell_type": "markdown",
   "metadata": {},
   "source": [
    "#### Accuracy"
   ]
  },
  {
   "cell_type": "code",
   "execution_count": 49,
   "metadata": {},
   "outputs": [
    {
     "name": "stdout",
     "output_type": "stream",
     "text": [
      "r2 score: -0.05646625577785702\n",
      "RMSE score: 5357820.774397302\n"
     ]
    }
   ],
   "source": [
    "predict = linearRe3.predict(x_test)\n",
    "\n",
    "r2 = r2_score(y_test,predict)\n",
    "rmse = mean_squared_error(y_test,predict,squared=False)\n",
    "\n",
    "\n",
    "print(f'r2 score: {r2}')\n",
    "print(f'RMSE score: {rmse}')"
   ]
  }
 ],
 "metadata": {
  "interpreter": {
   "hash": "10d0750db765ef80c3aaf07345d24399fcc8cfd4e487feaaeae78fb2a49676e6"
  },
  "kernelspec": {
   "display_name": "Python 3.6.9 64-bit ('ML_hw': venv)",
   "language": "python",
   "name": "python3"
  },
  "language_info": {
   "codemirror_mode": {
    "name": "ipython",
    "version": 3
   },
   "file_extension": ".py",
   "mimetype": "text/x-python",
   "name": "python",
   "nbconvert_exporter": "python",
   "pygments_lexer": "ipython3",
   "version": "3.6.9"
  },
  "orig_nbformat": 4
 },
 "nbformat": 4,
 "nbformat_minor": 2
}
