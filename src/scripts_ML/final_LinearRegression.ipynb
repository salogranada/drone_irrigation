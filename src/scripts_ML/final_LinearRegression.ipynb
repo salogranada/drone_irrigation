{
 "cells": [
  {
   "cell_type": "code",
   "execution_count": 57,
   "metadata": {},
   "outputs": [],
   "source": [
    "import numpy as np\n",
    "import pandas as pd\n",
    "import time\n",
    "import matplotlib.pyplot as plt\n",
    "from sklearn.linear_model import LinearRegression\n",
    "from sklearn.preprocessing import StandardScaler\n",
    "from sklearn.model_selection import train_test_split\n",
    "from sklearn.metrics import r2_score,mean_squared_error"
   ]
  },
  {
   "cell_type": "markdown",
   "metadata": {},
   "source": [
    "### Paths"
   ]
  },
  {
   "cell_type": "code",
   "execution_count": 58,
   "metadata": {},
   "outputs": [],
   "source": [
    "#File paths\n",
    "main_path_energy ='../data_base/paths_energy/'\n",
    "main_path_total_energy = '../data_base/paths_totals/'\n",
    "#main_path_turns = \"/home/sebastian/Desktop/\"\n",
    "\n",
    "energy_path11_pd = pd.read_csv(main_path_energy + 'feat_pathv11.csv')\n",
    "energy_path12_pd = pd.read_csv(main_path_energy + 'feat_pathv12-2.csv')\n",
    "energy_path13_pd = pd.read_csv(main_path_energy + 'feat_pathv13.csv')\n",
    "\n",
    "energy_path_list = [energy_path11_pd,energy_path12_pd,energy_path13_pd]\n",
    "complete_energy_pd = pd.concat(energy_path_list)\n",
    "\n",
    "total_path11_pd = pd.read_csv(main_path_total_energy + 'totalF_pathv11.csv')\n",
    "total_path12_pd = pd.read_csv(main_path_total_energy + 'totalF_pathv12-2.csv')\n",
    "total_path13_pd = pd.read_csv(main_path_total_energy + 'totalF_pathv13.csv')\n",
    "\n",
    "total_path_list = [total_path11_pd,total_path12_pd,total_path13_pd]\n",
    "complete_total_pd = pd.concat(total_path_list)"
   ]
  },
  {
   "cell_type": "markdown",
   "metadata": {},
   "source": [
    "### Data split and preprocessing - complete_energy_pd - All data\n",
    "\n",
    "this data comes from the folder \"paths_energy\""
   ]
  },
  {
   "cell_type": "code",
   "execution_count": 59,
   "metadata": {},
   "outputs": [
    {
     "name": "stdout",
     "output_type": "stream",
     "text": [
      "   teo_point_time  teo_point_dist  teo_Xdist  teo_Ydist  teo_point_vel  \\\n",
      "0             190       14.142136       10.0       10.0       0.074432   \n",
      "1             233       12.727922        9.0        9.0       0.054626   \n",
      "2             248       23.323808       20.0       12.0       0.094048   \n",
      "3             157        8.000000        0.0        8.0       0.050955   \n",
      "4             236       19.235384        3.0       19.0       0.081506   \n",
      "\n",
      "   teo_Xvel  teo_Yvel  \n",
      "0  0.052632  0.052632  \n",
      "1  0.038627  0.038627  \n",
      "2  0.080645  0.048387  \n",
      "3  0.043694  0.026216  \n",
      "4  0.012712  0.080508  \n",
      "Train size/Test size (2486, 622)\n"
     ]
    }
   ],
   "source": [
    "X = complete_energy_pd.drop(columns=[\"missing_points\",\"path_num\",\"sim_drone_time\",\"Energy\",\"sim_point_dist\",\"sim_Xdist\",\"sim_Ydist\",\"avg_error_target_dist\",\"avg_energy\"],axis=1)\n",
    "y = complete_energy_pd[\"Energy\"].to_numpy()\n",
    "print(X.head())\n",
    "X = X.to_numpy()\n",
    "\n",
    "x_train,x_test,y_train,y_test = train_test_split(X,y,test_size=0.2,random_state=35)\n",
    "\n",
    "scaler = StandardScaler()\n",
    "\n",
    "x_train = scaler.fit_transform(x_train)\n",
    "x_test = scaler.transform(x_test)\n",
    "\n",
    "print(f'Train size/Test size {len(x_train),len(x_test)}')"
   ]
  },
  {
   "cell_type": "markdown",
   "metadata": {},
   "source": [
    "#### Fit Linear regression"
   ]
  },
  {
   "cell_type": "code",
   "execution_count": 60,
   "metadata": {},
   "outputs": [],
   "source": [
    "linearRe = LinearRegression()\n",
    "model = linearRe.fit(x_train,y_train)"
   ]
  },
  {
   "cell_type": "markdown",
   "metadata": {},
   "source": [
    "#### Accuracy"
   ]
  },
  {
   "cell_type": "code",
   "execution_count": 61,
   "metadata": {},
   "outputs": [
    {
     "name": "stdout",
     "output_type": "stream",
     "text": [
      "r2 score: 0.6561379072357906\n",
      "RMSE score: 1121879.6006989288\n",
      "Execution time = 0.003353595733642578\n"
     ]
    }
   ],
   "source": [
    "start_time = time.time()\n",
    "predict = linearRe.predict(x_test)\n",
    "\n",
    "r2 = r2_score(y_test,predict)\n",
    "rmse = mean_squared_error(y_test,predict,squared=False)\n",
    "\n",
    "\n",
    "print(f'r2 score: {r2}')\n",
    "print(f'RMSE score: {rmse}')\n",
    "print('Execution time = ' + str(time.time() - start_time))"
   ]
  },
  {
   "cell_type": "code",
   "execution_count": 62,
   "metadata": {},
   "outputs": [
    {
     "data": {
      "text/plain": [
       "array([1366434.15339698,  290309.23359589,   76709.19878347,\n",
       "         69054.8220471 ,  -97272.62798201,  -35888.14760811,\n",
       "        -31577.84831178])"
      ]
     },
     "execution_count": 62,
     "metadata": {},
     "output_type": "execute_result"
    }
   ],
   "source": [
    "linearRe.coef_"
   ]
  },
  {
   "cell_type": "markdown",
   "metadata": {},
   "source": [
    "### Data split and preprocessing - complete_energy_pd - with eps"
   ]
  },
  {
   "cell_type": "code",
   "execution_count": 63,
   "metadata": {},
   "outputs": [
    {
     "name": "stdout",
     "output_type": "stream",
     "text": [
      "new shape of complete_energy_pd = (2577, 16)\n"
     ]
    }
   ],
   "source": [
    "eps = 5\n",
    "complete_energy_pd = complete_energy_pd[(complete_energy_pd['sim_point_dist']-complete_energy_pd['teo_point_dist']) < eps]\n",
    "print(f'new shape of complete_energy_pd = {complete_energy_pd.shape}')"
   ]
  },
  {
   "cell_type": "code",
   "execution_count": 64,
   "metadata": {},
   "outputs": [
    {
     "name": "stdout",
     "output_type": "stream",
     "text": [
      "Train size/Test size (2061, 516)\n"
     ]
    }
   ],
   "source": [
    "X = complete_energy_pd.drop(columns=[\"missing_points\",\"path_num\",\"sim_drone_time\",\"Energy\",\"sim_point_dist\",\"sim_Xdist\",\"sim_Ydist\",\"avg_error_target_dist\",\"avg_energy\"],axis=1)\n",
    "y = complete_energy_pd[\"Energy\"].to_numpy()\n",
    "\n",
    "X = X.to_numpy()\n",
    "\n",
    "x_train,x_test,y_train,y_test = train_test_split(X,y,test_size=0.2,random_state=35)\n",
    "\n",
    "scaler2 = StandardScaler()\n",
    "\n",
    "x_train = scaler2.fit_transform(x_train)\n",
    "x_test = scaler2.transform(x_test)\n",
    "\n",
    "print(f'Train size/Test size {len(x_train),len(x_test)}')"
   ]
  },
  {
   "cell_type": "markdown",
   "metadata": {},
   "source": [
    "#### Fit Linear regression"
   ]
  },
  {
   "cell_type": "code",
   "execution_count": 65,
   "metadata": {},
   "outputs": [],
   "source": [
    "linearRe2 = LinearRegression()\n",
    "model = linearRe2.fit(x_train,y_train)"
   ]
  },
  {
   "cell_type": "markdown",
   "metadata": {},
   "source": [
    "#### Accuracy"
   ]
  },
  {
   "cell_type": "code",
   "execution_count": 66,
   "metadata": {},
   "outputs": [
    {
     "name": "stdout",
     "output_type": "stream",
     "text": [
      "r2 score: 0.6940573597433006\n",
      "RMSE score: 791884.1676508978\n",
      "Execution time = 0.0026242733001708984\n"
     ]
    }
   ],
   "source": [
    "start_time = time.time()\n",
    "predict = linearRe2.predict(x_test)\n",
    "\n",
    "r2 = r2_score(y_test,predict)\n",
    "rmse = mean_squared_error(y_test,predict,squared=False)\n",
    "\n",
    "\n",
    "print(f'r2 score: {r2}')\n",
    "print(f'RMSE score: {rmse}')\n",
    "print('Execution time = ' + str(time.time() - start_time))"
   ]
  },
  {
   "cell_type": "markdown",
   "metadata": {},
   "source": [
    "### Data split and preprocessing - complete_total_pd\n",
    "\n",
    "this data comes from \"path_totals\" folder"
   ]
  },
  {
   "cell_type": "code",
   "execution_count": 67,
   "metadata": {},
   "outputs": [
    {
     "name": "stdout",
     "output_type": "stream",
     "text": [
      "Train size/Test size (466, 117)\n"
     ]
    }
   ],
   "source": [
    "X = complete_total_pd.drop(columns=[\"path_num\",\"energy\"],axis=1)\n",
    "y = complete_total_pd[\"energy\"].to_numpy()\n",
    "\n",
    "X = X.to_numpy()\n",
    "\n",
    "x_train,x_test,y_train,y_test = train_test_split(X,y,test_size=0.2,random_state=35)\n",
    "\n",
    "scaler = StandardScaler()\n",
    "\n",
    "x_train = scaler.fit_transform(x_train)\n",
    "x_test = scaler.transform(x_test)\n",
    "\n",
    "print(f'Train size/Test size {len(x_train),len(x_test)}')"
   ]
  },
  {
   "cell_type": "markdown",
   "metadata": {},
   "source": [
    "#### Fit Linear regression"
   ]
  },
  {
   "cell_type": "code",
   "execution_count": 68,
   "metadata": {},
   "outputs": [],
   "source": [
    "linearRe3 = LinearRegression()\n",
    "model = linearRe3.fit(x_train,y_train)"
   ]
  },
  {
   "cell_type": "markdown",
   "metadata": {},
   "source": [
    "#### Accuracy"
   ]
  },
  {
   "cell_type": "code",
   "execution_count": 69,
   "metadata": {},
   "outputs": [
    {
     "name": "stdout",
     "output_type": "stream",
     "text": [
      "r2 score: -0.05646625577785702\n",
      "RMSE score: 5357820.774397302\n",
      "Execution time = 0.004519462585449219\n"
     ]
    }
   ],
   "source": [
    "start_time = time.time()\n",
    "predict = linearRe3.predict(x_test)\n",
    "\n",
    "r2 = r2_score(y_test,predict)\n",
    "rmse = mean_squared_error(y_test,predict,squared=False)\n",
    "\n",
    "\n",
    "print(f'r2 score: {r2}')\n",
    "print(f'RMSE score: {rmse}')\n",
    "print('Execution time = ' + str(time.time() - start_time))"
   ]
  }
 ],
 "metadata": {
  "interpreter": {
   "hash": "10d0750db765ef80c3aaf07345d24399fcc8cfd4e487feaaeae78fb2a49676e6"
  },
  "kernelspec": {
   "display_name": "Python 3.6.9 64-bit ('ML_hw': venv)",
   "language": "python",
   "name": "python3"
  },
  "language_info": {
   "codemirror_mode": {
    "name": "ipython",
    "version": 3
   },
   "file_extension": ".py",
   "mimetype": "text/x-python",
   "name": "python",
   "nbconvert_exporter": "python",
   "pygments_lexer": "ipython3",
   "version": "3.6.9"
  },
  "orig_nbformat": 4
 },
 "nbformat": 4,
 "nbformat_minor": 2
}
