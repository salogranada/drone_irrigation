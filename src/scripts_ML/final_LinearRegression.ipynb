{
 "cells": [
  {
   "cell_type": "code",
   "execution_count": 76,
   "metadata": {},
   "outputs": [],
   "source": [
    "import numpy as np\n",
    "import pandas as pd\n",
    "import time\n",
    "import pickle\n",
    "import matplotlib.pyplot as plt\n",
    "from sklearn.linear_model import LinearRegression\n",
    "from sklearn.preprocessing import StandardScaler\n",
    "from sklearn.model_selection import train_test_split\n",
    "from sklearn.metrics import r2_score,mean_squared_error"
   ]
  },
  {
   "cell_type": "markdown",
   "metadata": {},
   "source": [
    "### Paths"
   ]
  },
  {
   "cell_type": "code",
   "execution_count": 77,
   "metadata": {},
   "outputs": [],
   "source": [
    "#File paths\n",
    "main_path_energy ='../data_base/paths_energy/'\n",
    "main_path_total_energy = '../data_base/paths_totals/'\n",
    "#main_path_turns = \"/home/sebastian/Desktop/\"\n",
    "\n",
    "energy_path11_pd = pd.read_csv(main_path_energy + 'feat_pathv11_TM.csv')\n",
    "energy_path12_pd = pd.read_csv(main_path_energy + 'feat_pathv12_TM.csv')\n",
    "energy_path13_pd = pd.read_csv(main_path_energy + 'feat_pathv13_TM.csv')\n",
    "\n",
    "energy_path_list = [energy_path11_pd,energy_path12_pd,energy_path13_pd]\n",
    "complete_energy_pd = pd.concat(energy_path_list)\n",
    "\n",
    "total_path11_pd = pd.read_csv(main_path_total_energy + 'totalF_pathv11.csv')\n",
    "total_path12_pd = pd.read_csv(main_path_total_energy + 'totalF_pathv12.csv')\n",
    "total_path13_pd = pd.read_csv(main_path_total_energy + 'totalF_pathv13.csv')\n",
    "\n",
    "total_path_list = [total_path11_pd,total_path12_pd,total_path13_pd]\n",
    "complete_total_pd = pd.concat(total_path_list)"
   ]
  },
  {
   "cell_type": "markdown",
   "metadata": {},
   "source": [
    "### Data split and preprocessing - complete_energy_pd - All data\n",
    "\n",
    "this data comes from the folder \"paths_energy\""
   ]
  },
  {
   "cell_type": "code",
   "execution_count": 78,
   "metadata": {},
   "outputs": [
    {
     "name": "stdout",
     "output_type": "stream",
     "text": [
      "   teo_point_time  teo_point_dist  teo_Xdist  teo_Ydist  teo_point_vel  \\\n",
      "0             190       14.142136       10.0       10.0       0.074432   \n",
      "1             233       12.727922        9.0        9.0       0.054626   \n",
      "2             248       23.323808       20.0       12.0       0.094048   \n",
      "3             157        8.000000        0.0        8.0       0.050955   \n",
      "4             236       19.235384        3.0       19.0       0.081506   \n",
      "\n",
      "   teo_Xvel  teo_Yvel  avg_tankMass  \n",
      "0  0.052632  0.052632      7.695402  \n",
      "1  0.038627  0.038627      3.188070  \n",
      "2  0.080645  0.048387     10.000989  \n",
      "3  0.043694  0.026216     10.000989  \n",
      "4  0.012712  0.080508      7.396412  \n",
      "Train size/Test size (3740, 935)\n"
     ]
    }
   ],
   "source": [
    "X = complete_energy_pd.drop(columns=[\"missing_points\",\"path_num\",\"sim_drone_time\",\"Energy\",\"sim_point_dist\",\"sim_Xdist\",\"sim_Ydist\",\"avg_error_target_dist\",\"avg_energy\"],axis=1)\n",
    "y = complete_energy_pd[\"Energy\"].to_numpy()\n",
    "print(X.head())\n",
    "X = X.to_numpy()\n",
    "\n",
    "x_train,x_test,y_train,y_test = train_test_split(X,y,test_size=0.2,random_state=35)\n",
    "\n",
    "scaler = StandardScaler()\n",
    "\n",
    "x_train = scaler.fit_transform(x_train)\n",
    "x_test = scaler.transform(x_test)\n",
    "\n",
    "print(f'Train size/Test size {len(x_train),len(x_test)}')"
   ]
  },
  {
   "cell_type": "markdown",
   "metadata": {},
   "source": [
    "#### Fit Linear regression"
   ]
  },
  {
   "cell_type": "code",
   "execution_count": 79,
   "metadata": {},
   "outputs": [],
   "source": [
    "linearRe = LinearRegression()\n",
    "model = linearRe.fit(x_train,y_train)"
   ]
  },
  {
   "cell_type": "markdown",
   "metadata": {},
   "source": [
    "#### Accuracy"
   ]
  },
  {
   "cell_type": "code",
   "execution_count": 80,
   "metadata": {},
   "outputs": [
    {
     "name": "stdout",
     "output_type": "stream",
     "text": [
      "r2 score: 0.6440170601660564\n",
      "RMSE score: 1078181.396881226\n",
      "Execution time = 0.0032401084899902344\n"
     ]
    }
   ],
   "source": [
    "start_time = time.time()\n",
    "predict = linearRe.predict(x_test)\n",
    "\n",
    "r2 = r2_score(y_test,predict)\n",
    "rmse = mean_squared_error(y_test,predict,squared=False)\n",
    "\n",
    "\n",
    "print(f'r2 score: {r2}')\n",
    "print(f'RMSE score: {rmse}')\n",
    "print('Execution time = ' + str(time.time() - start_time))"
   ]
  },
  {
   "cell_type": "code",
   "execution_count": 81,
   "metadata": {},
   "outputs": [
    {
     "data": {
      "text/plain": [
       "array([1150316.61559285,   54318.14697284,  107111.51515724,\n",
       "        106512.10654803,  174044.18931457, -100211.6750686 ,\n",
       "        -95867.83211963, -115805.86296469])"
      ]
     },
     "execution_count": 81,
     "metadata": {},
     "output_type": "execute_result"
    }
   ],
   "source": [
    "linearRe.coef_"
   ]
  },
  {
   "cell_type": "markdown",
   "metadata": {},
   "source": [
    "### Data split and preprocessing - complete_energy_pd - with eps"
   ]
  },
  {
   "cell_type": "code",
   "execution_count": 82,
   "metadata": {},
   "outputs": [
    {
     "name": "stdout",
     "output_type": "stream",
     "text": [
      "new shape of complete_energy_pd = (3957, 17)\n"
     ]
    }
   ],
   "source": [
    "eps = 5\n",
    "complete_energy_pd = complete_energy_pd[(complete_energy_pd['sim_point_dist']-complete_energy_pd['teo_point_dist']) < eps]\n",
    "print(f'new shape of complete_energy_pd = {complete_energy_pd.shape}')"
   ]
  },
  {
   "cell_type": "code",
   "execution_count": 83,
   "metadata": {},
   "outputs": [
    {
     "name": "stdout",
     "output_type": "stream",
     "text": [
      "Train size/Test size (3165, 792)\n"
     ]
    }
   ],
   "source": [
    "X = complete_energy_pd.drop(columns=[\"missing_points\",\"path_num\",\"sim_drone_time\",\"Energy\",\"sim_point_dist\",\"sim_Xdist\",\"sim_Ydist\",\"avg_error_target_dist\",\"avg_energy\"],axis=1)\n",
    "y = complete_energy_pd[\"Energy\"].to_numpy()\n",
    "\n",
    "X = X.to_numpy()\n",
    "\n",
    "x_train,x_test,y_train,y_test = train_test_split(X,y,test_size=0.2,random_state=35)\n",
    "\n",
    "scaler2 = StandardScaler()\n",
    "\n",
    "x_train = scaler2.fit_transform(x_train)\n",
    "x_test = scaler2.transform(x_test)\n",
    "\n",
    "print(f'Train size/Test size {len(x_train),len(x_test)}')"
   ]
  },
  {
   "cell_type": "markdown",
   "metadata": {},
   "source": [
    "#### Fit Linear regression"
   ]
  },
  {
   "cell_type": "code",
   "execution_count": 84,
   "metadata": {},
   "outputs": [],
   "source": [
    "linearRe2 = LinearRegression()\n",
    "model = linearRe2.fit(x_train,y_train)"
   ]
  },
  {
   "cell_type": "markdown",
   "metadata": {},
   "source": [
    "#### Accuracy"
   ]
  },
  {
   "cell_type": "code",
   "execution_count": 85,
   "metadata": {},
   "outputs": [
    {
     "name": "stdout",
     "output_type": "stream",
     "text": [
      "r2 score: 0.6437733964840886\n",
      "RMSE score: 901522.9024644629\n",
      "Execution time = 0.0013463497161865234\n"
     ]
    }
   ],
   "source": [
    "start_time = time.time()\n",
    "predict = linearRe2.predict(x_test)\n",
    "\n",
    "r2 = r2_score(y_test,predict)\n",
    "rmse = mean_squared_error(y_test,predict,squared=False)\n",
    "\n",
    "\n",
    "print(f'r2 score: {r2}')\n",
    "print(f'RMSE score: {rmse}')\n",
    "print('Execution time = ' + str(time.time() - start_time))"
   ]
  },
  {
   "cell_type": "code",
   "execution_count": 86,
   "metadata": {},
   "outputs": [],
   "source": [
    "# save the model to disk\n",
    "filename = 'linearRe2.sav'\n",
    "#pickle.dump(linearRe2, open(filename, 'wb'))"
   ]
  },
  {
   "cell_type": "code",
   "execution_count": 91,
   "metadata": {},
   "outputs": [
    {
     "name": "stdout",
     "output_type": "stream",
     "text": [
      "[1064481.00128502   80654.7255546    95687.18415393  125143.57310016\n",
      "  -54984.98673194    2257.91403508   -2096.7373246  -120564.39337542]\n"
     ]
    },
    {
     "data": {
      "image/png": "[encoded data removed]",
      "text/plain": [
       "<Figure size 432x288 with 1 Axes>"
      ]
     },
     "metadata": {},
     "output_type": "display_data"
    }
   ],
   "source": [
    "print(linearRe2.coef_)\n",
    "labels = 'Time', 'Distance', 'X Distance', 'Y Distance','Mean Velocity', 'Mean X Velocity', 'Mean Y Velocity', 'Tank Mass'\n",
    "sizes = abs(linearRe2.coef_)\n",
    "explode = (0.1, 0, 0, 0,0,0,0,0.1)  # only \"explode\" the 2nd slice (i.e. 'Hogs')\n",
    "plt.pie(sizes,explode=explode, autopct='%1.1f%%',shadow=True, startangle=180)\n",
    "plt.legend(labels,loc=\"upper right\", bbox_to_anchor=(1, 0., 0.5, 1))\n",
    "plt.title('Relative feature importance')\n",
    "#plt.savefig('Pie Feature importance 2')"
   ]
  },
  {
   "cell_type": "markdown",
   "metadata": {},
   "source": [
    "### Data split and preprocessing - complete_total_pd\n",
    "\n",
    "this data comes from \"path_totals\" folder"
   ]
  },
  {
   "cell_type": "code",
   "execution_count": 88,
   "metadata": {},
   "outputs": [
    {
     "name": "stdout",
     "output_type": "stream",
     "text": [
      "Train size/Test size (627, 157)\n"
     ]
    }
   ],
   "source": [
    "X = complete_total_pd.drop(columns=[\"path_num\",\"energy\"],axis=1)\n",
    "y = complete_total_pd[\"energy\"].to_numpy()\n",
    "\n",
    "X = X.to_numpy()\n",
    "\n",
    "x_train,x_test,y_train,y_test = train_test_split(X,y,test_size=0.2,random_state=35)\n",
    "\n",
    "scaler = StandardScaler()\n",
    "\n",
    "x_train = scaler.fit_transform(x_train)\n",
    "x_test = scaler.transform(x_test)\n",
    "\n",
    "print(f'Train size/Test size {len(x_train),len(x_test)}')"
   ]
  },
  {
   "cell_type": "markdown",
   "metadata": {},
   "source": [
    "#### Fit Linear regression"
   ]
  },
  {
   "cell_type": "code",
   "execution_count": 89,
   "metadata": {},
   "outputs": [],
   "source": [
    "linearRe3 = LinearRegression()\n",
    "model = linearRe3.fit(x_train,y_train)"
   ]
  },
  {
   "cell_type": "markdown",
   "metadata": {},
   "source": [
    "#### Accuracy"
   ]
  },
  {
   "cell_type": "code",
   "execution_count": 90,
   "metadata": {},
   "outputs": [
    {
     "name": "stdout",
     "output_type": "stream",
     "text": [
      "r2 score: 0.0142368425447994\n",
      "RMSE score: 5215055.013972033\n",
      "Execution time = 0.0014760494232177734\n"
     ]
    }
   ],
   "source": [
    "start_time = time.time()\n",
    "predict = linearRe3.predict(x_test)\n",
    "\n",
    "r2 = r2_score(y_test,predict)\n",
    "rmse = mean_squared_error(y_test,predict,squared=False)\n",
    "\n",
    "\n",
    "print(f'r2 score: {r2}')\n",
    "print(f'RMSE score: {rmse}')\n",
    "print('Execution time = ' + str(time.time() - start_time))"
   ]
  }
 ],
 "metadata": {
  "interpreter": {
   "hash": "10d0750db765ef80c3aaf07345d24399fcc8cfd4e487feaaeae78fb2a49676e6"
  },
  "kernelspec": {
   "display_name": "Python 3.6.9 64-bit ('ML_hw': venv)",
   "language": "python",
   "name": "python3"
  },
  "language_info": {
   "codemirror_mode": {
    "name": "ipython",
    "version": 3
   },
   "file_extension": ".py",
   "mimetype": "text/x-python",
   "name": "python",
   "nbconvert_exporter": "python",
   "pygments_lexer": "ipython3",
   "version": "3.6.9"
  },
  "orig_nbformat": 4
 },
 "nbformat": 4,
 "nbformat_minor": 2
}
