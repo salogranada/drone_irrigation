{
 "cells": [
  {
   "cell_type": "code",
   "execution_count": 2,
   "metadata": {},
   "outputs": [],
   "source": [
    "import numpy as np\n",
    "import pandas as pd\n",
    "import matplotlib.pyplot as plt\n",
    "import random\n",
    "import math"
   ]
  },
  {
   "cell_type": "markdown",
   "metadata": {},
   "source": [
    "## RandomPath function\n",
    " **'randomPath' only create one path.**\n",
    "- maxTime = maximum time of one execution.\n",
    "- minTimePP = minimum random time between two points of the path.\n",
    "- maxTimePP = maximum random time between two points of the path.\n",
    "- size = Size of the grid [size,size]\n",
    "- flightAltitude = Flight altitude.\n",
    "- posArrayInitial = Initial position index."
   ]
  },
  {
   "cell_type": "code",
   "execution_count": 3,
   "metadata": {},
   "outputs": [],
   "source": [
    "def movement(direction):\n",
    "    #1 - North\n",
    "    #2 - North-East\n",
    "    #3 - East\n",
    "    #.....\n",
    "    #8 - North-West\n",
    "    mov_x = 0\n",
    "    mov_y = 0\n",
    "    if direction == 1:\n",
    "        mov_y = -1\n",
    "    elif direction == 2:\n",
    "        mov_x = 1\n",
    "        mov_y = -1\n",
    "    elif direction == 3:\n",
    "        mov_x = 1\n",
    "    elif direction == 4:\n",
    "        mov_x = 1\n",
    "        mov_y = 1\n",
    "    elif direction == 5:\n",
    "        mov_y = 1\n",
    "    elif direction == 6:\n",
    "        mov_x = -1\n",
    "        mov_y = 1\n",
    "    elif direction == 7:\n",
    "        mov_x = -1\n",
    "    else:\n",
    "        mov_x = -1\n",
    "        mov_y = -1\n",
    "    return mov_x,mov_y   \n",
    "\n",
    "\n",
    "def canMove(posX,posY,movX,movY,map):\n",
    "    ans = False\n",
    "    posX1 = posX + movX\n",
    "    posY1 = posY + movY\n",
    "    if map[posY1,posX1] != 0:\n",
    "        ans = True\n",
    "    return ans\n",
    "\n",
    "\n",
    "\n",
    "def randomPath(maxTime,minTimePP,maxTimePP,size,flightAltitude,posArrayInitial):\n",
    "    time_array = np.array([],dtype=np.int16)\n",
    "    flagTime = False\n",
    "    \n",
    "    while not flagTime:\n",
    "        num = int(random.uniform(minTimePP,maxTimePP))\n",
    "        if time_array.sum()+num >= maxTime:\n",
    "            flagTime = True \n",
    "        else:\n",
    "            time_array = np.append(time_array,num)\n",
    "\n",
    "    posX,posY,_ = posArrayInitial\n",
    "    \n",
    "    #Create the Map/Grid\n",
    "    baseArray_path = np.ones((size,size))\n",
    "    baseArray_path = np.pad(baseArray_path,pad_width=1)\n",
    "    baseArray_path[posY,posX] = 0\n",
    "\n",
    "    path = [[posX,posY,flightAltitude]]\n",
    "    cont = 0\n",
    "    contLimit = 0\n",
    "\n",
    "    while not np.all(baseArray_path == 0) and cont < time_array.shape[0] and contLimit <=10000:\n",
    "        #Decide the direction\n",
    "        dir = random.randint(1,8)\n",
    "        movX,movY = movement(dir)\n",
    "\n",
    "        #Can move in that direction?\n",
    "        flagMove = canMove(posX,posY,movX,movY,baseArray_path)\n",
    "        contMove = 0\n",
    "\n",
    "        while contMove <= int(size/2) and flagMove:\n",
    "            #Move\n",
    "            posX = posX + movX\n",
    "            posY = posY + movY\n",
    "            #Upload Map/Grid \n",
    "            baseArray_path[posY,posX] = 0\n",
    "\n",
    "            #Can continue move in that direction?\n",
    "            flagMove = canMove(posX,posY,movX,movY,baseArray_path)\n",
    "            contMove += 1\n",
    "            #print(contMove)\n",
    "\n",
    "            if not flagMove and contMove <= int(size/2):\n",
    "                path.append([posX,posY,flightAltitude])\n",
    "                cont += 1\n",
    "        contLimit+=1\n",
    "\n",
    "    return baseArray_path,path,time_array\n"
   ]
  },
  {
   "cell_type": "code",
   "execution_count": 12,
   "metadata": {},
   "outputs": [],
   "source": [
    "mapa,path,time = randomPath(700,40,80,20,1,[5,5])   "
   ]
  },
  {
   "cell_type": "code",
   "execution_count": 13,
   "metadata": {},
   "outputs": [
    {
     "data": {
      "text/plain": [
       "[[5, 5, 1],\n",
       " [5, 1, 1],\n",
       " [3, 3, 1],\n",
       " [4, 4, 1],\n",
       " [3, 4, 1],\n",
       " [1, 2, 1],\n",
       " [1, 4, 1],\n",
       " [1, 1, 1],\n",
       " [1, 4, 1],\n",
       " [2, 3, 1],\n",
       " [1, 3, 1],\n",
       " [2, 3, 1],\n",
       " [3, 4, 1]]"
      ]
     },
     "execution_count": 13,
     "metadata": {},
     "output_type": "execute_result"
    }
   ],
   "source": [
    "path"
   ]
  },
  {
   "cell_type": "code",
   "execution_count": 20,
   "metadata": {},
   "outputs": [
    {
     "data": {
      "text/plain": [
       "array([43, 52, 76, 52, 61, 54, 70, 55, 70, 43, 43, 41])"
      ]
     },
     "execution_count": 20,
     "metadata": {},
     "output_type": "execute_result"
    }
   ],
   "source": [
    "time"
   ]
  },
  {
   "cell_type": "code",
   "execution_count": 51,
   "metadata": {},
   "outputs": [
    {
     "name": "stdout",
     "output_type": "stream",
     "text": [
      "[[ 5  5  1]\n",
      " [ 5 10  1]\n",
      " [ 1  6  1]\n",
      " [ 6  1  1]\n",
      " [10  1  1]\n",
      " [ 6  5  1]\n",
      " [ 6 10  1]\n",
      " [10 10  1]\n",
      " [ 8  4  1]\n",
      " [10  2  1]\n",
      " [10  3  1]]\n"
     ]
    },
    {
     "data": {
      "image/png": "[encoded data removed]",
      "text/plain": [
       "<Figure size 432x288 with 1 Axes>"
      ]
     },
     "metadata": {},
     "output_type": "display_data"
    }
   ],
   "source": [
    "mapa,path,time = randomPath(700,40,80,10,1,[5,5])   \n",
    "path = np.array(path)\n",
    "print(path)\n",
    "plt.style.use('Solarize_Light2')\n",
    "plt.plot(path[:,0],path[:,1])\n",
    "plt.xlim([0,10])\n",
    "plt.ylim([0,10])\n",
    "plt.gca().invert_yaxis()\n",
    "plt.show()"
   ]
  },
  {
   "cell_type": "code",
   "execution_count": 52,
   "metadata": {},
   "outputs": [
    {
     "data": {
      "text/plain": [
       "array([68, 43, 67, 56, 78, 66, 55, 74, 61, 47, 67])"
      ]
     },
     "execution_count": 52,
     "metadata": {},
     "output_type": "execute_result"
    }
   ],
   "source": [
    "time"
   ]
  },
  {
   "cell_type": "code",
   "execution_count": 4,
   "metadata": {},
   "outputs": [],
   "source": [
    "def cal_Total_Distance(pathArray):\n",
    "    distance_Total = 0\n",
    "    distance_Array = np.zeros(pathArray.shape[0])\n",
    "    for i in range(1,pathArray.shape[0]):\n",
    "        distance_Array[i-1] = np.linalg.norm(pathArray[i-1]-pathArray[i])\n",
    "    distance_Total = distance_Array.sum()\n",
    "        \n",
    "    return distance_Total,distance_Array\n",
    "\n",
    "def cal_Total_Turns(pathArray):\n",
    "    total_Turns = 0\n",
    "    flag_turn = np.zeros(pathArray.shape[0]-1)\n",
    "    for i in range(1,pathArray.shape[0]-1):\n",
    "        dot_val = np.dot(pathArray[i-1]-pathArray[i],pathArray[i+1]-pathArray[i])\n",
    "        mag_A = np.linalg.norm(pathArray[i-1]-pathArray[i])\n",
    "        mag_B = np.linalg.norm(pathArray[i+1]-pathArray[i])\n",
    "        fracc = dot_val/(np.dot(mag_A,mag_B)+1E-9)\n",
    "        #print(fracc)\n",
    "        flag = math.acos(fracc)\n",
    "        flag_turn[i-1] = flag\n",
    "        if flag != 0.0:\n",
    "            total_Turns+=1\n",
    "    return total_Turns"
   ]
  },
  {
   "cell_type": "code",
   "execution_count": 5,
   "metadata": {},
   "outputs": [],
   "source": [
    "def changeToTxt(pathArr,timeArr,idx):\n",
    "    time = ''\n",
    "    path = ''\n",
    "    for i in timeArr:\n",
    "        time =  time + str(i) + ','\n",
    "\n",
    "    for i in pathArr:\n",
    "        path = path + str(i) + ';'\n",
    "\n",
    "    final = str(idx)+'|'+path+'|'+time\n",
    "    final = final[:-1]\n",
    "    return final"
   ]
  },
  {
   "cell_type": "code",
   "execution_count": 6,
   "metadata": {},
   "outputs": [],
   "source": [
    "##### Ubuntu\n",
    "#file_path = '/home/sebastian/Desktop/'\n",
    "#file = open(file_path + 'path_v13.txt',mode=\"w\")\n",
    "\n",
    "##### Windows\n",
    "file_path = \"C:/Users/SEBASTIAN/OneDrive - Universidad de los Andes/OctavoSemestre/ProblemaEspecial/ML/path/\"\n",
    "file = open(file_path + 'path_v13.txt',mode=\"w\")\n",
    "file_pd = open(file_path + 'distanceTurn_v13.csv',mode=\"w\")\n",
    "file_pd.close()\n",
    "\n",
    "numRoad = 2000\n",
    "disTotalArray = np.zeros((numRoad,1))\n",
    "totalTurnsArray = np.zeros((numRoad,1))\n",
    "\n",
    "\n",
    "sizeGrid = 12 #Grid of nxn\n",
    "timeSimulation = 700 #Seconds\n",
    "minTime = 50 #minimum time between two points of the path.\n",
    "maxTime = 300 #Maximum time between two points of the path.\n",
    "initialCoor = [6,6,1] #Initial coordenates.\n",
    "\n",
    "\n",
    "\n",
    "for i in range(numRoad):\n",
    "    Flag = False\n",
    "    if i == 0:\n",
    "        while not Flag:\n",
    "            _,path,time = randomPath(timeSimulation,minTime,maxTime,sizeGrid,1,initialCoor)\n",
    "            #disTotal,disArray = cal_Total_Distance(path)\n",
    "            path = np.array(path)\n",
    "            total_turns = cal_Total_Turns(path)\n",
    "            if path.shape[0] == len(time) + 1:\n",
    "                Flag = True\n",
    "    else:\n",
    "        while not Flag:\n",
    "            _,path,time = randomPath(timeSimulation,minTime,maxTime,sizeGrid,1,path[-1,:])\n",
    "            #disTotal,disArray = cal_Total_Distance(path)\n",
    "            path = np.array(path)\n",
    "            total_turns = cal_Total_Turns(path)\n",
    "            if path.shape[0] == len(time) + 1:\n",
    "                Flag = True\n",
    "\n",
    "    #disTotalArray[i,0] = disTotal\n",
    "    totalTurnsArray[i,0] = total_turns\n",
    "\n",
    "    path = path.astype(int)\n",
    "    final = ''\n",
    "    final = changeToTxt(path,time,i+1)\n",
    "    file.write('\\n')\n",
    "    file.write(final)\n",
    "\n",
    "file.close()\n",
    "\n",
    "#d = {'disTotal':disTotalArray.reshape(-1),'totalTurns':totalTurnsArray.reshape(-1)}\n",
    "d = {'totalTurns':totalTurnsArray.reshape(-1)}\n",
    "pd_values = pd.DataFrame(data=d)\n",
    "pd_values.to_csv(file_path + 'distanceTurn_v13.csv',index=False)"
   ]
  }
 ],
 "metadata": {
  "interpreter": {
   "hash": "266be0e0c8276b7bfe251c2d8f1e576c20f55c449c1d3ba8e4d1594fa70e9632"
  },
  "kernelspec": {
   "display_name": "Python 3.9.7 64-bit ('ML2': conda)",
   "language": "python",
   "name": "python3"
  },
  "language_info": {
   "codemirror_mode": {
    "name": "ipython",
    "version": 3
   },
   "file_extension": ".py",
   "mimetype": "text/x-python",
   "name": "python",
   "nbconvert_exporter": "python",
   "pygments_lexer": "ipython3",
   "version": "3.9.7"
  },
  "orig_nbformat": 4
 },
 "nbformat": 4,
 "nbformat_minor": 2
}
