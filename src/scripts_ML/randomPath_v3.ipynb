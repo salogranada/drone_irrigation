{
 "cells": [
  {
   "cell_type": "code",
   "execution_count": 91,
   "metadata": {},
   "outputs": [],
   "source": [
    "import numpy as np\n",
    "import pandas as pd\n",
    "import matplotlib.pyplot as plt\n",
    "import random\n",
    "import math"
   ]
  },
  {
   "cell_type": "code",
   "execution_count": 92,
   "metadata": {},
   "outputs": [],
   "source": [
    "def movement(direction):\n",
    "    #1 - North\n",
    "    #2 - North-East\n",
    "    #3 - East\n",
    "    #.....\n",
    "    #8 - North-West\n",
    "    mov_x = 0\n",
    "    mov_y = 0\n",
    "    if direction == 1:\n",
    "        mov_y = 1\n",
    "    elif direction == 2:\n",
    "        mov_x = 1\n",
    "        mov_y = 1\n",
    "    elif direction == 3:\n",
    "        mov_x = 1\n",
    "    elif direction == 4:\n",
    "        mov_x = 1\n",
    "        mov_y = -1\n",
    "    elif direction == 5:\n",
    "        mov_y = -1\n",
    "    elif direction == 6:\n",
    "        mov_x = -1\n",
    "        mov_y = -1\n",
    "    elif direction == 7:\n",
    "        mov_x = -1\n",
    "    else:\n",
    "        mov_x = -1\n",
    "        mov_y = 1\n",
    "    return mov_y,mov_x    \n",
    "\n",
    "\n",
    "def canMove(posX,posY,movX,movY,map):\n",
    "    ans = False\n",
    "    posX1 = posX + movX\n",
    "    posY1 = posY + movY\n",
    "    if map[posX1,posY1] != 0:\n",
    "        ans = True\n",
    "    return ans\n",
    "\n",
    "\n",
    "\n",
    "def randomPath(maxTime,minTimePP,maxTimePP,size,flightAltitude,posArrayInitial):\n",
    "    time_array = np.array([],dtype=np.int16)\n",
    "    flagTime = False\n",
    "    \n",
    "    while not flagTime:\n",
    "        num = int(random.uniform(minTimePP,maxTimePP))\n",
    "        if time_array.sum()+num >= maxTime:\n",
    "            flagTime = True \n",
    "        else:\n",
    "            time_array = np.append(time_array,num)\n",
    "\n",
    "    posX,posY = posArrayInitial\n",
    "    \n",
    "    #Create the Map/Grid\n",
    "    baseArray_path = np.ones((size,size))\n",
    "    baseArray_path = np.pad(baseArray_path,pad_width=1)\n",
    "    baseArray_path[posX,posY] = 0\n",
    "\n",
    "    path = [[posX,posY,flightAltitude]]\n",
    "    cont = 0\n",
    "\n",
    "    while not np.all(baseArray_path == 0) and cont < time_array.shape[0]-1:\n",
    "        #Decide the direction\n",
    "        dir = random.randint(1,8)\n",
    "        movX,movY = movement(dir)\n",
    "\n",
    "        #Can move in that direction?\n",
    "        flagMove = canMove(posX,posY,movX,movY,baseArray_path)\n",
    "        contMove = 0\n",
    "\n",
    "        while contMove < int(size/2) and flagMove:\n",
    "            #Move\n",
    "            posX += movX\n",
    "            posY += movY\n",
    "            #Upload Map/Grid \n",
    "            baseArray_path[posX,posY] = 0\n",
    "\n",
    "            #Can continue move in that direction?\n",
    "            flagMove = canMove(posX,posY,movX,movY,baseArray_path)\n",
    "            contMove += 1\n",
    "\n",
    "            if not flagMove:\n",
    "                path.append([posX,posY,flightAltitude])\n",
    "                cont += 1\n",
    "\n",
    "    return baseArray_path,path,time_array"
   ]
  },
  {
   "cell_type": "code",
   "execution_count": 104,
   "metadata": {},
   "outputs": [],
   "source": [
    "mapa,path,time = randomPath(700,40,80,10,1,[1,1])   "
   ]
  },
  {
   "cell_type": "code",
   "execution_count": 105,
   "metadata": {},
   "outputs": [
    {
     "data": {
      "text/plain": [
       "array([[0., 0., 0., 0., 0., 0., 0., 0., 0., 0., 0., 0.],\n",
       "       [0., 0., 0., 0., 0., 0., 0., 1., 1., 1., 0., 0.],\n",
       "       [0., 1., 0., 0., 1., 1., 0., 1., 1., 0., 0., 0.],\n",
       "       [0., 1., 1., 0., 0., 1., 0., 1., 0., 1., 0., 0.],\n",
       "       [0., 1., 1., 1., 0., 0., 0., 0., 0., 0., 0., 0.],\n",
       "       [0., 1., 1., 1., 0., 0., 0., 1., 1., 0., 0., 0.],\n",
       "       [0., 1., 1., 0., 1., 1., 0., 1., 1., 0., 0., 0.],\n",
       "       [0., 1., 0., 1., 1., 1., 1., 1., 1., 0., 0., 0.],\n",
       "       [0., 0., 0., 0., 0., 0., 0., 1., 1., 0., 0., 0.],\n",
       "       [0., 1., 1., 1., 1., 1., 1., 0., 1., 0., 0., 0.],\n",
       "       [0., 1., 1., 1., 1., 1., 1., 1., 0., 0., 0., 0.],\n",
       "       [0., 0., 0., 0., 0., 0., 0., 0., 0., 0., 0., 0.]])"
      ]
     },
     "execution_count": 105,
     "metadata": {},
     "output_type": "execute_result"
    }
   ],
   "source": [
    "mapa"
   ]
  },
  {
   "cell_type": "code",
   "execution_count": 106,
   "metadata": {},
   "outputs": [
    {
     "data": {
      "text/plain": [
       "[[1, 1, 1],\n",
       " [1, 6, 1],\n",
       " [1, 2, 1],\n",
       " [4, 5, 1],\n",
       " [8, 1, 1],\n",
       " [10, 8, 1],\n",
       " [10, 10, 1],\n",
       " [1, 10, 1],\n",
       " [4, 7, 1],\n",
       " [4, 9, 1],\n",
       " [9, 9, 1]]"
      ]
     },
     "execution_count": 106,
     "metadata": {},
     "output_type": "execute_result"
    }
   ],
   "source": [
    "path"
   ]
  },
  {
   "cell_type": "code",
   "execution_count": 107,
   "metadata": {},
   "outputs": [
    {
     "data": {
      "text/plain": [
       "array([79, 58, 60, 57, 69, 50, 59, 42, 51, 47, 72])"
      ]
     },
     "execution_count": 107,
     "metadata": {},
     "output_type": "execute_result"
    }
   ],
   "source": [
    "time"
   ]
  },
  {
   "cell_type": "code",
   "execution_count": 108,
   "metadata": {},
   "outputs": [
    {
     "data": {
      "image/png": "[encoded data removed]",
      "text/plain": [
       "<Figure size 432x288 with 1 Axes>"
      ]
     },
     "metadata": {},
     "output_type": "display_data"
    }
   ],
   "source": [
    "path = np.array(path)\n",
    "plt.style.use('Solarize_Light2')\n",
    "plt.plot(path[:,0],path[:,1])\n",
    "plt.xlim([0,10])\n",
    "plt.ylim([0,10])\n",
    "plt.show()"
   ]
  },
  {
   "cell_type": "markdown",
   "metadata": {},
   "source": [
    "## RandomPath function\n",
    " **'randomPath' only create one path.**\n",
    "- maxTime = maximum time of one execution.\n",
    "- minTimePP = minimum random time between two points of the path.\n",
    "- maxTimePP = maximum random time between two points of the path.\n",
    "- sizeH = Height - maximum value.\n",
    "- sizeW = Width - maximum value.\n",
    "    - the grid has a height interval of [-sizeH,sizeH] and a Width interval of [-sizeW,sizeW]\n",
    "- flightAltitude = Flight altitude.\n",
    "- posArrayInitial = Initial position index."
   ]
  },
  {
   "cell_type": "code",
   "execution_count": 3,
   "metadata": {},
   "outputs": [],
   "source": [
    "def comparison(numInitial,numFinal):\n",
    "    sum = 0\n",
    "    if numInitial > numFinal:\n",
    "        sum = -1\n",
    "    elif numInitial < numFinal:\n",
    "        sum = 1\n",
    "    return sum\n",
    "\n",
    "\n",
    "def putLine(initIdx,finalIdx,matrix):\n",
    "    \n",
    "    #print(initIdx)\n",
    "    #print(finalIdx)\n",
    "\n",
    "    x_init = initIdx[0]\n",
    "    y_init = initIdx[1]\n",
    "    x_final = finalIdx[0]\n",
    "    y_final = finalIdx[1]\n",
    "\n",
    "    coor = np.array([initIdx])\n",
    "    sum_x = comparison(x_init,x_final)\n",
    "    sum_y = comparison(y_init,y_final)\n",
    "\n",
    "    cont = 0\n",
    "\n",
    "    while np.all(coor[-1,:]!=finalIdx) and cont <= 5:\n",
    "        x = x_init + sum_x\n",
    "        y = y_init + sum_y\n",
    "        coor = np.append(coor,[[x,y]],axis=0)\n",
    "        x_init = x\n",
    "        y_init = y\n",
    "        cont += 1\n",
    "    \n",
    "    #print(coor)\n",
    "\n",
    "    for i in coor:\n",
    "        matrix[i[0],i[1]] = 0\n",
    "        \n",
    "    return matrix,coor.tolist()\n"
   ]
  }
 ],
 "metadata": {
  "interpreter": {
   "hash": "266be0e0c8276b7bfe251c2d8f1e576c20f55c449c1d3ba8e4d1594fa70e9632"
  },
  "kernelspec": {
   "display_name": "Python 3.9.7 64-bit ('ML2': conda)",
   "language": "python",
   "name": "python3"
  },
  "language_info": {
   "codemirror_mode": {
    "name": "ipython",
    "version": 3
   },
   "file_extension": ".py",
   "mimetype": "text/x-python",
   "name": "python",
   "nbconvert_exporter": "python",
   "pygments_lexer": "ipython3",
   "version": "3.9.7"
  },
  "orig_nbformat": 4
 },
 "nbformat": 4,
 "nbformat_minor": 2
}
