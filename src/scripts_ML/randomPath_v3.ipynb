{
 "cells": [
  {
   "cell_type": "code",
   "execution_count": 2,
   "metadata": {},
   "outputs": [],
   "source": [
    "import numpy as np\n",
    "import pandas as pd\n",
    "import matplotlib.pyplot as plt\n",
    "import random\n",
    "import math"
   ]
  },
  {
   "cell_type": "code",
   "execution_count": null,
   "metadata": {},
   "outputs": [],
   "source": [
    "def movement(direction):\n",
    "    #1 - North\n",
    "    #2 - North-East\n",
    "    #3 - East\n",
    "    #.....\n",
    "    #8 - North-West\n",
    "    mov_x = 0\n",
    "    mov_y = 0\n",
    "    if direction == 1:\n",
    "        mov_y = 1\n",
    "    elif direction == 2:\n",
    "        mov_x = 1\n",
    "        mov_y = 1\n",
    "    elif direction == 3:\n",
    "        mov_x = 1\n",
    "    elif direction == 4:\n",
    "        mov_x = 1\n",
    "        mov_y = -1\n",
    "    elif direction == 5:\n",
    "        mov_y = -1\n",
    "    elif direction == 6:\n",
    "        mov_x = -1\n",
    "        mov_y = -1\n",
    "    elif direction == 7:\n",
    "        mov_x = -1\n",
    "    else:\n",
    "        mov_x = -1\n",
    "        mov_y = 1\n",
    "    return mov_x,mov_y    \n",
    "\n",
    "\n",
    "def canMove(posX,posY,movX,movY,map):\n",
    "    ans = False\n",
    "    posX1 = posX + movX\n",
    "    posY1 = posY + movY\n",
    "    if map[posX1,posY1] != 0:\n",
    "        ans = True\n",
    "    return ans\n",
    "\n",
    "\n",
    "\n",
    "def randomPath(maxTime,minTimePP,maxTimePP,size,flightAltitude,posArrayInitial):\n",
    "    time_array = np.array([],dtype=np.int16)\n",
    "    flagTime = False\n",
    "    \n",
    "    while not flagTime:\n",
    "        num = int(random.uniform(minTimePP,maxTimePP))\n",
    "        if time_array.sum()+num >= maxTime:\n",
    "            flagTime = True \n",
    "        else:\n",
    "            time_array = np.append(time_array,num)\n",
    "\n",
    "    posX,posY = posArrayInitial\n",
    "    \n",
    "    #Create the Map/Grid\n",
    "    baseArray_path = np.ones((size,size))\n",
    "    baseArray_path = np.pad(baseArray_path,pad_width=1)\n",
    "\n",
    "    flag = False\n",
    "\n",
    "    while not flag:\n",
    "        #Decide the direction\n",
    "        dir = random.randint(1,8)\n",
    "        movX,movY = movement(dir)\n",
    "\n",
    "        #Can move in that direction?\n",
    "        flagMove = canMove(posX,posY,movX,movY,baseArray_path)\n",
    "        contMove = 0\n",
    "        while contMove <= size/2 and flagMove:\n",
    "            #Move\n",
    "            posX += movX\n",
    "            posY += movY\n",
    "            #Upload Map/Grid \n",
    "            baseArray_path[posX,posY] = 0\n",
    "\n",
    "            #Can continue move in that direction?\n",
    "            flagMove = canMove(posX,posY,movX,movY,baseArray_path)\n",
    "            contMove += 1\n",
    "        \n",
    "\n",
    "    return baseArray_path\n",
    "\n",
    "\n",
    "    "
   ]
  },
  {
   "cell_type": "markdown",
   "metadata": {},
   "source": [
    "## RandomPath function\n",
    " **'randomPath' only create one path.**\n",
    "- maxTime = maximum time of one execution.\n",
    "- minTimePP = minimum random time between two points of the path.\n",
    "- maxTimePP = maximum random time between two points of the path.\n",
    "- sizeH = Height - maximum value.\n",
    "- sizeW = Width - maximum value.\n",
    "    - the grid has a height interval of [-sizeH,sizeH] and a Width interval of [-sizeW,sizeW]\n",
    "- flightAltitude = Flight altitude.\n",
    "- posArrayInitial = Initial position index."
   ]
  },
  {
   "cell_type": "code",
   "execution_count": 3,
   "metadata": {},
   "outputs": [],
   "source": [
    "def comparison(numInitial,numFinal):\n",
    "    sum = 0\n",
    "    if numInitial > numFinal:\n",
    "        sum = -1\n",
    "    elif numInitial < numFinal:\n",
    "        sum = 1\n",
    "    return sum\n",
    "\n",
    "\n",
    "def putLine(initIdx,finalIdx,matrix):\n",
    "    \n",
    "    #print(initIdx)\n",
    "    #print(finalIdx)\n",
    "\n",
    "    x_init = initIdx[0]\n",
    "    y_init = initIdx[1]\n",
    "    x_final = finalIdx[0]\n",
    "    y_final = finalIdx[1]\n",
    "\n",
    "    coor = np.array([initIdx])\n",
    "    sum_x = comparison(x_init,x_final)\n",
    "    sum_y = comparison(y_init,y_final)\n",
    "\n",
    "    cont = 0\n",
    "\n",
    "    while np.all(coor[-1,:]!=finalIdx) and cont <= 5:\n",
    "        x = x_init + sum_x\n",
    "        y = y_init + sum_y\n",
    "        coor = np.append(coor,[[x,y]],axis=0)\n",
    "        x_init = x\n",
    "        y_init = y\n",
    "        cont += 1\n",
    "    \n",
    "    #print(coor)\n",
    "\n",
    "    for i in coor:\n",
    "        matrix[i[0],i[1]] = 0\n",
    "        \n",
    "    return matrix,coor.tolist()\n"
   ]
  },
  {
   "cell_type": "code",
   "execution_count": 55,
   "metadata": {},
   "outputs": [],
   "source": [
    "def randomPath(maxTime,minTimePP,maxTimePP,sizeH,sizeW,flightAltitude,posArrayInitial):\n",
    "    time_array = np.array([],dtype=np.int16)\n",
    "    flagTime = False\n",
    "    \n",
    "    while not flagTime:\n",
    "        num = int(random.uniform(minTimePP,maxTimePP))\n",
    "        if time_array.sum()+num >= maxTime:\n",
    "            flagTime = True \n",
    "        else:\n",
    "            time_array = np.append(time_array,num)\n",
    "    \n",
    "    baseArray_path = np.ones((sizeH*2+1,sizeW*2+1))\n",
    "    flagIdx = False\n",
    "    pathArray = []\n",
    "    cont = 0\n",
    "    x_idx = posArrayInitial[0]\n",
    "    y_idx = posArrayInitial[1]\n",
    "    pathArray.append([x_idx,y_idx,flightAltitude])\n",
    "    #baseArray_path[x_idx,y_idx] = 0\n",
    "    \n",
    "    while not np.all(baseArray_path == 0) and cont < time_array.shape[0]-1:\n",
    "        \n",
    "        while not flagIdx:\n",
    "            x_dir = random.randint(-1,1)\n",
    "            y_dir = random.randint(-1,1)\n",
    "            \n",
    "            try:\n",
    "                x_idx_1 = x_idx + x_dir\n",
    "                y_idx_1 = y_idx + y_dir\n",
    "                baseArray_path[x_idx,y_idx]\n",
    "            except IndexError:\n",
    "                continue\n",
    "            \n",
    "            if x_idx_1 >= 0 and y_idx_1 >= 0:\n",
    "                x_idx = x_idx_1\n",
    "                y_idx = y_idx_1\n",
    "                x_idx_1 = 0\n",
    "                y_idx_1 = 0\n",
    "\n",
    "            if baseArray_path[x_idx,y_idx] == 1 and x_idx-sizeW != pathArray[cont][0] and y_idx-sizeH != pathArray[cont][1]:\n",
    "                flagIdx = True\n",
    "                pathArray.append([x_idx-sizeW,y_idx-sizeH,flightAltitude])\n",
    "                #baseArray_path[x_idx,y_idx] = 0\n",
    "                \n",
    "            else:\n",
    "                continue\n",
    "        \n",
    "        flagIdx = False\n",
    "        cont+=1\n",
    "    return baseArray_path,np.array(pathArray),time_array\n",
    "\n",
    "mapa,path,time = randomPath(700,40,80,2,2,1,[0,0])          "
   ]
  },
  {
   "cell_type": "code",
   "execution_count": 152,
   "metadata": {},
   "outputs": [
    {
     "name": "stdout",
     "output_type": "stream",
     "text": [
      "[[2, 1], [3, 1]]\n"
     ]
    }
   ],
   "source": [
    "coor = []\n",
    "coorD = [[2,1],[3,1]]\n",
    "[coor.append(i) for i in coorD]\n",
    "print(coor)"
   ]
  },
  {
   "cell_type": "code",
   "execution_count": 159,
   "metadata": {},
   "outputs": [
    {
     "data": {
      "text/plain": [
       "True"
      ]
     },
     "execution_count": 159,
     "metadata": {},
     "output_type": "execute_result"
    }
   ],
   "source": [
    "np.all([2,1] in coorD)"
   ]
  },
  {
   "cell_type": "code",
   "execution_count": null,
   "metadata": {},
   "outputs": [],
   "source": []
  },
  {
   "cell_type": "code",
   "execution_count": 57,
   "metadata": {},
   "outputs": [
    {
     "data": {
      "text/plain": [
       "array([[ 0,  0,  1],\n",
       "       [-1, -2,  1],\n",
       "       [-2, -1,  1],\n",
       "       [-3, -2,  1],\n",
       "       [-4, -4,  1],\n",
       "       [-3, -6,  1],\n",
       "       [-4, -5,  1],\n",
       "       [-6, -6,  1],\n",
       "       [-7, -5,  1],\n",
       "       [-5, -6,  1],\n",
       "       [-6, -5,  1],\n",
       "       [-7, -4,  1]])"
      ]
     },
     "execution_count": 57,
     "metadata": {},
     "output_type": "execute_result"
    }
   ],
   "source": [
    "path"
   ]
  },
  {
   "cell_type": "code",
   "execution_count": 14,
   "metadata": {},
   "outputs": [
    {
     "name": "stdout",
     "output_type": "stream",
     "text": [
      "[[1. 1. 1. 1. 1. 1. 1. 1. 1. 1. 1.]\n",
      " [1. 1. 1. 1. 1. 1. 1. 1. 1. 1. 1.]\n",
      " [1. 1. 1. 1. 1. 1. 1. 1. 1. 1. 1.]\n",
      " [1. 1. 1. 1. 1. 1. 1. 1. 1. 1. 1.]\n",
      " [1. 1. 1. 1. 1. 1. 1. 1. 1. 1. 1.]\n",
      " [1. 1. 1. 1. 1. 1. 1. 1. 1. 1. 1.]\n",
      " [1. 1. 1. 1. 1. 1. 1. 1. 1. 1. 1.]\n",
      " [1. 1. 1. 1. 1. 1. 1. 1. 1. 1. 1.]\n",
      " [1. 1. 1. 1. 1. 1. 1. 1. 1. 1. 1.]\n",
      " [1. 1. 1. 1. 1. 1. 1. 1. 1. 1. 1.]\n",
      " [1. 1. 1. 1. 1. 1. 1. 1. 1. 1. 1.]]\n"
     ]
    }
   ],
   "source": [
    "sizeH = 5\n",
    "sizeW = 5\n",
    "baseArray_path = np.ones((sizeH*2+1,sizeW*2+1))\n",
    "print(baseArray_path)"
   ]
  },
  {
   "cell_type": "code",
   "execution_count": 7,
   "metadata": {},
   "outputs": [
    {
     "name": "stdout",
     "output_type": "stream",
     "text": [
      "12 12\n"
     ]
    }
   ],
   "source": [
    "totalBaseArray_path = np.ones((sizeH*2+2,sizeW*2+2))\n",
    "idxH,idxW = totalBaseArray_path.shape\n",
    "print(idxH,idxW)"
   ]
  },
  {
   "cell_type": "code",
   "execution_count": 15,
   "metadata": {},
   "outputs": [
    {
     "name": "stdout",
     "output_type": "stream",
     "text": [
      "[[0. 0. 0. 0. 0. 0. 0. 0. 0. 0. 0. 0. 0. 0. 0.]\n",
      " [0. 0. 0. 0. 0. 0. 0. 0. 0. 0. 0. 0. 0. 0. 0.]\n",
      " [0. 0. 1. 1. 1. 1. 1. 1. 1. 1. 1. 1. 1. 0. 0.]\n",
      " [0. 0. 1. 1. 1. 1. 1. 1. 1. 1. 1. 1. 1. 0. 0.]\n",
      " [0. 0. 1. 1. 1. 1. 1. 1. 1. 1. 1. 1. 1. 0. 0.]\n",
      " [0. 0. 1. 1. 1. 1. 1. 1. 1. 1. 1. 1. 1. 0. 0.]\n",
      " [0. 0. 1. 1. 1. 1. 1. 1. 1. 1. 1. 1. 1. 0. 0.]\n",
      " [0. 0. 1. 1. 1. 1. 1. 1. 1. 1. 1. 1. 1. 0. 0.]\n",
      " [0. 0. 1. 1. 1. 1. 1. 1. 1. 1. 1. 1. 1. 0. 0.]\n",
      " [0. 0. 1. 1. 1. 1. 1. 1. 1. 1. 1. 1. 1. 0. 0.]\n",
      " [0. 0. 1. 1. 1. 1. 1. 1. 1. 1. 1. 1. 1. 0. 0.]\n",
      " [0. 0. 1. 1. 1. 1. 1. 1. 1. 1. 1. 1. 1. 0. 0.]\n",
      " [0. 0. 1. 1. 1. 1. 1. 1. 1. 1. 1. 1. 1. 0. 0.]\n",
      " [0. 0. 0. 0. 0. 0. 0. 0. 0. 0. 0. 0. 0. 0. 0.]\n",
      " [0. 0. 0. 0. 0. 0. 0. 0. 0. 0. 0. 0. 0. 0. 0.]]\n"
     ]
    }
   ],
   "source": [
    "baseArray_path = np.pad(baseArray_path,pad_width=2)\n",
    "print(baseArray_path)"
   ]
  },
  {
   "cell_type": "code",
   "execution_count": 113,
   "metadata": {},
   "outputs": [],
   "source": [
    "\n"
   ]
  },
  {
   "cell_type": "code",
   "execution_count": 114,
   "metadata": {},
   "outputs": [],
   "source": [
    "test_matrix = np.ones((5,5))\n",
    "matrix,coor = putLine([3,0],[3,4],test_matrix)"
   ]
  },
  {
   "cell_type": "code",
   "execution_count": 115,
   "metadata": {},
   "outputs": [
    {
     "data": {
      "text/plain": [
       "array([[1., 1., 1., 1., 1.],\n",
       "       [1., 1., 1., 1., 1.],\n",
       "       [1., 1., 1., 1., 1.],\n",
       "       [0., 0., 0., 0., 0.],\n",
       "       [1., 1., 1., 1., 1.]])"
      ]
     },
     "execution_count": 115,
     "metadata": {},
     "output_type": "execute_result"
    }
   ],
   "source": [
    "matrix"
   ]
  },
  {
   "cell_type": "code",
   "execution_count": 120,
   "metadata": {},
   "outputs": [
    {
     "data": {
      "text/plain": [
       "array([[3, 0],\n",
       "       [3, 1],\n",
       "       [3, 2],\n",
       "       [3, 3],\n",
       "       [3, 4]])"
      ]
     },
     "execution_count": 120,
     "metadata": {},
     "output_type": "execute_result"
    }
   ],
   "source": [
    "coor"
   ]
  },
  {
   "cell_type": "code",
   "execution_count": 127,
   "metadata": {},
   "outputs": [
    {
     "data": {
      "text/plain": [
       "False"
      ]
     },
     "execution_count": 127,
     "metadata": {},
     "output_type": "execute_result"
    }
   ],
   "source": [
    "np.any([[3,0],[0,0]] == coor)"
   ]
  },
  {
   "cell_type": "code",
   "execution_count": 143,
   "metadata": {},
   "outputs": [
    {
     "data": {
      "text/plain": [
       "array([0, 3])"
      ]
     },
     "execution_count": 143,
     "metadata": {},
     "output_type": "execute_result"
    }
   ],
   "source": [
    "cosa = np.intersect1d([[3,0],[0,0]],coor)\n",
    "cosa"
   ]
  },
  {
   "cell_type": "code",
   "execution_count": 124,
   "metadata": {},
   "outputs": [
    {
     "data": {
      "text/plain": [
       "True"
      ]
     },
     "execution_count": 124,
     "metadata": {},
     "output_type": "execute_result"
    }
   ],
   "source": [
    "[3,0] in coor"
   ]
  },
  {
   "cell_type": "code",
   "execution_count": 126,
   "metadata": {},
   "outputs": [
    {
     "data": {
      "text/plain": [
       "False"
      ]
     },
     "execution_count": 126,
     "metadata": {},
     "output_type": "execute_result"
    }
   ],
   "source": [
    "[[3,0],[0,0]] == coor"
   ]
  },
  {
   "cell_type": "code",
   "execution_count": null,
   "metadata": {},
   "outputs": [],
   "source": []
  }
 ],
 "metadata": {
  "interpreter": {
   "hash": "266be0e0c8276b7bfe251c2d8f1e576c20f55c449c1d3ba8e4d1594fa70e9632"
  },
  "kernelspec": {
   "display_name": "Python 3.9.7 64-bit ('ML2': conda)",
   "language": "python",
   "name": "python3"
  },
  "language_info": {
   "codemirror_mode": {
    "name": "ipython",
    "version": 3
   },
   "file_extension": ".py",
   "mimetype": "text/x-python",
   "name": "python",
   "nbconvert_exporter": "python",
   "pygments_lexer": "ipython3",
   "version": "3.9.7"
  },
  "orig_nbformat": 4
 },
 "nbformat": 4,
 "nbformat_minor": 2
}
