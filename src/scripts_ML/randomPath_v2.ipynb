{
 "cells": [
  {
   "cell_type": "code",
   "execution_count": 105,
   "metadata": {},
   "outputs": [],
   "source": [
    "import numpy as np\n",
    "import pandas as pd\n",
    "import matplotlib.pyplot as plt\n",
    "import random\n",
    "import math"
   ]
  },
  {
   "cell_type": "code",
   "execution_count": 28,
   "metadata": {},
   "outputs": [],
   "source": [
    "sizeH = 2\n",
    "sizeW = 2\n",
    "baseArray = np.ones((sizeH*2+1,sizeW*2+1),dtype=int)"
   ]
  },
  {
   "cell_type": "code",
   "execution_count": 29,
   "metadata": {},
   "outputs": [
    {
     "name": "stdout",
     "output_type": "stream",
     "text": [
      "[[1 1 1 1 1]\n",
      " [1 1 1 1 1]\n",
      " [1 1 1 1 1]\n",
      " [1 1 1 1 1]\n",
      " [1 1 1 1 1]]\n"
     ]
    }
   ],
   "source": [
    "print(baseArray)"
   ]
  },
  {
   "cell_type": "code",
   "execution_count": 141,
   "metadata": {},
   "outputs": [],
   "source": [
    "### Create the path\n",
    "\n",
    "def randomPath(maxTime,minTimePP,maxTimePP,sizeH,sizeW,flightAltitude,posArrayInitial):\n",
    "    time_array = np.array([],dtype=np.int16)\n",
    "    flagTime = False\n",
    "    \n",
    "    while not flagTime:\n",
    "        num = int(random.uniform(minTimePP,maxTimePP))\n",
    "        if time_array.sum()+num >= maxTime:\n",
    "            flagTime = True \n",
    "        else:\n",
    "            time_array = np.append(time_array,num)\n",
    "\n",
    "    baseArray_path = np.ones((sizeH*2+1,sizeW*2+1))\n",
    "    flagIdx = False\n",
    "    pathArray = []\n",
    "    cont = 0\n",
    "    x_idx = posArrayInitial[0]\n",
    "    y_idx = posArrayInitial[1]\n",
    "    pathArray.append([x_idx-sizeW,y_idx-sizeH,flightAltitude])\n",
    "    baseArray_path[x_idx,y_idx] = 0\n",
    "\n",
    "    while not np.all(baseArray_path == 0) and cont < time_array.shape[0]-1:\n",
    "        while not flagIdx:\n",
    "            x_idx = random.randint(0,sizeH*2)\n",
    "            y_idx = random.randint(0,sizeH*2)\n",
    "            if baseArray_path[x_idx,y_idx] == 1 and x_idx-sizeW != pathArray[cont][0] and y_idx-sizeH != pathArray[cont][1]:\n",
    "                flagIdx = True\n",
    "                pathArray.append([x_idx-sizeW,y_idx-sizeH,flightAltitude])\n",
    "                baseArray_path[x_idx,y_idx] = 0\n",
    "            else:\n",
    "                continue\n",
    "        flagIdx = False\n",
    "        cont+=1\n",
    "    return baseArray_path,np.array(pathArray),time_array\n",
    "\n",
    "mapa,path,time = randomPath(700,40,80,2,2,1,[0,0])"
   ]
  },
  {
   "cell_type": "code",
   "execution_count": 142,
   "metadata": {},
   "outputs": [
    {
     "name": "stdout",
     "output_type": "stream",
     "text": [
      "[[0. 0. 1. 1. 1.]\n",
      " [1. 0. 1. 1. 1.]\n",
      " [1. 1. 1. 1. 0.]\n",
      " [1. 0. 0. 0. 0.]\n",
      " [0. 0. 1. 0. 1.]]\n"
     ]
    }
   ],
   "source": [
    "print(mapa)"
   ]
  },
  {
   "cell_type": "code",
   "execution_count": 143,
   "metadata": {},
   "outputs": [
    {
     "name": "stdout",
     "output_type": "stream",
     "text": [
      "[[-2 -2  1]\n",
      " [ 1 -1  1]\n",
      " [ 0  2  1]\n",
      " [ 2 -1  1]\n",
      " [ 1  2  1]\n",
      " [-2 -1  1]\n",
      " [ 1  1  1]\n",
      " [ 2 -2  1]\n",
      " [-1 -1  1]\n",
      " [ 2  1  1]\n",
      " [ 1  0  1]]\n"
     ]
    }
   ],
   "source": [
    "print(path)"
   ]
  },
  {
   "cell_type": "code",
   "execution_count": 144,
   "metadata": {},
   "outputs": [
    {
     "data": {
      "image/png": "[encoded data removed]",
      "text/plain": [
       "<Figure size 432x288 with 1 Axes>"
      ]
     },
     "metadata": {
      "needs_background": "light"
     },
     "output_type": "display_data"
    }
   ],
   "source": [
    "plt.plot(path[:,0],path[:,1])\n",
    "plt.show()"
   ]
  },
  {
   "cell_type": "code",
   "execution_count": 112,
   "metadata": {},
   "outputs": [],
   "source": [
    "def cal_Total_Distance(pathArray):\n",
    "    distance_Total = 0\n",
    "    distance_Array = np.zeros(pathArray.shape[0])\n",
    "    for i in range(1,pathArray.shape[0]):\n",
    "        distance_Array[i-1] = np.linalg.norm(pathArray[i-1]-pathArray[i])\n",
    "    distance_Total = distance_Array.sum()\n",
    "        \n",
    "    return distance_Total,distance_Array\n",
    "\n",
    "def cal_Total_Turns(pathArray):\n",
    "    total_Turns = 0\n",
    "    flag_turn = np.zeros(pathArray.shape[0]-1)\n",
    "    for i in range(1,pathArray.shape[0]-1):\n",
    "        dot_val = np.dot(pathArray[i-1]-pathArray[i],pathArray[i+1]-pathArray[i])\n",
    "        mag_A = np.linalg.norm(pathArray[i-1]-pathArray[i])\n",
    "        mag_B = np.linalg.norm(pathArray[i+1]-pathArray[i])\n",
    "        fracc = dot_val/(np.dot(mag_A,mag_B)+1E-9)\n",
    "        #print(fracc)\n",
    "        flag = math.acos(fracc)\n",
    "        flag_turn[i-1] = flag\n",
    "        if flag != 0.0:\n",
    "            total_Turns+=1\n",
    "    return total_Turns"
   ]
  },
  {
   "cell_type": "code",
   "execution_count": 146,
   "metadata": {},
   "outputs": [
    {
     "name": "stdout",
     "output_type": "stream",
     "text": [
      "9\n"
     ]
    }
   ],
   "source": [
    "turns = cal_Total_Turns(path)\n",
    "print(turns)"
   ]
  },
  {
   "cell_type": "code",
   "execution_count": 120,
   "metadata": {},
   "outputs": [],
   "source": [
    "def changeToTxt(pathArr,timeArr,idx):\n",
    "    time = ''\n",
    "    path = ''\n",
    "    for i in timeArr:\n",
    "        time =  time + str(i) + ','\n",
    "\n",
    "    for i in pathArr:\n",
    "        path = path + str(i) + ';'\n",
    "\n",
    "    final = str(idx)+'|'+path+'|'+time\n",
    "    final = final[:-1]\n",
    "    return final"
   ]
  },
  {
   "cell_type": "code",
   "execution_count": 140,
   "metadata": {},
   "outputs": [],
   "source": [
    "##### Windows\n",
    "file_path = \"C:/Users/SEBASTIAN/OneDrive - Universidad de los Andes/OctavoSemestre/ProblemaEspecial/ML/path/\"\n",
    "file = open(file_path + 'path_v9.txt',mode=\"w\")\n",
    "file_pd = open(file_path + 'distanceTurn_v9.csv',mode=\"w\")\n",
    "\n",
    "file_pd.close()\n",
    "numRoad = 500\n",
    "disTotalArray = np.zeros((numRoad,1))\n",
    "totalTurnsArray = np.zeros((numRoad,1))\n",
    "sizeGrid = 2\n",
    "\n",
    "for i in range(numRoad):\n",
    "    if i == 0:\n",
    "        _,path,time = randomPath(700,40,70,sizeGrid,sizeGrid,1,[0,0])\n",
    "        #disTotal,disArray = cal_Total_Distance(path)\n",
    "        total_turns = cal_Total_Turns(path)\n",
    "    else:\n",
    "        _,path,time = randomPath(700,40,70,sizeGrid,sizeGrid,1,path[-1,:]+sizeGrid)\n",
    "        #disTotal,disArray = cal_Total_Distance(path)\n",
    "        total_turns = cal_Total_Turns(path)\n",
    "\n",
    "    #disTotalArray[i,0] = disTotal\n",
    "    totalTurnsArray[i,0] = total_turns\n",
    "\n",
    "    path = path.astype(int)\n",
    "    final = ''\n",
    "    final = changeToTxt(path,time,i+1)\n",
    "    file.write('\\n')\n",
    "    file.write(final)\n",
    "\n",
    "file.close()\n",
    "\n",
    "#d = {'disTotal':disTotalArray.reshape(-1),'totalTurns':totalTurnsArray.reshape(-1)}\n",
    "d = {'totalTurns':totalTurnsArray.reshape(-1)}\n",
    "pd_values = pd.DataFrame(data=d)\n",
    "pd_values.to_csv(file_path + 'distanceTurn_v9.csv',index=False)"
   ]
  }
 ],
 "metadata": {
  "interpreter": {
   "hash": "266be0e0c8276b7bfe251c2d8f1e576c20f55c449c1d3ba8e4d1594fa70e9632"
  },
  "kernelspec": {
   "display_name": "Python 3.9.7 64-bit ('ML2': conda)",
   "language": "python",
   "name": "python3"
  },
  "language_info": {
   "codemirror_mode": {
    "name": "ipython",
    "version": 3
   },
   "file_extension": ".py",
   "mimetype": "text/x-python",
   "name": "python",
   "nbconvert_exporter": "python",
   "pygments_lexer": "ipython3",
   "version": "3.9.7"
  },
  "orig_nbformat": 4
 },
 "nbformat": 4,
 "nbformat_minor": 2
}
