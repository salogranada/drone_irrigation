{
 "cells": [
  {
   "cell_type": "code",
   "execution_count": 2,
   "metadata": {},
   "outputs": [],
   "source": [
    "import numpy as np\n",
    "import pandas as pd\n",
    "import matplotlib.pyplot as plt\n",
    "from sklearn.linear_model import LinearRegression\n",
    "from sklearn.preprocessing import MinMaxScaler,RobustScaler\n",
    "from sklearn.model_selection import train_test_split\n",
    "from sklearn.metrics import r2_score,mean_squared_error"
   ]
  },
  {
   "cell_type": "markdown",
   "metadata": {},
   "source": [
    "### Read the data"
   ]
  },
  {
   "cell_type": "code",
   "execution_count": 3,
   "metadata": {},
   "outputs": [],
   "source": [
    "main_path = r\"C:\\Users\\SEBASTIAN\\OneDrive - Universidad de los Andes\\OctavoSemestre\\ProblemaEspecial\\ML/dataSets/\"\n",
    "pd_data_v1 = pd.read_csv(main_path+'dataSet_dron_v1.csv')\n",
    "pd_data_v4 = pd.read_csv(main_path + 'dataSet_dron_v8_total_salo.csv')\n",
    "\n",
    "main_path = r\"C:\\Users\\SEBASTIAN\\OneDrive - Universidad de los Andes\\OctavoSemestre\\ProblemaEspecial\\ML/paquetes/v8 y v9/\"\n",
    "path_energy = main_path + \"featuresEnergy_v8.csv\"\n",
    "path_energy_v2 = main_path + \"featuresEnergy_v9.csv\"\n",
    "path_turns = main_path + \"distanceTurn_v8.csv\"\n",
    "path_turns_v2 = main_path + \"distanceTurn_v9.csv\"\n",
    "\n",
    "data_energy = pd.read_csv(path_energy)\n",
    "data_energy_v2 = pd.read_csv(path_energy_v2)\n",
    "\n",
    "pd_data_v4 = pd.concat([data_energy,data_energy_v2])\n",
    "\n",
    "#pd_data_v1.rename(columns={\"Energy_v0\":\"Energy\"},inplace=True)"
   ]
  },
  {
   "cell_type": "markdown",
   "metadata": {},
   "source": [
    "Por lo que veo Energy_V1 fue algo que calcule yo, y el final es Energy_V0, entonces se trabajar con Energy_V0"
   ]
  },
  {
   "cell_type": "code",
   "execution_count": 3,
   "metadata": {},
   "outputs": [],
   "source": [
    "frames = [pd_data_v1,pd_data_v4]\n",
    "pd_data = pd.concat(frames)"
   ]
  },
  {
   "cell_type": "code",
   "execution_count": 19,
   "metadata": {},
   "outputs": [
    {
     "data": {
      "text/html": [
       "<div>\n",
       "<style scoped>\n",
       "    .dataframe tbody tr th:only-of-type {\n",
       "        vertical-align: middle;\n",
       "    }\n",
       "\n",
       "    .dataframe tbody tr th {\n",
       "        vertical-align: top;\n",
       "    }\n",
       "\n",
       "    .dataframe thead th {\n",
       "        text-align: right;\n",
       "    }\n",
       "</style>\n",
       "<table border=\"1\" class=\"dataframe\">\n",
       "  <thead>\n",
       "    <tr style=\"text-align: right;\">\n",
       "      <th></th>\n",
       "      <th>path_num</th>\n",
       "      <th>missing_points</th>\n",
       "      <th>teo_point_time</th>\n",
       "      <th>sim_drone_time</th>\n",
       "      <th>teo_point_dist</th>\n",
       "      <th>teo_Xdist</th>\n",
       "      <th>teo_Ydist</th>\n",
       "      <th>teo_point_vel</th>\n",
       "      <th>Energy</th>\n",
       "      <th>totalTurns</th>\n",
       "    </tr>\n",
       "  </thead>\n",
       "  <tbody>\n",
       "    <tr>\n",
       "      <th>0</th>\n",
       "      <td>1.0</td>\n",
       "      <td>6.0</td>\n",
       "      <td>140.0</td>\n",
       "      <td>137.600006</td>\n",
       "      <td>4.472136</td>\n",
       "      <td>2.0</td>\n",
       "      <td>4.0</td>\n",
       "      <td>0.031944</td>\n",
       "      <td>2.797667e+08</td>\n",
       "      <td>5.0</td>\n",
       "    </tr>\n",
       "    <tr>\n",
       "      <th>1</th>\n",
       "      <td>1.0</td>\n",
       "      <td>5.0</td>\n",
       "      <td>63.0</td>\n",
       "      <td>62.149994</td>\n",
       "      <td>6.403124</td>\n",
       "      <td>-4.0</td>\n",
       "      <td>-5.0</td>\n",
       "      <td>0.101637</td>\n",
       "      <td>1.324583e+08</td>\n",
       "      <td>4.0</td>\n",
       "    </tr>\n",
       "    <tr>\n",
       "      <th>2</th>\n",
       "      <td>1.0</td>\n",
       "      <td>4.0</td>\n",
       "      <td>78.0</td>\n",
       "      <td>74.050003</td>\n",
       "      <td>5.385165</td>\n",
       "      <td>-2.0</td>\n",
       "      <td>5.0</td>\n",
       "      <td>0.069041</td>\n",
       "      <td>2.716606e+07</td>\n",
       "      <td>5.0</td>\n",
       "    </tr>\n",
       "    <tr>\n",
       "      <th>3</th>\n",
       "      <td>1.0</td>\n",
       "      <td>3.0</td>\n",
       "      <td>95.0</td>\n",
       "      <td>93.599976</td>\n",
       "      <td>9.219544</td>\n",
       "      <td>6.0</td>\n",
       "      <td>-7.0</td>\n",
       "      <td>0.097048</td>\n",
       "      <td>1.662099e+08</td>\n",
       "      <td>5.0</td>\n",
       "    </tr>\n",
       "    <tr>\n",
       "      <th>4</th>\n",
       "      <td>1.0</td>\n",
       "      <td>2.0</td>\n",
       "      <td>102.0</td>\n",
       "      <td>100.649963</td>\n",
       "      <td>3.605551</td>\n",
       "      <td>-2.0</td>\n",
       "      <td>3.0</td>\n",
       "      <td>0.035349</td>\n",
       "      <td>8.003795e+07</td>\n",
       "      <td>5.0</td>\n",
       "    </tr>\n",
       "  </tbody>\n",
       "</table>\n",
       "</div>"
      ],
      "text/plain": [
       "   path_num  missing_points  teo_point_time  sim_drone_time  teo_point_dist  \\\n",
       "0       1.0             6.0           140.0      137.600006        4.472136   \n",
       "1       1.0             5.0            63.0       62.149994        6.403124   \n",
       "2       1.0             4.0            78.0       74.050003        5.385165   \n",
       "3       1.0             3.0            95.0       93.599976        9.219544   \n",
       "4       1.0             2.0           102.0      100.649963        3.605551   \n",
       "\n",
       "   teo_Xdist  teo_Ydist  teo_point_vel        Energy  totalTurns  \n",
       "0        2.0        4.0       0.031944  2.797667e+08         5.0  \n",
       "1       -4.0       -5.0       0.101637  1.324583e+08         4.0  \n",
       "2       -2.0        5.0       0.069041  2.716606e+07         5.0  \n",
       "3        6.0       -7.0       0.097048  1.662099e+08         5.0  \n",
       "4       -2.0        3.0       0.035349  8.003795e+07         5.0  "
      ]
     },
     "execution_count": 19,
     "metadata": {},
     "output_type": "execute_result"
    }
   ],
   "source": [
    "pd_data.head()"
   ]
  },
  {
   "cell_type": "code",
   "execution_count": 4,
   "metadata": {},
   "outputs": [],
   "source": [
    "pd_data = pd_data_v4"
   ]
  },
  {
   "cell_type": "code",
   "execution_count": 5,
   "metadata": {},
   "outputs": [
    {
     "name": "stdout",
     "output_type": "stream",
     "text": [
      "<class 'pandas.core.frame.DataFrame'>\n",
      "Int64Index: 1175 entries, 0 to 849\n",
      "Data columns (total 9 columns):\n",
      " #   Column          Non-Null Count  Dtype  \n",
      "---  ------          --------------  -----  \n",
      " 0   path_num        1175 non-null   int64  \n",
      " 1   missing_points  1175 non-null   int64  \n",
      " 2   teo_point_time  1175 non-null   int64  \n",
      " 3   sim_drone_time  1175 non-null   float64\n",
      " 4   teo_point_dist  1175 non-null   float64\n",
      " 5   teo_Xdist       1175 non-null   int64  \n",
      " 6   teo_Ydist       1175 non-null   int64  \n",
      " 7   teo_point_vel   1175 non-null   float64\n",
      " 8   Energy          1175 non-null   float64\n",
      "dtypes: float64(4), int64(5)\n",
      "memory usage: 91.8 KB\n"
     ]
    }
   ],
   "source": [
    "pd_data.info()"
   ]
  },
  {
   "cell_type": "code",
   "execution_count": 6,
   "metadata": {},
   "outputs": [
    {
     "data": {
      "text/html": [
       "<div>\n",
       "<style scoped>\n",
       "    .dataframe tbody tr th:only-of-type {\n",
       "        vertical-align: middle;\n",
       "    }\n",
       "\n",
       "    .dataframe tbody tr th {\n",
       "        vertical-align: top;\n",
       "    }\n",
       "\n",
       "    .dataframe thead th {\n",
       "        text-align: right;\n",
       "    }\n",
       "</style>\n",
       "<table border=\"1\" class=\"dataframe\">\n",
       "  <thead>\n",
       "    <tr style=\"text-align: right;\">\n",
       "      <th></th>\n",
       "      <th>path_num</th>\n",
       "      <th>missing_points</th>\n",
       "      <th>teo_point_time</th>\n",
       "      <th>sim_drone_time</th>\n",
       "      <th>teo_point_dist</th>\n",
       "      <th>teo_Xdist</th>\n",
       "      <th>teo_Ydist</th>\n",
       "      <th>teo_point_vel</th>\n",
       "      <th>Energy</th>\n",
       "    </tr>\n",
       "  </thead>\n",
       "  <tbody>\n",
       "    <tr>\n",
       "      <th>0</th>\n",
       "      <td>1</td>\n",
       "      <td>6</td>\n",
       "      <td>140</td>\n",
       "      <td>137.600006</td>\n",
       "      <td>4.472136</td>\n",
       "      <td>2</td>\n",
       "      <td>4</td>\n",
       "      <td>0.031944</td>\n",
       "      <td>2.797667e+08</td>\n",
       "    </tr>\n",
       "    <tr>\n",
       "      <th>1</th>\n",
       "      <td>1</td>\n",
       "      <td>5</td>\n",
       "      <td>63</td>\n",
       "      <td>62.149994</td>\n",
       "      <td>6.403124</td>\n",
       "      <td>-4</td>\n",
       "      <td>-5</td>\n",
       "      <td>0.101637</td>\n",
       "      <td>1.324583e+08</td>\n",
       "    </tr>\n",
       "    <tr>\n",
       "      <th>2</th>\n",
       "      <td>1</td>\n",
       "      <td>4</td>\n",
       "      <td>78</td>\n",
       "      <td>74.050003</td>\n",
       "      <td>5.385165</td>\n",
       "      <td>-2</td>\n",
       "      <td>5</td>\n",
       "      <td>0.069041</td>\n",
       "      <td>2.716606e+07</td>\n",
       "    </tr>\n",
       "    <tr>\n",
       "      <th>3</th>\n",
       "      <td>1</td>\n",
       "      <td>3</td>\n",
       "      <td>95</td>\n",
       "      <td>93.599976</td>\n",
       "      <td>9.219544</td>\n",
       "      <td>6</td>\n",
       "      <td>-7</td>\n",
       "      <td>0.097048</td>\n",
       "      <td>1.662099e+08</td>\n",
       "    </tr>\n",
       "    <tr>\n",
       "      <th>4</th>\n",
       "      <td>1</td>\n",
       "      <td>2</td>\n",
       "      <td>102</td>\n",
       "      <td>100.649963</td>\n",
       "      <td>3.605551</td>\n",
       "      <td>-2</td>\n",
       "      <td>3</td>\n",
       "      <td>0.035349</td>\n",
       "      <td>8.003795e+07</td>\n",
       "    </tr>\n",
       "  </tbody>\n",
       "</table>\n",
       "</div>"
      ],
      "text/plain": [
       "   path_num  missing_points  teo_point_time  sim_drone_time  teo_point_dist  \\\n",
       "0         1               6             140      137.600006        4.472136   \n",
       "1         1               5              63       62.149994        6.403124   \n",
       "2         1               4              78       74.050003        5.385165   \n",
       "3         1               3              95       93.599976        9.219544   \n",
       "4         1               2             102      100.649963        3.605551   \n",
       "\n",
       "   teo_Xdist  teo_Ydist  teo_point_vel        Energy  \n",
       "0          2          4       0.031944  2.797667e+08  \n",
       "1         -4         -5       0.101637  1.324583e+08  \n",
       "2         -2          5       0.069041  2.716606e+07  \n",
       "3          6         -7       0.097048  1.662099e+08  \n",
       "4         -2          3       0.035349  8.003795e+07  "
      ]
     },
     "execution_count": 6,
     "metadata": {},
     "output_type": "execute_result"
    }
   ],
   "source": [
    "pd_data.head()"
   ]
  },
  {
   "cell_type": "code",
   "execution_count": 7,
   "metadata": {},
   "outputs": [],
   "source": [
    "X = pd_data.drop(columns=[\"missing_points\",\"path_num\",\"sim_drone_time\",\"Energy\"],axis=1)\n",
    "y = pd_data[\"Energy\"]\n",
    "\n",
    "x_train,x_test,y_train,y_test = train_test_split(X,y,test_size=0.2,random_state=35)\n",
    "\n",
    "X_train_mean = x_train.mean(axis=0)\n",
    "X_train_std = x_train.std(axis=0)"
   ]
  },
  {
   "cell_type": "code",
   "execution_count": 8,
   "metadata": {},
   "outputs": [],
   "source": [
    "X_train_mean_array = X_train_mean.to_numpy()\n",
    "X_train_std_array = X_train_std.to_numpy()\n",
    "x_train_array = x_train.to_numpy()\n",
    "x_test_array = x_test.to_numpy()"
   ]
  },
  {
   "cell_type": "code",
   "execution_count": 9,
   "metadata": {},
   "outputs": [
    {
     "name": "stdout",
     "output_type": "stream",
     "text": [
      "(940, 5)\n",
      "(235, 5)\n",
      "(5,)\n",
      "(5,)\n"
     ]
    }
   ],
   "source": [
    "print(x_train_array.shape)\n",
    "print(x_test_array.shape)\n",
    "print(X_train_mean_array.shape)\n",
    "print(X_train_std_array.shape)\n"
   ]
  },
  {
   "cell_type": "code",
   "execution_count": 10,
   "metadata": {},
   "outputs": [],
   "source": [
    "x_train_array = (x_train_array-X_train_mean_array)/X_train_std_array\n",
    "x_test_array = (x_test_array-X_train_mean_array)/X_train_std_array"
   ]
  },
  {
   "cell_type": "code",
   "execution_count": 11,
   "metadata": {},
   "outputs": [
    {
     "name": "stdout",
     "output_type": "stream",
     "text": [
      "[ 7.27550408e-17  9.70476654e-15  1.13384479e-17  1.51179305e-17\n",
      " -1.78391580e-15]\n",
      "[0.99946794 0.99946794 0.99946794 0.99946794 0.99946794]\n",
      "[ 0.0344143  -0.01145857  0.10049577 -0.07810532 -0.03472751]\n",
      "[1.06448399 1.06841773 1.0251686  0.98271529 1.03869804]\n"
     ]
    }
   ],
   "source": [
    "print(x_train_array.mean(axis=0))\n",
    "print(x_train_array.std(axis=0))\n",
    "print(x_test_array.mean(axis=0))\n",
    "print(x_test_array.std(axis=0))"
   ]
  },
  {
   "cell_type": "code",
   "execution_count": 12,
   "metadata": {},
   "outputs": [
    {
     "name": "stdout",
     "output_type": "stream",
     "text": [
      "940 235\n"
     ]
    }
   ],
   "source": [
    "print(len(x_train),len(x_test))"
   ]
  },
  {
   "cell_type": "code",
   "execution_count": 13,
   "metadata": {},
   "outputs": [
    {
     "data": {
      "text/html": [
       "<div>\n",
       "<style scoped>\n",
       "    .dataframe tbody tr th:only-of-type {\n",
       "        vertical-align: middle;\n",
       "    }\n",
       "\n",
       "    .dataframe tbody tr th {\n",
       "        vertical-align: top;\n",
       "    }\n",
       "\n",
       "    .dataframe thead th {\n",
       "        text-align: right;\n",
       "    }\n",
       "</style>\n",
       "<table border=\"1\" class=\"dataframe\">\n",
       "  <thead>\n",
       "    <tr style=\"text-align: right;\">\n",
       "      <th></th>\n",
       "      <th>teo_point_time</th>\n",
       "      <th>teo_point_dist</th>\n",
       "      <th>teo_Xdist</th>\n",
       "      <th>teo_Ydist</th>\n",
       "      <th>teo_point_vel</th>\n",
       "    </tr>\n",
       "  </thead>\n",
       "  <tbody>\n",
       "    <tr>\n",
       "      <th>0</th>\n",
       "      <td>-0.553135</td>\n",
       "      <td>-0.448270</td>\n",
       "      <td>-0.691516</td>\n",
       "      <td>0.71603</td>\n",
       "      <td>-0.106561</td>\n",
       "    </tr>\n",
       "    <tr>\n",
       "      <th>1</th>\n",
       "      <td>-0.179153</td>\n",
       "      <td>0.316042</td>\n",
       "      <td>1.415533</td>\n",
       "      <td>-0.36898</td>\n",
       "      <td>0.402591</td>\n",
       "    </tr>\n",
       "    <tr>\n",
       "      <th>2</th>\n",
       "      <td>-0.665330</td>\n",
       "      <td>-0.797969</td>\n",
       "      <td>0.362009</td>\n",
       "      <td>0.71603</td>\n",
       "      <td>-0.470955</td>\n",
       "    </tr>\n",
       "    <tr>\n",
       "      <th>3</th>\n",
       "      <td>-0.216551</td>\n",
       "      <td>-0.251182</td>\n",
       "      <td>-1.042690</td>\n",
       "      <td>-0.36898</td>\n",
       "      <td>-0.206122</td>\n",
       "    </tr>\n",
       "    <tr>\n",
       "      <th>4</th>\n",
       "      <td>-1.039312</td>\n",
       "      <td>-0.251182</td>\n",
       "      <td>-0.340341</td>\n",
       "      <td>-1.09232</td>\n",
       "      <td>0.976286</td>\n",
       "    </tr>\n",
       "  </tbody>\n",
       "</table>\n",
       "</div>"
      ],
      "text/plain": [
       "   teo_point_time  teo_point_dist  teo_Xdist  teo_Ydist  teo_point_vel\n",
       "0       -0.553135       -0.448270  -0.691516    0.71603      -0.106561\n",
       "1       -0.179153        0.316042   1.415533   -0.36898       0.402591\n",
       "2       -0.665330       -0.797969   0.362009    0.71603      -0.470955\n",
       "3       -0.216551       -0.251182  -1.042690   -0.36898      -0.206122\n",
       "4       -1.039312       -0.251182  -0.340341   -1.09232       0.976286"
      ]
     },
     "execution_count": 13,
     "metadata": {},
     "output_type": "execute_result"
    }
   ],
   "source": [
    "columns = x_train.columns\n",
    "x_train_v1 = pd.DataFrame(data=x_train_array,columns=columns)\n",
    "x_test_v1 = pd.DataFrame(data=x_test_array,columns=columns)\n",
    "x_train_v1.head()\n"
   ]
  },
  {
   "cell_type": "markdown",
   "metadata": {},
   "source": [
    "### Analisis de los datos"
   ]
  },
  {
   "cell_type": "code",
   "execution_count": 18,
   "metadata": {},
   "outputs": [
    {
     "data": {
      "text/plain": [
       "array([[<AxesSubplot:title={'center':'teo_point_time'}>,\n",
       "        <AxesSubplot:title={'center':'teo_point_dist'}>],\n",
       "       [<AxesSubplot:title={'center':'teo_Xdist'}>,\n",
       "        <AxesSubplot:title={'center':'teo_Ydist'}>],\n",
       "       [<AxesSubplot:title={'center':'teo_point_vel'}>, <AxesSubplot:>]],\n",
       "      dtype=object)"
      ]
     },
     "execution_count": 18,
     "metadata": {},
     "output_type": "execute_result"
    },
    {
     "data": {
      "image/png": "[encoded data removed]",
      "text/plain": [
       "<Figure size 432x288 with 6 Axes>"
      ]
     },
     "metadata": {
      "needs_background": "light"
     },
     "output_type": "display_data"
    }
   ],
   "source": [
    "x_train_v1.hist()"
   ]
  },
  {
   "cell_type": "code",
   "execution_count": 14,
   "metadata": {},
   "outputs": [
    {
     "name": "stdout",
     "output_type": "stream",
     "text": [
      "425034955.55257934\n",
      "1296522.8837545956\n"
     ]
    }
   ],
   "source": [
    "print(y_train.max())\n",
    "print(y_train.min())"
   ]
  },
  {
   "cell_type": "markdown",
   "metadata": {},
   "source": [
    "### Fit - LinearRegression"
   ]
  },
  {
   "cell_type": "code",
   "execution_count": 15,
   "metadata": {},
   "outputs": [],
   "source": [
    "linearRe = LinearRegression()\n",
    "model = linearRe.fit(x_train_v1,y_train)"
   ]
  },
  {
   "cell_type": "markdown",
   "metadata": {},
   "source": [
    "### Accuracy"
   ]
  },
  {
   "cell_type": "code",
   "execution_count": 26,
   "metadata": {},
   "outputs": [
    {
     "name": "stdout",
     "output_type": "stream",
     "text": [
      "r2 score: 0.21991084676279082\n",
      "RMSE score: 3837603601.0339427\n"
     ]
    }
   ],
   "source": [
    "predict = linearRe.predict(x_test_v1)\n",
    "\n",
    "r2 = r2_score(y_test,predict)\n",
    "rmse = mean_squared_error(y_test,predict,squared=False)\n",
    "\n",
    "\n",
    "print(f'r2 score: {r2}')\n",
    "print(f'RMSE score: {rmse}')"
   ]
  },
  {
   "cell_type": "code",
   "execution_count": 27,
   "metadata": {},
   "outputs": [
    {
     "data": {
      "image/png": "[encoded data removed]",
      "text/plain": [
       "<Figure size 432x288 with 1 Axes>"
      ]
     },
     "metadata": {
      "needs_background": "light"
     },
     "output_type": "display_data"
    },
    {
     "data": {
      "image/png": "[encoded data removed]",
      "text/plain": [
       "<Figure size 432x288 with 1 Axes>"
      ]
     },
     "metadata": {
      "needs_background": "light"
     },
     "output_type": "display_data"
    },
    {
     "data": {
      "image/png": "[encoded data removed]",
      "text/plain": [
       "<Figure size 432x288 with 1 Axes>"
      ]
     },
     "metadata": {
      "needs_background": "light"
     },
     "output_type": "display_data"
    }
   ],
   "source": [
    "for i in range(3):\n",
    "    plt.scatter(x_test_array[:,i],predict)\n",
    "    plt.scatter(x_test_array[:,i],y_test)\n",
    "    plt.show()"
   ]
  },
  {
   "cell_type": "code",
   "execution_count": 17,
   "metadata": {},
   "outputs": [
    {
     "name": "stdout",
     "output_type": "stream",
     "text": [
      "r2 score: -0.00596437868594446\n",
      "RMSE score: 57188908.101708025\n"
     ]
    }
   ],
   "source": [
    "predict = linearRe.predict(x_test_v1)\n",
    "\n",
    "r2 = r2_score(y_test,predict)\n",
    "rmse = mean_squared_error(y_test,predict,squared=False)\n",
    "\n",
    "\n",
    "print(f'r2 score: {r2}')\n",
    "print(f'RMSE score: {rmse}')"
   ]
  },
  {
   "cell_type": "code",
   "execution_count": 18,
   "metadata": {},
   "outputs": [
    {
     "data": {
      "image/png": "[encoded data removed]",
      "text/plain": [
       "<Figure size 432x288 with 1 Axes>"
      ]
     },
     "metadata": {
      "needs_background": "light"
     },
     "output_type": "display_data"
    },
    {
     "data": {
      "image/png": "[encoded data removed]",
      "text/plain": [
       "<Figure size 432x288 with 1 Axes>"
      ]
     },
     "metadata": {
      "needs_background": "light"
     },
     "output_type": "display_data"
    },
    {
     "data": {
      "image/png": "[encoded data removed]",
      "text/plain": [
       "<Figure size 432x288 with 1 Axes>"
      ]
     },
     "metadata": {
      "needs_background": "light"
     },
     "output_type": "display_data"
    }
   ],
   "source": [
    "for i in range(3):\n",
    "    plt.scatter(x_test_array[:,i],predict)\n",
    "    plt.scatter(x_test_array[:,i],y_test)\n",
    "    plt.show()"
   ]
  },
  {
   "cell_type": "markdown",
   "metadata": {},
   "source": [
    "Prueba con datos v8 y v9, completa"
   ]
  },
  {
   "cell_type": "code",
   "execution_count": 16,
   "metadata": {},
   "outputs": [
    {
     "name": "stdout",
     "output_type": "stream",
     "text": [
      "r2 score: 0.24705459355734227\n",
      "RMSE score: 41970439.05314368\n"
     ]
    }
   ],
   "source": [
    "predict = linearRe.predict(x_test_v1)\n",
    "\n",
    "r2 = r2_score(y_test,predict)\n",
    "rmse = mean_squared_error(y_test,predict,squared=False)\n",
    "\n",
    "\n",
    "print(f'r2 score: {r2}')\n",
    "print(f'RMSE score: {rmse}')"
   ]
  },
  {
   "cell_type": "code",
   "execution_count": 20,
   "metadata": {},
   "outputs": [
    {
     "data": {
      "image/png": "[encoded data removed]",
      "text/plain": [
       "<Figure size 432x288 with 1 Axes>"
      ]
     },
     "metadata": {
      "needs_background": "light"
     },
     "output_type": "display_data"
    },
    {
     "data": {
      "image/png": "[encoded data removed]",
      "text/plain": [
       "<Figure size 432x288 with 1 Axes>"
      ]
     },
     "metadata": {
      "needs_background": "light"
     },
     "output_type": "display_data"
    },
    {
     "data": {
      "image/png": "[encoded data removed]",
      "text/plain": [
       "<Figure size 432x288 with 1 Axes>"
      ]
     },
     "metadata": {
      "needs_background": "light"
     },
     "output_type": "display_data"
    },
    {
     "data": {
      "image/png": "[encoded data removed]",
      "text/plain": [
       "<Figure size 432x288 with 1 Axes>"
      ]
     },
     "metadata": {
      "needs_background": "light"
     },
     "output_type": "display_data"
    },
    {
     "data": {
      "image/png": "[encoded data removed]",
      "text/plain": [
       "<Figure size 432x288 with 1 Axes>"
      ]
     },
     "metadata": {
      "needs_background": "light"
     },
     "output_type": "display_data"
    }
   ],
   "source": [
    "titles = [\"teo_point_time\",\t\"teo_point_dist\", \"teo_Xdist\",\"teo_Ydist\",\"teo_point_vel\"]\n",
    "for i in range(5):\n",
    "    plt.scatter(x_test_array[:,i],predict)\n",
    "    plt.scatter(x_test_array[:,i],y_test)\n",
    "    plt.title(titles[i])\n",
    "    plt.show()"
   ]
  },
  {
   "cell_type": "markdown",
   "metadata": {},
   "source": [
    "### Analisis con los Thresholds"
   ]
  },
  {
   "cell_type": "markdown",
   "metadata": {},
   "source": [
    "thre_1 = 1E10 , thre_2 = 4E9"
   ]
  },
  {
   "cell_type": "code",
   "execution_count": 50,
   "metadata": {},
   "outputs": [],
   "source": [
    "y_train_prueba = y_train\n",
    "y_train_prueba = y_train_prueba.reset_index(drop=True)\n",
    "\n",
    "y_test_prueba = y_test\n",
    "y_test_prueba = y_test_prueba.reset_index(drop=True)"
   ]
  },
  {
   "cell_type": "code",
   "execution_count": 51,
   "metadata": {},
   "outputs": [],
   "source": [
    "x_train_thre_1 = x_train_v1[y_train_prueba <= 1.0E10]\n",
    "x_train_thre_2 = x_train_v1[y_train_prueba <= 4.0E9]\n",
    "\n",
    "x_test_thre_1 = x_test_v1[y_test_prueba <= 1.0E10]\n",
    "x_test_thre_2 = x_test_v1[y_test_prueba <= 4.0E9]"
   ]
  },
  {
   "cell_type": "code",
   "execution_count": 52,
   "metadata": {},
   "outputs": [],
   "source": [
    "y_train_thre_1 = y_train[y_train <= 1.0E10]\n",
    "y_train_thre_2 = y_train[y_train <= 4.0E9]\n",
    "\n",
    "y_test_thre_1 = y_test[y_test <= 1.0E10]\n",
    "y_test_thre_2 = y_test[y_test <= 4.0E9]"
   ]
  },
  {
   "cell_type": "code",
   "execution_count": 53,
   "metadata": {},
   "outputs": [],
   "source": [
    "linearRe_thre_1 = LinearRegression()\n",
    "linearRe_thre_2 = LinearRegression()\n",
    "\n",
    "model_thre_1 = linearRe_thre_1.fit(x_train_thre_1,y_train_thre_1)\n",
    "model_thre_2 = linearRe_thre_2.fit(x_train_thre_2,y_train_thre_2)"
   ]
  },
  {
   "cell_type": "code",
   "execution_count": 55,
   "metadata": {},
   "outputs": [
    {
     "name": "stdout",
     "output_type": "stream",
     "text": [
      "r2 score thre1: 0.1375828088013037\n",
      "RMSE score thre1: 2204947716.3858743\n",
      "r2 score thre2: 0.07368024640926785\n",
      "RMSE score thre2: 878286859.159675\n"
     ]
    }
   ],
   "source": [
    "predict_thre_1 = linearRe_thre_1.predict(x_test_thre_1)\n",
    "predict_thre_2 = linearRe_thre_2.predict(x_test_thre_2)\n",
    "\n",
    "r2_thre1 = r2_score(y_test_thre_1,predict_thre_1)\n",
    "rmse_thre1 = mean_squared_error(y_test_thre_1,predict_thre_1,squared=False)\n",
    "\n",
    "r2_thre2 = r2_score(y_test_thre_2,predict_thre_2)\n",
    "rmse_thre2 = mean_squared_error(y_test_thre_2,predict_thre_2,squared=False)\n",
    "\n",
    "print(f'r2 score thre1: {r2_thre1}')\n",
    "print(f'RMSE score thre1: {rmse_thre1}')\n",
    "\n",
    "print(f'r2 score thre2: {r2_thre2}')\n",
    "print(f'RMSE score thre2: {rmse_thre2}')"
   ]
  },
  {
   "cell_type": "code",
   "execution_count": null,
   "metadata": {},
   "outputs": [],
   "source": []
  }
 ],
 "metadata": {
  "interpreter": {
   "hash": "266be0e0c8276b7bfe251c2d8f1e576c20f55c449c1d3ba8e4d1594fa70e9632"
  },
  "kernelspec": {
   "display_name": "Python 3.9.7 64-bit ('ML2': conda)",
   "language": "python",
   "name": "python3"
  },
  "language_info": {
   "codemirror_mode": {
    "name": "ipython",
    "version": 3
   },
   "file_extension": ".py",
   "mimetype": "text/x-python",
   "name": "python",
   "nbconvert_exporter": "python",
   "pygments_lexer": "ipython3",
   "version": "3.9.7"
  },
  "orig_nbformat": 4
 },
 "nbformat": 4,
 "nbformat_minor": 2
}
