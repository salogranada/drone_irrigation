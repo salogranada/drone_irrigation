{
 "cells": [
  {
   "cell_type": "markdown",
   "source": [
    "<h2> Taller 4 - CoppeliaSim y Python</h2>\n",
    "\n",
    "<br>Requiere que los archivos 'sim.py', 'simConst.py', 'remoteapi.dll' estén alojados en la misma carpeta que este cuaderno de Jupyter\n",
    "<br><h4> Instrucciones</h4>\n",
    "<br>1. Abra la escena robotPlanar.ttt\n",
    "<br>2. Seleccionando la base del robot desde la jerarquía de escena, presione botón derecho del mouse y agregue un archivo de script mediante Add -> Associated child script -> Non threaded. Aparecerá un pequeño ícono de documento junto al nombre del robot en la escena de jerarquía.\n",
    "<br>3. En el script es posible incluir código de programación, escritos en lenguaje LUA. Para nuestro caso, todo el código que requeriremos es habilitar el API remoto, asignando un puerto de comunicación. En la función <b>sysCall_init()</b> agregue la siguiente línea:\n",
    "<br> \n",
    "<font face = \"Monospace\"> <pre> simRemoteApi.start(19999)</font>\n",
    "<br> Proceda a continuación con las actividades:"
   ],
   "metadata": {}
  },
  {
   "cell_type": "code",
   "execution_count": 1,
   "source": [
    "import vrep\n",
    "import numpy as np"
   ],
   "outputs": [],
   "metadata": {}
  },
  {
   "cell_type": "markdown",
   "source": [
    "### 1. Establecer la conexión\n",
    "Utilizaremos las funciones del API Remoto de VREP.\n",
    "<br> Para más detalles refiérase a la documentación de la librería:\n",
    "<br> http://www.coppeliarobotics.com/helpFiles/en/remoteApiFunctionsPython.htm"
   ],
   "metadata": {}
  },
  {
   "cell_type": "code",
   "execution_count": null,
   "source": [
    "def connect(port):\n",
    "# Establece la conexión a VREP\n",
    "# port debe coincidir con el puerto de conexión en VREP\n",
    "# retorna el número de cliente o -1 si no puede establecer conexión\n",
    "    vrep.simxFinish(-1) # just in case, close all opened connections\n",
    "    clientID=vrep.simxStart('127.0.0.1',port,True,True,2000,5) # Conectarse\n",
    "    if clientID == 0: print(\"conectado a\", port)\n",
    "    else: print(\"no se pudo conectar\")\n",
    "    return clientID\n"
   ],
   "outputs": [],
   "metadata": {}
  },
  {
   "cell_type": "code",
   "execution_count": null,
   "source": [
    "# Conectarse al servidor de VREP\n",
    "# *** ejecutar cada vez que se reinicia la simulación ***\n",
    "clientID = connect(19999)"
   ],
   "outputs": [
    {
     "output_type": "stream",
     "name": "stdout",
     "text": [
      "('conectado a', 19999)\n"
     ]
    }
   ],
   "metadata": {}
  },
  {
   "cell_type": "markdown",
   "source": [
    "<h3> 2. Obtener los manejadores (handlers)</h3>\n",
    "Un manejador (handler) es un número identificador que asigna VREP para cada uno de los elementos de la escena. A través de su manejador se puede hacer referencia a un elemento en específico de la escena."
   ],
   "metadata": {}
  },
  {
   "cell_type": "code",
   "execution_count": null,
   "source": [
    "# Obtenemos el manejador para el dummy \n",
    "returnCode,handle=vrep.simxGetObjectHandle(clientID,'Dummy',vrep.simx_opmode_blocking)\n",
    "dummy = handle\n",
    "print(dummy)"
   ],
   "outputs": [
    {
     "output_type": "stream",
     "name": "stdout",
     "text": [
      "41\n"
     ]
    }
   ],
   "metadata": {}
  },
  {
   "cell_type": "code",
   "execution_count": null,
   "source": [
    "# A partir de su manejador podemos accionar sobre el objeto,\n",
    "# por ejemplo, obtener su posición\n",
    "returnCode,pos=vrep.simxGetObjectPosition(clientID, dummy, -1, vrep.simx_opmode_blocking)\n",
    "print(pos)"
   ],
   "outputs": [
    {
     "output_type": "stream",
     "name": "stdout",
     "text": [
      "[0.5, 0.0, -1.1175870895385742e-08]\n"
     ]
    }
   ],
   "metadata": {}
  },
  {
   "cell_type": "code",
   "execution_count": null,
   "source": [
    "# Obtenemos los manejadores para cada una de las articulaciones del robot\n",
    "ret,joint1=vrep.simxGetObjectHandle(clientID,'joint1',vrep.simx_opmode_blocking)\n",
    "ret,joint2=vrep.simxGetObjectHandle(clientID,'joint2',vrep.simx_opmode_blocking)\n",
    "print(joint1, joint2)"
   ],
   "outputs": [
    {
     "output_type": "stream",
     "name": "stdout",
     "text": [
      "(37, 39)\n"
     ]
    }
   ],
   "metadata": {}
  },
  {
   "cell_type": "markdown",
   "source": [
    "<h3> 3. ¿Cuál es la posición de las articulaciones?</h3>\n",
    "Utilizando los manejadores, podemos obtener información de los elementos."
   ],
   "metadata": {}
  },
  {
   "cell_type": "code",
   "execution_count": null,
   "source": [
    "# leemos la posición de joint1, en radianes.\n",
    "returnCode, pos1 = vrep.simxGetJointPosition(clientID, joint1, vrep.simx_opmode_blocking)\n",
    "print(pos1)"
   ],
   "outputs": [
    {
     "output_type": "stream",
     "name": "stdout",
     "text": [
      "0.0\n"
     ]
    }
   ],
   "metadata": {}
  },
  {
   "cell_type": "code",
   "execution_count": null,
   "source": [
    "returnCode, pos2 = vrep.simxGetJointPosition(clientID, joint2, vrep.simx_opmode_blocking)\n",
    "print(pos2)"
   ],
   "outputs": [
    {
     "output_type": "stream",
     "name": "stdout",
     "text": [
      "0.0\n"
     ]
    }
   ],
   "metadata": {}
  },
  {
   "cell_type": "markdown",
   "source": [
    "<h3> 4. ... y movemos el robot</h3>\n",
    "Utilizando los manejadores, podemos enviar parámetros a los elementos."
   ],
   "metadata": {}
  },
  {
   "cell_type": "code",
   "execution_count": null,
   "source": [
    "# enviamos la posición de joint1, en radianes.\n",
    "q1 = -30 * np.pi/180\n",
    "returnCode = vrep.simxSetJointTargetPosition(clientID, joint1, q1, vrep.simx_opmode_oneshot)\n",
    "print(returnCode)"
   ],
   "outputs": [
    {
     "output_type": "stream",
     "name": "stdout",
     "text": [
      "0\n"
     ]
    }
   ],
   "metadata": {}
  },
  {
   "cell_type": "code",
   "execution_count": null,
   "source": [
    "q2 = 30 * np.pi/180\n",
    "returnCode = vrep.simxSetJointTargetPosition(clientID, joint2, q2, vrep.simx_opmode_oneshot)\n",
    "print(returnCode)"
   ],
   "outputs": [
    {
     "output_type": "stream",
     "name": "stdout",
     "text": [
      "1\n"
     ]
    }
   ],
   "metadata": {}
  },
  {
   "cell_type": "code",
   "execution_count": null,
   "source": [
    "# Ponemos todo el código junto\n",
    "# conectamos\n",
    "clientID = connect(19999)\n",
    "# obtenemos los manejadores\n",
    "returnCode,handle=vrep.simxGetObjectHandle(clientID,'Dummy',vrep.simx_opmode_blocking)\n",
    "dummy = handle\n",
    "ret,joint1=vrep.simxGetObjectHandle(clientID,'joint1',vrep.simx_opmode_blocking)\n",
    "ret,joint2=vrep.simxGetObjectHandle(clientID,'joint2',vrep.simx_opmode_blocking)\n",
    "#movemos\n",
    "q1 = -90 * np.pi/180\n",
    "returnCode = vrep.simxSetJointTargetPosition(clientID, joint1, q1, vrep.simx_opmode_oneshot)\n",
    "q2 = 0 * np.pi/180\n",
    "returnCode = vrep.simxSetJointTargetPosition(clientID, joint2, q2, vrep.simx_opmode_oneshot)\n",
    "\n"
   ],
   "outputs": [
    {
     "output_type": "stream",
     "name": "stdout",
     "text": [
      "('conectado a', 19999)\n"
     ]
    }
   ],
   "metadata": {}
  },
  {
   "cell_type": "code",
   "execution_count": null,
   "source": [
    "returnCode,pos=vrep.simxGetObjectPosition(clientID, dummy, -1, vrep.simx_opmode_blocking)\n",
    "print(pos)"
   ],
   "outputs": [
    {
     "output_type": "stream",
     "name": "stdout",
     "text": [
      "[-0.0003155320882797241, -0.4999999403953552, -7.264316082000732e-08]\n"
     ]
    }
   ],
   "metadata": {}
  },
  {
   "cell_type": "code",
   "execution_count": null,
   "source": [],
   "outputs": [],
   "metadata": {}
  }
 ],
 "metadata": {
  "kernelspec": {
   "name": "python3",
   "display_name": "Python 3.6.9 64-bit"
  },
  "language_info": {
   "name": "python",
   "version": "3.6.9",
   "mimetype": "text/x-python",
   "codemirror_mode": {
    "name": "ipython",
    "version": 3
   },
   "pygments_lexer": "ipython3",
   "nbconvert_exporter": "python",
   "file_extension": ".py"
  },
  "interpreter": {
   "hash": "31f2aee4e71d21fbe5cf8b01ff0e069b9275f58929596ceb00d14d90e3e16cd6"
  }
 },
 "nbformat": 4,
 "nbformat_minor": 2
}